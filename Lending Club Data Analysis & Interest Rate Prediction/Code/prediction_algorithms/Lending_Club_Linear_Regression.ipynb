{
 "cells": [
  {
   "cell_type": "markdown",
   "metadata": {},
   "source": [
    "### Linear Regression\n",
    "\n",
    "- We will apply linear regression on the lending club cleaned and filtered dataset, that we have already cleaned and filtered considering our persona Rick who is a risk averse. We will use the dataset to predict the interest rate.\n",
    "- For Dataset preparation: \n",
    "  - Standarding our data using SciKit Learn StandardScaler()\n",
    "  - Train-Test split 70:30\n",
    "  \n",
    "- Model:\n",
    "  - Linear Regression without regularization\n",
    "  \n",
    "- Hyperparameter tuning\n",
    "  \n",
    "  - Linear Regression with Lasso regularization (L1 Penalty)\n",
    "  - Linear Regression with Ridge regularization (L2 Penalty)\n",
    "  - Linear Regression with ElasticNet regularization (L1 and L2 Penalty)\n",
    "    \n",
    "- Model Error calculation:\n",
    "  - Mean Absolute Percent Error: MAPE measures the size of the error in percentage terms. It is calculated as the average of the unsigned percentage error.\n",
    "  - 5 Fold Cross-Validation MAPE score\n"
   ]
  },
  {
   "cell_type": "code",
   "execution_count": 53,
   "metadata": {},
   "outputs": [],
   "source": [
    "# Imports\n",
    "import pandas as pd\n",
    "import numpy as np\n",
    "from sklearn.model_selection import cross_val_score, train_test_split\n",
    "from sklearn.preprocessing import StandardScaler\n",
    "from sklearn.linear_model import LinearRegression, RidgeCV, LassoCV, ElasticNetCV\n",
    "from sklearn import metrics\n",
    "from sklearn.metrics import mean_squared_error, make_scorer\n",
    "from sklearn.metrics import mean_absolute_error\n",
    "from sklearn.model_selection import KFold\n",
    "from IPython.display import display\n",
    "import matplotlib.pyplot as plt\n",
    "import seaborn as sns\n",
    "\n",
    "# Definitions\n",
    "pd.set_option('display.float_format', lambda x: '%.3f' % x)\n",
    "%matplotlib inline\n",
    "#njobs = 4"
   ]
  },
  {
   "cell_type": "markdown",
   "metadata": {},
   "source": [
    "#### Get the dataset"
   ]
  },
  {
   "cell_type": "code",
   "execution_count": 5,
   "metadata": {},
   "outputs": [],
   "source": [
    "dataset = pd.read_csv('../Data/finaldataset.csv')"
   ]
  },
  {
   "cell_type": "code",
   "execution_count": 6,
   "metadata": {
    "scrolled": true
   },
   "outputs": [
    {
     "data": {
      "text/plain": [
       "0              0\n",
       "1             18\n",
       "2             21\n",
       "3             25\n",
       "4             33\n",
       "5             51\n",
       "6             59\n",
       "7             64\n",
       "8             69\n",
       "9             76\n",
       "10            80\n",
       "11            88\n",
       "12            90\n",
       "13            93\n",
       "14            98\n",
       "15           110\n",
       "16           115\n",
       "17           123\n",
       "18           128\n",
       "19           137\n",
       "20           152\n",
       "21           156\n",
       "22           166\n",
       "23           170\n",
       "24           171\n",
       "25           174\n",
       "26           178\n",
       "27           184\n",
       "28           185\n",
       "29           196\n",
       "           ...  \n",
       "157902    886618\n",
       "157903    886621\n",
       "157904    886623\n",
       "157905    886625\n",
       "157906    886626\n",
       "157907    886628\n",
       "157908    886634\n",
       "157909    886636\n",
       "157910    886639\n",
       "157911    886648\n",
       "157912    886649\n",
       "157913    886660\n",
       "157914    886663\n",
       "157915    886664\n",
       "157916    886666\n",
       "157917    886667\n",
       "157918    886669\n",
       "157919    886674\n",
       "157920    886677\n",
       "157921    886679\n",
       "157922    886680\n",
       "157923    886685\n",
       "157924    886686\n",
       "157925    886694\n",
       "157926    886699\n",
       "157927    886701\n",
       "157928    886703\n",
       "157929    886704\n",
       "157930    886706\n",
       "157931    886712\n",
       "Name: Unnamed: 0, Length: 157932, dtype: int64"
      ]
     },
     "execution_count": 6,
     "metadata": {},
     "output_type": "execute_result"
    }
   ],
   "source": [
    "dataset.pop('Unnamed: 0')"
   ]
  },
  {
   "cell_type": "markdown",
   "metadata": {},
   "source": [
    "#### Check the info, describe and head on the dataset"
   ]
  },
  {
   "cell_type": "code",
   "execution_count": 7,
   "metadata": {
    "scrolled": true
   },
   "outputs": [
    {
     "name": "stdout",
     "output_type": "stream",
     "text": [
      "<class 'pandas.core.frame.DataFrame'>\n",
      "RangeIndex: 157932 entries, 0 to 157931\n",
      "Data columns (total 86 columns):\n",
      "dti                           157932 non-null float64\n",
      "revol_bal                     157932 non-null float64\n",
      "total_pymnt                   157932 non-null float64\n",
      "loan_status                   157932 non-null object\n",
      "loan_amnt                     157932 non-null float64\n",
      "int_rate                      157932 non-null float64\n",
      "sub_grade                     157932 non-null int64\n",
      "annual_inc                    157932 non-null float64\n",
      "acc_now_delinq                157932 non-null float64\n",
      "delinq_2yrs                   157932 non-null float64\n",
      "pub_rec                       157932 non-null float64\n",
      "open_acc                      157932 non-null float64\n",
      "inq_last_6mths                157932 non-null float64\n",
      "revol_util                    157932 non-null float64\n",
      "emp_length                    157932 non-null int64\n",
      "addr_state_AL                 157932 non-null int64\n",
      "addr_state_AR                 157932 non-null int64\n",
      "addr_state_AZ                 157932 non-null int64\n",
      "addr_state_CA                 157932 non-null int64\n",
      "addr_state_CO                 157932 non-null int64\n",
      "addr_state_CT                 157932 non-null int64\n",
      "addr_state_DC                 157932 non-null int64\n",
      "addr_state_DE                 157932 non-null int64\n",
      "addr_state_FL                 157932 non-null int64\n",
      "addr_state_GA                 157932 non-null int64\n",
      "addr_state_HI                 157932 non-null int64\n",
      "addr_state_IA                 157932 non-null int64\n",
      "addr_state_ID                 157932 non-null int64\n",
      "addr_state_IL                 157932 non-null int64\n",
      "addr_state_IN                 157932 non-null int64\n",
      "addr_state_KS                 157932 non-null int64\n",
      "addr_state_KY                 157932 non-null int64\n",
      "addr_state_LA                 157932 non-null int64\n",
      "addr_state_MA                 157932 non-null int64\n",
      "addr_state_MD                 157932 non-null int64\n",
      "addr_state_ME                 157932 non-null int64\n",
      "addr_state_MI                 157932 non-null int64\n",
      "addr_state_MN                 157932 non-null int64\n",
      "addr_state_MO                 157932 non-null int64\n",
      "addr_state_MS                 157932 non-null int64\n",
      "addr_state_MT                 157932 non-null int64\n",
      "addr_state_NC                 157932 non-null int64\n",
      "addr_state_ND                 157932 non-null int64\n",
      "addr_state_NE                 157932 non-null int64\n",
      "addr_state_NH                 157932 non-null int64\n",
      "addr_state_NJ                 157932 non-null int64\n",
      "addr_state_NM                 157932 non-null int64\n",
      "addr_state_NV                 157932 non-null int64\n",
      "addr_state_NY                 157932 non-null int64\n",
      "addr_state_OH                 157932 non-null int64\n",
      "addr_state_OK                 157932 non-null int64\n",
      "addr_state_OR                 157932 non-null int64\n",
      "addr_state_PA                 157932 non-null int64\n",
      "addr_state_RI                 157932 non-null int64\n",
      "addr_state_SC                 157932 non-null int64\n",
      "addr_state_SD                 157932 non-null int64\n",
      "addr_state_TN                 157932 non-null int64\n",
      "addr_state_TX                 157932 non-null int64\n",
      "addr_state_UT                 157932 non-null int64\n",
      "addr_state_VA                 157932 non-null int64\n",
      "addr_state_VT                 157932 non-null int64\n",
      "addr_state_WA                 157932 non-null int64\n",
      "addr_state_WI                 157932 non-null int64\n",
      "addr_state_WV                 157932 non-null int64\n",
      "addr_state_WY                 157932 non-null int64\n",
      "application_type_JOINT        157932 non-null int64\n",
      "purpose_credit_card           157932 non-null int64\n",
      "purpose_debt_consolidation    157932 non-null int64\n",
      "purpose_educational           157932 non-null int64\n",
      "purpose_home_improvement      157932 non-null int64\n",
      "purpose_house                 157932 non-null int64\n",
      "purpose_major_purchase        157932 non-null int64\n",
      "purpose_medical               157932 non-null int64\n",
      "purpose_moving                157932 non-null int64\n",
      "purpose_other                 157932 non-null int64\n",
      "purpose_renewable_energy      157932 non-null int64\n",
      "purpose_small_business        157932 non-null int64\n",
      "purpose_vacation              157932 non-null int64\n",
      "purpose_wedding               157932 non-null int64\n",
      "term_ 60 months               157932 non-null int64\n",
      "home_ownership_MORTGAGE       157932 non-null int64\n",
      "home_ownership_NONE           157932 non-null int64\n",
      "home_ownership_OTHER          157932 non-null int64\n",
      "home_ownership_OWN            157932 non-null int64\n",
      "home_ownership_RENT           157932 non-null int64\n",
      "loan_income_ratio             157932 non-null float64\n",
      "dtypes: float64(13), int64(72), object(1)\n",
      "memory usage: 103.6+ MB\n"
     ]
    }
   ],
   "source": [
    "dataset.info()"
   ]
  },
  {
   "cell_type": "code",
   "execution_count": 8,
   "metadata": {},
   "outputs": [
    {
     "data": {
      "text/html": [
       "<div>\n",
       "<style scoped>\n",
       "    .dataframe tbody tr th:only-of-type {\n",
       "        vertical-align: middle;\n",
       "    }\n",
       "\n",
       "    .dataframe tbody tr th {\n",
       "        vertical-align: top;\n",
       "    }\n",
       "\n",
       "    .dataframe thead th {\n",
       "        text-align: right;\n",
       "    }\n",
       "</style>\n",
       "<table border=\"1\" class=\"dataframe\">\n",
       "  <thead>\n",
       "    <tr style=\"text-align: right;\">\n",
       "      <th></th>\n",
       "      <th>dti</th>\n",
       "      <th>revol_bal</th>\n",
       "      <th>total_pymnt</th>\n",
       "      <th>loan_amnt</th>\n",
       "      <th>int_rate</th>\n",
       "      <th>sub_grade</th>\n",
       "      <th>annual_inc</th>\n",
       "      <th>acc_now_delinq</th>\n",
       "      <th>delinq_2yrs</th>\n",
       "      <th>pub_rec</th>\n",
       "      <th>...</th>\n",
       "      <th>purpose_small_business</th>\n",
       "      <th>purpose_vacation</th>\n",
       "      <th>purpose_wedding</th>\n",
       "      <th>term_ 60 months</th>\n",
       "      <th>home_ownership_MORTGAGE</th>\n",
       "      <th>home_ownership_NONE</th>\n",
       "      <th>home_ownership_OTHER</th>\n",
       "      <th>home_ownership_OWN</th>\n",
       "      <th>home_ownership_RENT</th>\n",
       "      <th>loan_income_ratio</th>\n",
       "    </tr>\n",
       "  </thead>\n",
       "  <tbody>\n",
       "    <tr>\n",
       "      <th>count</th>\n",
       "      <td>157932.000</td>\n",
       "      <td>157932.000</td>\n",
       "      <td>157932.000</td>\n",
       "      <td>157932.000</td>\n",
       "      <td>157932.000</td>\n",
       "      <td>157932.000</td>\n",
       "      <td>157932.000</td>\n",
       "      <td>157932.000</td>\n",
       "      <td>157932.000</td>\n",
       "      <td>157932.000</td>\n",
       "      <td>...</td>\n",
       "      <td>157932.000</td>\n",
       "      <td>157932.000</td>\n",
       "      <td>157932.000</td>\n",
       "      <td>157932.000</td>\n",
       "      <td>157932.000</td>\n",
       "      <td>157932.000</td>\n",
       "      <td>157932.000</td>\n",
       "      <td>157932.000</td>\n",
       "      <td>157932.000</td>\n",
       "      <td>157932.000</td>\n",
       "    </tr>\n",
       "    <tr>\n",
       "      <th>mean</th>\n",
       "      <td>18.046</td>\n",
       "      <td>19732.373</td>\n",
       "      <td>8465.720</td>\n",
       "      <td>14397.327</td>\n",
       "      <td>12.437</td>\n",
       "      <td>10.422</td>\n",
       "      <td>87664.368</td>\n",
       "      <td>0.006</td>\n",
       "      <td>0.315</td>\n",
       "      <td>0.226</td>\n",
       "      <td>...</td>\n",
       "      <td>0.014</td>\n",
       "      <td>0.006</td>\n",
       "      <td>0.003</td>\n",
       "      <td>0.213</td>\n",
       "      <td>0.553</td>\n",
       "      <td>0.000</td>\n",
       "      <td>0.000</td>\n",
       "      <td>0.086</td>\n",
       "      <td>0.361</td>\n",
       "      <td>17.730</td>\n",
       "    </tr>\n",
       "    <tr>\n",
       "      <th>std</th>\n",
       "      <td>8.679</td>\n",
       "      <td>31227.196</td>\n",
       "      <td>8446.509</td>\n",
       "      <td>8783.156</td>\n",
       "      <td>3.154</td>\n",
       "      <td>4.383</td>\n",
       "      <td>65928.168</td>\n",
       "      <td>0.088</td>\n",
       "      <td>0.857</td>\n",
       "      <td>0.665</td>\n",
       "      <td>...</td>\n",
       "      <td>0.116</td>\n",
       "      <td>0.080</td>\n",
       "      <td>0.051</td>\n",
       "      <td>0.410</td>\n",
       "      <td>0.497</td>\n",
       "      <td>0.008</td>\n",
       "      <td>0.016</td>\n",
       "      <td>0.280</td>\n",
       "      <td>0.480</td>\n",
       "      <td>7.263</td>\n",
       "    </tr>\n",
       "    <tr>\n",
       "      <th>min</th>\n",
       "      <td>0.000</td>\n",
       "      <td>0.000</td>\n",
       "      <td>0.000</td>\n",
       "      <td>1000.000</td>\n",
       "      <td>5.320</td>\n",
       "      <td>1.000</td>\n",
       "      <td>4000.000</td>\n",
       "      <td>0.000</td>\n",
       "      <td>0.000</td>\n",
       "      <td>0.000</td>\n",
       "      <td>...</td>\n",
       "      <td>0.000</td>\n",
       "      <td>0.000</td>\n",
       "      <td>0.000</td>\n",
       "      <td>0.000</td>\n",
       "      <td>0.000</td>\n",
       "      <td>0.000</td>\n",
       "      <td>0.000</td>\n",
       "      <td>0.000</td>\n",
       "      <td>0.000</td>\n",
       "      <td>0.211</td>\n",
       "    </tr>\n",
       "    <tr>\n",
       "      <th>25%</th>\n",
       "      <td>11.300</td>\n",
       "      <td>6502.000</td>\n",
       "      <td>1872.710</td>\n",
       "      <td>7500.000</td>\n",
       "      <td>10.000</td>\n",
       "      <td>7.000</td>\n",
       "      <td>50000.000</td>\n",
       "      <td>0.000</td>\n",
       "      <td>0.000</td>\n",
       "      <td>0.000</td>\n",
       "      <td>...</td>\n",
       "      <td>0.000</td>\n",
       "      <td>0.000</td>\n",
       "      <td>0.000</td>\n",
       "      <td>0.000</td>\n",
       "      <td>0.000</td>\n",
       "      <td>0.000</td>\n",
       "      <td>0.000</td>\n",
       "      <td>0.000</td>\n",
       "      <td>0.000</td>\n",
       "      <td>12.048</td>\n",
       "    </tr>\n",
       "    <tr>\n",
       "      <th>50%</th>\n",
       "      <td>17.800</td>\n",
       "      <td>12470.500</td>\n",
       "      <td>5813.350</td>\n",
       "      <td>12000.000</td>\n",
       "      <td>12.690</td>\n",
       "      <td>11.000</td>\n",
       "      <td>74500.000</td>\n",
       "      <td>0.000</td>\n",
       "      <td>0.000</td>\n",
       "      <td>0.000</td>\n",
       "      <td>...</td>\n",
       "      <td>0.000</td>\n",
       "      <td>0.000</td>\n",
       "      <td>0.000</td>\n",
       "      <td>0.000</td>\n",
       "      <td>1.000</td>\n",
       "      <td>0.000</td>\n",
       "      <td>0.000</td>\n",
       "      <td>0.000</td>\n",
       "      <td>0.000</td>\n",
       "      <td>18.057</td>\n",
       "    </tr>\n",
       "    <tr>\n",
       "      <th>75%</th>\n",
       "      <td>24.370</td>\n",
       "      <td>23696.000</td>\n",
       "      <td>12312.440</td>\n",
       "      <td>20000.000</td>\n",
       "      <td>14.650</td>\n",
       "      <td>14.000</td>\n",
       "      <td>108000.000</td>\n",
       "      <td>0.000</td>\n",
       "      <td>0.000</td>\n",
       "      <td>0.000</td>\n",
       "      <td>...</td>\n",
       "      <td>0.000</td>\n",
       "      <td>0.000</td>\n",
       "      <td>0.000</td>\n",
       "      <td>0.000</td>\n",
       "      <td>1.000</td>\n",
       "      <td>0.000</td>\n",
       "      <td>0.000</td>\n",
       "      <td>0.000</td>\n",
       "      <td>1.000</td>\n",
       "      <td>23.810</td>\n",
       "    </tr>\n",
       "    <tr>\n",
       "      <th>max</th>\n",
       "      <td>69.350</td>\n",
       "      <td>2904836.000</td>\n",
       "      <td>51236.151</td>\n",
       "      <td>35000.000</td>\n",
       "      <td>19.200</td>\n",
       "      <td>18.000</td>\n",
       "      <td>6100000.000</td>\n",
       "      <td>6.000</td>\n",
       "      <td>26.000</td>\n",
       "      <td>86.000</td>\n",
       "      <td>...</td>\n",
       "      <td>1.000</td>\n",
       "      <td>1.000</td>\n",
       "      <td>1.000</td>\n",
       "      <td>1.000</td>\n",
       "      <td>1.000</td>\n",
       "      <td>1.000</td>\n",
       "      <td>1.000</td>\n",
       "      <td>1.000</td>\n",
       "      <td>1.000</td>\n",
       "      <td>30.000</td>\n",
       "    </tr>\n",
       "  </tbody>\n",
       "</table>\n",
       "<p>8 rows × 85 columns</p>\n",
       "</div>"
      ],
      "text/plain": [
       "             dti   revol_bal  total_pymnt  loan_amnt   int_rate  sub_grade  \\\n",
       "count 157932.000  157932.000   157932.000 157932.000 157932.000 157932.000   \n",
       "mean      18.046   19732.373     8465.720  14397.327     12.437     10.422   \n",
       "std        8.679   31227.196     8446.509   8783.156      3.154      4.383   \n",
       "min        0.000       0.000        0.000   1000.000      5.320      1.000   \n",
       "25%       11.300    6502.000     1872.710   7500.000     10.000      7.000   \n",
       "50%       17.800   12470.500     5813.350  12000.000     12.690     11.000   \n",
       "75%       24.370   23696.000    12312.440  20000.000     14.650     14.000   \n",
       "max       69.350 2904836.000    51236.151  35000.000     19.200     18.000   \n",
       "\n",
       "       annual_inc  acc_now_delinq  delinq_2yrs    pub_rec        ...          \\\n",
       "count  157932.000      157932.000   157932.000 157932.000        ...           \n",
       "mean    87664.368           0.006        0.315      0.226        ...           \n",
       "std     65928.168           0.088        0.857      0.665        ...           \n",
       "min      4000.000           0.000        0.000      0.000        ...           \n",
       "25%     50000.000           0.000        0.000      0.000        ...           \n",
       "50%     74500.000           0.000        0.000      0.000        ...           \n",
       "75%    108000.000           0.000        0.000      0.000        ...           \n",
       "max   6100000.000           6.000       26.000     86.000        ...           \n",
       "\n",
       "       purpose_small_business  purpose_vacation  purpose_wedding  \\\n",
       "count              157932.000        157932.000       157932.000   \n",
       "mean                    0.014             0.006            0.003   \n",
       "std                     0.116             0.080            0.051   \n",
       "min                     0.000             0.000            0.000   \n",
       "25%                     0.000             0.000            0.000   \n",
       "50%                     0.000             0.000            0.000   \n",
       "75%                     0.000             0.000            0.000   \n",
       "max                     1.000             1.000            1.000   \n",
       "\n",
       "       term_ 60 months  home_ownership_MORTGAGE  home_ownership_NONE  \\\n",
       "count       157932.000               157932.000           157932.000   \n",
       "mean             0.213                    0.553                0.000   \n",
       "std              0.410                    0.497                0.008   \n",
       "min              0.000                    0.000                0.000   \n",
       "25%              0.000                    0.000                0.000   \n",
       "50%              0.000                    1.000                0.000   \n",
       "75%              0.000                    1.000                0.000   \n",
       "max              1.000                    1.000                1.000   \n",
       "\n",
       "       home_ownership_OTHER  home_ownership_OWN  home_ownership_RENT  \\\n",
       "count            157932.000          157932.000           157932.000   \n",
       "mean                  0.000               0.086                0.361   \n",
       "std                   0.016               0.280                0.480   \n",
       "min                   0.000               0.000                0.000   \n",
       "25%                   0.000               0.000                0.000   \n",
       "50%                   0.000               0.000                0.000   \n",
       "75%                   0.000               0.000                1.000   \n",
       "max                   1.000               1.000                1.000   \n",
       "\n",
       "       loan_income_ratio  \n",
       "count         157932.000  \n",
       "mean              17.730  \n",
       "std                7.263  \n",
       "min                0.211  \n",
       "25%               12.048  \n",
       "50%               18.057  \n",
       "75%               23.810  \n",
       "max               30.000  \n",
       "\n",
       "[8 rows x 85 columns]"
      ]
     },
     "execution_count": 8,
     "metadata": {},
     "output_type": "execute_result"
    }
   ],
   "source": [
    "dataset.describe()"
   ]
  },
  {
   "cell_type": "code",
   "execution_count": 9,
   "metadata": {},
   "outputs": [
    {
     "data": {
      "text/html": [
       "<div>\n",
       "<style scoped>\n",
       "    .dataframe tbody tr th:only-of-type {\n",
       "        vertical-align: middle;\n",
       "    }\n",
       "\n",
       "    .dataframe tbody tr th {\n",
       "        vertical-align: top;\n",
       "    }\n",
       "\n",
       "    .dataframe thead th {\n",
       "        text-align: right;\n",
       "    }\n",
       "</style>\n",
       "<table border=\"1\" class=\"dataframe\">\n",
       "  <thead>\n",
       "    <tr style=\"text-align: right;\">\n",
       "      <th></th>\n",
       "      <th>dti</th>\n",
       "      <th>revol_bal</th>\n",
       "      <th>total_pymnt</th>\n",
       "      <th>loan_status</th>\n",
       "      <th>loan_amnt</th>\n",
       "      <th>int_rate</th>\n",
       "      <th>sub_grade</th>\n",
       "      <th>annual_inc</th>\n",
       "      <th>acc_now_delinq</th>\n",
       "      <th>delinq_2yrs</th>\n",
       "      <th>...</th>\n",
       "      <th>purpose_small_business</th>\n",
       "      <th>purpose_vacation</th>\n",
       "      <th>purpose_wedding</th>\n",
       "      <th>term_ 60 months</th>\n",
       "      <th>home_ownership_MORTGAGE</th>\n",
       "      <th>home_ownership_NONE</th>\n",
       "      <th>home_ownership_OTHER</th>\n",
       "      <th>home_ownership_OWN</th>\n",
       "      <th>home_ownership_RENT</th>\n",
       "      <th>loan_income_ratio</th>\n",
       "    </tr>\n",
       "  </thead>\n",
       "  <tbody>\n",
       "    <tr>\n",
       "      <th>0</th>\n",
       "      <td>27.650</td>\n",
       "      <td>13648.000</td>\n",
       "      <td>5861.071</td>\n",
       "      <td>Fully Paid</td>\n",
       "      <td>5000.000</td>\n",
       "      <td>10.650</td>\n",
       "      <td>7</td>\n",
       "      <td>24000.000</td>\n",
       "      <td>0.000</td>\n",
       "      <td>0.000</td>\n",
       "      <td>...</td>\n",
       "      <td>0</td>\n",
       "      <td>0</td>\n",
       "      <td>0</td>\n",
       "      <td>0</td>\n",
       "      <td>0</td>\n",
       "      <td>0</td>\n",
       "      <td>0</td>\n",
       "      <td>0</td>\n",
       "      <td>1</td>\n",
       "      <td>20.833</td>\n",
       "    </tr>\n",
       "    <tr>\n",
       "      <th>1</th>\n",
       "      <td>18.440</td>\n",
       "      <td>0.000</td>\n",
       "      <td>7164.500</td>\n",
       "      <td>Fully Paid</td>\n",
       "      <td>6000.000</td>\n",
       "      <td>11.710</td>\n",
       "      <td>8</td>\n",
       "      <td>84000.000</td>\n",
       "      <td>0.000</td>\n",
       "      <td>2.000</td>\n",
       "      <td>...</td>\n",
       "      <td>0</td>\n",
       "      <td>0</td>\n",
       "      <td>0</td>\n",
       "      <td>0</td>\n",
       "      <td>1</td>\n",
       "      <td>0</td>\n",
       "      <td>0</td>\n",
       "      <td>0</td>\n",
       "      <td>0</td>\n",
       "      <td>7.143</td>\n",
       "    </tr>\n",
       "    <tr>\n",
       "      <th>2</th>\n",
       "      <td>13.220</td>\n",
       "      <td>32135.000</td>\n",
       "      <td>14025.400</td>\n",
       "      <td>Charged Off</td>\n",
       "      <td>21000.000</td>\n",
       "      <td>12.420</td>\n",
       "      <td>9</td>\n",
       "      <td>105000.000</td>\n",
       "      <td>0.000</td>\n",
       "      <td>0.000</td>\n",
       "      <td>...</td>\n",
       "      <td>0</td>\n",
       "      <td>0</td>\n",
       "      <td>0</td>\n",
       "      <td>0</td>\n",
       "      <td>0</td>\n",
       "      <td>0</td>\n",
       "      <td>0</td>\n",
       "      <td>0</td>\n",
       "      <td>1</td>\n",
       "      <td>20.000</td>\n",
       "    </tr>\n",
       "    <tr>\n",
       "      <th>3</th>\n",
       "      <td>29.440</td>\n",
       "      <td>13707.000</td>\n",
       "      <td>15823.480</td>\n",
       "      <td>Fully Paid</td>\n",
       "      <td>15000.000</td>\n",
       "      <td>9.910</td>\n",
       "      <td>6</td>\n",
       "      <td>92000.000</td>\n",
       "      <td>0.000</td>\n",
       "      <td>0.000</td>\n",
       "      <td>...</td>\n",
       "      <td>0</td>\n",
       "      <td>0</td>\n",
       "      <td>0</td>\n",
       "      <td>0</td>\n",
       "      <td>1</td>\n",
       "      <td>0</td>\n",
       "      <td>0</td>\n",
       "      <td>0</td>\n",
       "      <td>0</td>\n",
       "      <td>16.304</td>\n",
       "    </tr>\n",
       "    <tr>\n",
       "      <th>4</th>\n",
       "      <td>11.930</td>\n",
       "      <td>2224.000</td>\n",
       "      <td>5714.592</td>\n",
       "      <td>Fully Paid</td>\n",
       "      <td>5000.000</td>\n",
       "      <td>8.900</td>\n",
       "      <td>5</td>\n",
       "      <td>24044.000</td>\n",
       "      <td>0.000</td>\n",
       "      <td>0.000</td>\n",
       "      <td>...</td>\n",
       "      <td>0</td>\n",
       "      <td>0</td>\n",
       "      <td>0</td>\n",
       "      <td>0</td>\n",
       "      <td>0</td>\n",
       "      <td>0</td>\n",
       "      <td>0</td>\n",
       "      <td>0</td>\n",
       "      <td>1</td>\n",
       "      <td>20.795</td>\n",
       "    </tr>\n",
       "  </tbody>\n",
       "</table>\n",
       "<p>5 rows × 86 columns</p>\n",
       "</div>"
      ],
      "text/plain": [
       "     dti  revol_bal  total_pymnt  loan_status  loan_amnt  int_rate  sub_grade  \\\n",
       "0 27.650  13648.000     5861.071   Fully Paid   5000.000    10.650          7   \n",
       "1 18.440      0.000     7164.500   Fully Paid   6000.000    11.710          8   \n",
       "2 13.220  32135.000    14025.400  Charged Off  21000.000    12.420          9   \n",
       "3 29.440  13707.000    15823.480   Fully Paid  15000.000     9.910          6   \n",
       "4 11.930   2224.000     5714.592   Fully Paid   5000.000     8.900          5   \n",
       "\n",
       "   annual_inc  acc_now_delinq  delinq_2yrs        ...          \\\n",
       "0   24000.000           0.000        0.000        ...           \n",
       "1   84000.000           0.000        2.000        ...           \n",
       "2  105000.000           0.000        0.000        ...           \n",
       "3   92000.000           0.000        0.000        ...           \n",
       "4   24044.000           0.000        0.000        ...           \n",
       "\n",
       "   purpose_small_business  purpose_vacation  purpose_wedding  term_ 60 months  \\\n",
       "0                       0                 0                0                0   \n",
       "1                       0                 0                0                0   \n",
       "2                       0                 0                0                0   \n",
       "3                       0                 0                0                0   \n",
       "4                       0                 0                0                0   \n",
       "\n",
       "   home_ownership_MORTGAGE  home_ownership_NONE  home_ownership_OTHER  \\\n",
       "0                        0                    0                     0   \n",
       "1                        1                    0                     0   \n",
       "2                        0                    0                     0   \n",
       "3                        1                    0                     0   \n",
       "4                        0                    0                     0   \n",
       "\n",
       "   home_ownership_OWN  home_ownership_RENT  loan_income_ratio  \n",
       "0                   0                    1             20.833  \n",
       "1                   0                    0              7.143  \n",
       "2                   0                    1             20.000  \n",
       "3                   0                    0             16.304  \n",
       "4                   0                    1             20.795  \n",
       "\n",
       "[5 rows x 86 columns]"
      ]
     },
     "execution_count": 9,
     "metadata": {},
     "output_type": "execute_result"
    }
   ],
   "source": [
    "dataset.head()"
   ]
  },
  {
   "cell_type": "markdown",
   "metadata": {},
   "source": [
    "##### The dataset is already cleaned and filtered, so we will directly apply the model and check the performance and error metrics"
   ]
  },
  {
   "cell_type": "markdown",
   "metadata": {},
   "source": [
    "#### Train and Test Split"
   ]
  },
  {
   "cell_type": "code",
   "execution_count": 10,
   "metadata": {},
   "outputs": [
    {
     "data": {
      "text/plain": [
       "array([10.65, 11.71, 12.42, ...,  9.49, 11.99, 11.99])"
      ]
     },
     "execution_count": 10,
     "metadata": {},
     "output_type": "execute_result"
    }
   ],
   "source": [
    "Y = dataset.pop('int_rate').values\n",
    "Y"
   ]
  },
  {
   "cell_type": "code",
   "execution_count": 11,
   "metadata": {},
   "outputs": [
    {
     "data": {
      "text/plain": [
       "array([[2.76500000e+01, 1.36480000e+04, 5.86107141e+03, ...,\n",
       "        0.00000000e+00, 1.00000000e+00, 2.08333333e+01],\n",
       "       [1.84400000e+01, 0.00000000e+00, 7.16449985e+03, ...,\n",
       "        0.00000000e+00, 0.00000000e+00, 7.14285714e+00],\n",
       "       [1.32200000e+01, 3.21350000e+04, 1.40254000e+04, ...,\n",
       "        0.00000000e+00, 1.00000000e+00, 2.00000000e+01],\n",
       "       ...,\n",
       "       [2.56300000e+01, 6.36100000e+03, 2.87473000e+03, ...,\n",
       "        0.00000000e+00, 1.00000000e+00, 1.87500000e+01],\n",
       "       [2.36900000e+01, 2.11100000e+04, 4.76625000e+03, ...,\n",
       "        0.00000000e+00, 0.00000000e+00, 1.90476190e+01],\n",
       "       [1.08300000e+01, 3.32660000e+04, 7.94376000e+03, ...,\n",
       "        0.00000000e+00, 1.00000000e+00, 2.00000000e+01]])"
      ]
     },
     "execution_count": 11,
     "metadata": {},
     "output_type": "execute_result"
    }
   ],
   "source": [
    "loan_status = dataset.pop('loan_status').values\n",
    "X = dataset.values\n",
    "X"
   ]
  },
  {
   "cell_type": "markdown",
   "metadata": {},
   "source": [
    "###### Normal split without K-Folds"
   ]
  },
  {
   "cell_type": "code",
   "execution_count": 12,
   "metadata": {},
   "outputs": [],
   "source": [
    "X_train, X_test, Y_train, Y_test = train_test_split(X, Y, test_size = 0.3, random_state = 0)"
   ]
  },
  {
   "cell_type": "markdown",
   "metadata": {},
   "source": [
    "#### Defining the method that will Train and Evaluate algorithm and will return the error metrics"
   ]
  },
  {
   "cell_type": "code",
   "execution_count": 64,
   "metadata": {},
   "outputs": [],
   "source": [
    "def get_result(model, X_train, X_test, Y_train, Y_test):\n",
    "    sc = StandardScaler()  \n",
    "    X_train = sc.fit_transform(X_train)  \n",
    "    X_test = sc.transform(X_test) \n",
    "    model.fit(X_train, Y_train)\n",
    "    y_pred = model.predict(X_test)\n",
    "    y_train_pred = model.predict(X_train)\n",
    "    MAE = mean_absolute_error(Y_test, y_pred)\n",
    "    RMSE = np.sqrt(metrics.mean_squared_error(Y_test, y_pred))\n",
    "    MAPE_test = np.mean(np.abs((Y_test - y_pred) / Y_test)) * 100\n",
    "    MAPE_train = np.mean(np.abs((Y_train - y_train_pred) / Y_train)) * 100\n",
    "    return MAE, RMSE, MAPE_test,MAPE_train, y_pred,y_train_pred, model"
   ]
  },
  {
   "cell_type": "markdown",
   "metadata": {},
   "source": [
    "##### 1. Linear Regression without regularization"
   ]
  },
  {
   "cell_type": "code",
   "execution_count": 65,
   "metadata": {},
   "outputs": [],
   "source": [
    "lr = LinearRegression()\n",
    "mae, rmse, mape,mape_train, y_pred,y_train_pred, model = get_result(lr,X_train, X_test, Y_train, Y_test)"
   ]
  },
  {
   "cell_type": "code",
   "execution_count": 66,
   "metadata": {},
   "outputs": [
    {
     "name": "stdout",
     "output_type": "stream",
     "text": [
      "MAPE on Test :  4.698638582901429  mape on train data:  4.698459427903525\n"
     ]
    }
   ],
   "source": [
    "print(\"MAPE on Test : \", mape,\" mape on train data: \",mape_train)"
   ]
  },
  {
   "cell_type": "code",
   "execution_count": 67,
   "metadata": {},
   "outputs": [
    {
     "data": {
      "text/plain": [
       "0.5733332373381093"
      ]
     },
     "execution_count": 67,
     "metadata": {},
     "output_type": "execute_result"
    }
   ],
   "source": [
    "mae"
   ]
  },
  {
   "cell_type": "code",
   "execution_count": 57,
   "metadata": {},
   "outputs": [
    {
     "data": {
      "text/plain": [
       "array([13.29466516, 11.5910824 , 13.92680628, ..., 16.28193933,\n",
       "       12.49266321, 14.35823328])"
      ]
     },
     "execution_count": 57,
     "metadata": {},
     "output_type": "execute_result"
    }
   ],
   "source": [
    "y_train_pred"
   ]
  },
  {
   "cell_type": "code",
   "execution_count": 58,
   "metadata": {},
   "outputs": [
    {
     "data": {
      "text/plain": [
       "array([ 9.726672  , 11.21873743,  8.7155636 , ..., 16.18748743,\n",
       "       13.71397669, 12.02955896])"
      ]
     },
     "execution_count": 58,
     "metadata": {},
     "output_type": "execute_result"
    }
   ],
   "source": [
    "y_pred"
   ]
  },
  {
   "cell_type": "code",
   "execution_count": 18,
   "metadata": {},
   "outputs": [
    {
     "data": {
      "text/plain": [
       "array([ 9.17, 11.71,  7.9 , ..., 16.99, 13.33, 11.22])"
      ]
     },
     "execution_count": 18,
     "metadata": {},
     "output_type": "execute_result"
    }
   ],
   "source": [
    "Y_test"
   ]
  },
  {
   "cell_type": "code",
   "execution_count": 50,
   "metadata": {},
   "outputs": [
    {
     "name": "stderr",
     "output_type": "stream",
     "text": [
      "No handles with labels found to put in legend.\n"
     ]
    },
    {
     "data": {
      "text/plain": [
       "<matplotlib.legend.Legend at 0x1941f0bbb00>"
      ]
     },
     "execution_count": 50,
     "metadata": {},
     "output_type": "execute_result"
    },
    {
     "data": {
      "image/png": "[encoded data removed]",
      "text/plain": [
       "<Figure size 2160x720 with 1 Axes>"
      ]
     },
     "metadata": {
      "needs_background": "light"
     },
     "output_type": "display_data"
    }
   ],
   "source": [
    "plt.figure(figsize=(30,10))\n",
    "plt.legend()\n",
    "plt.grid()\n",
    "plt.title('Interest Rates - Actual vs Predicted',fontsize=30)\n",
    "#plt.xlabel('loan profile',fontsize=15)\n",
    "plt.ylabel('interest rate',fontsize=15)\n",
    "a = plt.scatter(np.arange(1500),y_pred[:1500], color = 'red', marker='x')\n",
    "b = plt.scatter(np.arange(1500),Y_test[:1500], color = 'green',marker='o')\n",
    "plt.legend((a, b),\n",
    "          ('Predicted Values', 'Actual Values'),\n",
    "          scatterpoints=1,\n",
    "          loc='upper right',\n",
    "          ncol=3,\n",
    "          fontsize=15)"
   ]
  },
  {
   "cell_type": "code",
   "execution_count": 48,
   "metadata": {},
   "outputs": [
    {
     "data": {
      "image/png": "[encoded data removed]",
      "text/plain": [
       "<Figure size 432x288 with 1 Axes>"
      ]
     },
     "metadata": {
      "needs_background": "light"
     },
     "output_type": "display_data"
    }
   ],
   "source": [
    "# Plot predictions\n",
    "plt.scatter(y_train_pred, Y_train, c = \"blue\", marker = \"s\", label = \"Training data\")\n",
    "plt.scatter(y_pred, Y_test, c = \"lightgreen\", marker = \"s\", label = \"Validation data\")\n",
    "plt.title(\"Linear regression\")\n",
    "plt.xlabel(\"Predicted values\")\n",
    "plt.ylabel(\"Real values\")\n",
    "plt.legend(loc = \"upper left\")\n",
    "#plt.plot([10.5, 13.5], [10.5, 13.5], c = \"red\")\n",
    "plt.show()"
   ]
  },
  {
   "cell_type": "markdown",
   "metadata": {},
   "source": [
    "#### The MAPE of our model is 4.6995 which is pretty good. That means our model is able to capture most of the explanatory information.\n",
    "\n",
    "#### Now we can split the train and test data using the K-Fold and find the average MAPE and check if the performance increases"
   ]
  },
  {
   "cell_type": "code",
   "execution_count": 68,
   "metadata": {},
   "outputs": [
    {
     "name": "stdout",
     "output_type": "stream",
     "text": [
      "TRAIN: [ 31587  31588  31589 ... 157929 157930 157931] TEST: [    0     1     2 ... 31584 31585 31586]\n",
      "TRAIN: [     0      1      2 ... 157929 157930 157931] TEST: [31587 31588 31589 ... 63171 63172 63173]\n",
      "TRAIN: [     0      1      2 ... 157929 157930 157931] TEST: [63174 63175 63176 ... 94757 94758 94759]\n",
      "TRAIN: [     0      1      2 ... 157929 157930 157931] TEST: [ 94760  94761  94762 ... 126343 126344 126345]\n",
      "TRAIN: [     0      1      2 ... 126343 126344 126345] TEST: [126346 126347 126348 ... 157929 157930 157931]\n"
     ]
    }
   ],
   "source": [
    "kf = KFold(n_splits=5)\n",
    "kf.get_n_splits(X)\n",
    "\n",
    "MAE = []\n",
    "MAPE = []\n",
    "MAPE_Train = []\n",
    "X_test_array=[]\n",
    "y_pred_array=[]\n",
    "Y_test_ret_array = []\n",
    "Y_train_ret_array = []\n",
    "y_train_pred_array=[]\n",
    "lr = LinearRegression()\n",
    "for train_index, test_index in kf.split(X):\n",
    "    print(\"TRAIN:\", train_index, \"TEST:\", test_index)\n",
    "    X_train, X_test = X[train_index], X[test_index]\n",
    "    Y_train, Y_test = Y[train_index], Y[test_index]\n",
    "    mae,rmse, mape,mape_train, y_pred,y_train_pred, model = get_result(lr,X_train, X_test, Y_train, Y_test)\n",
    "    MAE.append(mae)\n",
    "    MAPE.append(mape)\n",
    "    MAPE_Train.append(mape_train)\n",
    "    X_test_array.append(X_test)\n",
    "    y_pred_array.append(y_pred)\n",
    "    Y_train_ret_array.append(Y_train)\n",
    "    y_train_pred_array.append(y_train_pred)"
   ]
  },
  {
   "cell_type": "code",
   "execution_count": 55,
   "metadata": {},
   "outputs": [
    {
     "data": {
      "text/plain": [
       "[6.562668527735085,\n",
       " 228256.80068966217,\n",
       " 24860282.207902096,\n",
       " 4.817448288650461,\n",
       " 4.840897677915978]"
      ]
     },
     "execution_count": 55,
     "metadata": {},
     "output_type": "execute_result"
    }
   ],
   "source": [
    "#test mapes, calculate for train mapes\n",
    "MAPE"
   ]
  },
  {
   "cell_type": "code",
   "execution_count": 56,
   "metadata": {},
   "outputs": [
    {
     "data": {
      "text/plain": [
       "4.614891388107724"
      ]
     },
     "execution_count": 56,
     "metadata": {},
     "output_type": "execute_result"
    }
   ],
   "source": [
    "np.mean(MAPE_Train)"
   ]
  },
  {
   "cell_type": "code",
   "execution_count": 70,
   "metadata": {},
   "outputs": [
    {
     "data": {
      "text/plain": [
       "448432.3228657413"
      ]
     },
     "execution_count": 70,
     "metadata": {},
     "output_type": "execute_result"
    }
   ],
   "source": [
    "np.mean(MAE)"
   ]
  },
  {
   "cell_type": "code",
   "execution_count": 72,
   "metadata": {},
   "outputs": [
    {
     "data": {
      "text/plain": [
       "[0.8342562420368367,\n",
       " 29594.423442644922,\n",
       " 2212565.261775788,\n",
       " 0.5462115587680265,\n",
       " 0.5486424726909396]"
      ]
     },
     "execution_count": 72,
     "metadata": {},
     "output_type": "execute_result"
    }
   ],
   "source": [
    "MAE"
   ]
  },
  {
   "cell_type": "markdown",
   "metadata": {},
   "source": [
    "##### The K-Fold has split the dataset in some abstract way that we got unacceptable MAPE value in 2 splits. So we will stick to our conventional split of 70:30 and proceed with regularization"
   ]
  },
  {
   "cell_type": "code",
   "execution_count": 73,
   "metadata": {},
   "outputs": [],
   "source": [
    "X_train, X_test, Y_train, Y_test = train_test_split(X, Y, test_size = 0.3, random_state = 0)"
   ]
  },
  {
   "cell_type": "markdown",
   "metadata": {},
   "source": [
    "#### 2. Linear Regression with Ridge regularization (L2 penalty)\n",
    "\n",
    "##### Ridge regression is an L2 penalized model where we simply add the squared sum of the weights to our cost function."
   ]
  },
  {
   "cell_type": "code",
   "execution_count": 74,
   "metadata": {},
   "outputs": [
    {
     "name": "stdout",
     "output_type": "stream",
     "text": [
      "Best alpha : 3.0\n",
      "Trying again for more precision with alphas centered around 3.0\n",
      "Best alpha : 1.7999999999999998\n"
     ]
    }
   ],
   "source": [
    "# 2* Ridge\n",
    "ridge = RidgeCV(alphas = [0.01, 0.03, 0.06, 0.1, 0.3, 0.6, 1, 3, 6, 10, 30, 60])\n",
    "ridge.fit(X_train, Y_train)\n",
    "alpha = ridge.alpha_\n",
    "print(\"Best alpha :\", alpha)\n",
    "\n",
    "print(\"Trying again for more precision with alphas centered around \" + str(alpha))\n",
    "ridge = RidgeCV(alphas = [alpha * .6, alpha * .65, alpha * .7, alpha * .75, alpha * .8, alpha * .85, \n",
    "                          alpha * .9, alpha * .95, alpha, alpha * 1.05, alpha * 1.1, alpha * 1.15,\n",
    "                          alpha * 1.25, alpha * 1.3, alpha * 1.35, alpha * 1.4], \n",
    "                cv = 10, normalize=True)\n",
    "ridge.fit(X_train, Y_train)\n",
    "alpha = ridge.alpha_\n",
    "print(\"Best alpha :\", alpha)\n"
   ]
  },
  {
   "cell_type": "code",
   "execution_count": 76,
   "metadata": {},
   "outputs": [
    {
     "name": "stdout",
     "output_type": "stream",
     "text": [
      "MAPE on Test :  15.421452421649798\n"
     ]
    }
   ],
   "source": [
    "mae,rmse, mape,mape_train, y_pred,y_train_pred, model = get_result(ridge,X_train, X_test, Y_train, Y_test)\n",
    "print(\"MAPE on Test : \", mape)"
   ]
  },
  {
   "cell_type": "code",
   "execution_count": 77,
   "metadata": {},
   "outputs": [
    {
     "data": {
      "image/png": "[encoded data removed]",
      "text/plain": [
       "<Figure size 432x288 with 1 Axes>"
      ]
     },
     "metadata": {
      "needs_background": "light"
     },
     "output_type": "display_data"
    }
   ],
   "source": [
    "# Plot predictions\n",
    "plt.scatter(y_train_pred, Y_train, c = \"blue\", marker = \"s\", label = \"Training data\")\n",
    "plt.scatter(y_pred, Y_test, c = \"lightgreen\", marker = \"s\", label = \"Validation data\")\n",
    "plt.title(\"Linear regression with Ridge regularization\")\n",
    "plt.xlabel(\"Predicted values\")\n",
    "plt.ylabel(\"Real values\")\n",
    "plt.legend(loc = \"upper left\")\n",
    "plt.show()"
   ]
  },
  {
   "cell_type": "code",
   "execution_count": 78,
   "metadata": {},
   "outputs": [
    {
     "name": "stdout",
     "output_type": "stream",
     "text": [
      "Ridge picked 83 features and eliminated the other 1 features\n"
     ]
    },
    {
     "data": {
      "image/png": "[encoded data removed]",
      "text/plain": [
       "<Figure size 432x288 with 1 Axes>"
      ]
     },
     "metadata": {
      "needs_background": "light"
     },
     "output_type": "display_data"
    }
   ],
   "source": [
    "# Plot important coefficients\n",
    "coefs = pd.Series(ridge.coef_, index = dataset.columns)\n",
    "print(\"Ridge picked \" + str(sum(coefs != 0)) + \" features and eliminated the other \" +  \\\n",
    "      str(sum(coefs == 0)) + \" features\")\n",
    "imp_coefs = pd.concat([coefs.sort_values().head(10),\n",
    "                     coefs.sort_values().tail(10)])\n",
    "imp_coefs.plot(kind = \"barh\")\n",
    "plt.title(\"Coefficients in the Ridge Model\")\n",
    "plt.show()"
   ]
  },
  {
   "cell_type": "markdown",
   "metadata": {},
   "source": [
    "#### 3. Linear Regression with Lasso regularization (L1 penalty)\n",
    "##### L1 regularization yields sparse feature vectors : most feature weights will be zero. Sparsity can be useful in practice if we have a high dimensional dataset with many features that are irrelevant."
   ]
  },
  {
   "cell_type": "code",
   "execution_count": 79,
   "metadata": {},
   "outputs": [
    {
     "name": "stdout",
     "output_type": "stream",
     "text": [
      "Best alpha : 0.0001\n",
      "Try again for more precision with alphas centered around 0.0001\n",
      "Best alpha : 6e-05\n"
     ]
    }
   ],
   "source": [
    "lasso = LassoCV(alphas = [0.0001, 0.0003, 0.0006, 0.001, 0.003, 0.006, 0.01, 0.03, 0.06, 0.1,0.3, 0.6, 1],\n",
    "               max_iter = 50000, cv = 10, normalize=True)\n",
    "lasso.fit(X_train,Y_train)\n",
    "alpha = lasso.alpha_\n",
    "print(\"Best alpha :\", alpha)\n",
    "\n",
    "print(\"Try again for more precision with alphas centered around \" + str(alpha))\n",
    "lasso = LassoCV(alphas = [alpha * .6, alpha * .65, alpha * .7, alpha * .75, alpha * .8, \n",
    "                          alpha * .85, alpha * .9, alpha * .95, alpha, alpha * 1.05, \n",
    "                          alpha * 1.1, alpha * 1.15, alpha * 1.25, alpha * 1.3, alpha * 1.35, \n",
    "                          alpha * 1.4], \n",
    "                max_iter = 50000, cv = 10, normalize=True)\n",
    "lasso.fit(X_train, Y_train)\n",
    "alpha = lasso.alpha_\n",
    "print(\"Best alpha :\", alpha)"
   ]
  },
  {
   "cell_type": "code",
   "execution_count": 80,
   "metadata": {},
   "outputs": [
    {
     "name": "stdout",
     "output_type": "stream",
     "text": [
      "MAPE on Test :  4.730264709958963\n"
     ]
    }
   ],
   "source": [
    "mae,rmse, mape,mape_train, y_pred,y_train_pred, model = get_result(lasso,X_train, X_test, Y_train, Y_test)\n",
    "print(\"MAPE on Test : \", mape)"
   ]
  },
  {
   "cell_type": "code",
   "execution_count": 81,
   "metadata": {},
   "outputs": [
    {
     "data": {
      "image/png": "[encoded data removed]",
      "text/plain": [
       "<Figure size 432x288 with 1 Axes>"
      ]
     },
     "metadata": {
      "needs_background": "light"
     },
     "output_type": "display_data"
    }
   ],
   "source": [
    "# Plot predictions\n",
    "plt.scatter(y_train_pred, Y_train, c = \"blue\", marker = \"s\", label = \"Training data\")\n",
    "plt.scatter(y_pred, Y_test, c = \"lightgreen\", marker = \"s\", label = \"Validation data\")\n",
    "plt.title(\"Linear regression with Lasso regularization\")\n",
    "plt.xlabel(\"Predicted values\")\n",
    "plt.ylabel(\"Real values\")\n",
    "plt.legend(loc = \"upper left\")\n",
    "plt.show()"
   ]
  },
  {
   "cell_type": "code",
   "execution_count": 82,
   "metadata": {},
   "outputs": [
    {
     "name": "stdout",
     "output_type": "stream",
     "text": [
      "Lasso picked 10 features and eliminated the other 74 features\n"
     ]
    },
    {
     "data": {
      "image/png": "[encoded data removed]",
      "text/plain": [
       "<Figure size 432x288 with 1 Axes>"
      ]
     },
     "metadata": {
      "needs_background": "light"
     },
     "output_type": "display_data"
    }
   ],
   "source": [
    "# Plot important coefficients\n",
    "coefs = pd.Series(lasso.coef_, index = dataset.columns)\n",
    "print(\"Lasso picked \" + str(sum(coefs != 0)) + \" features and eliminated the other \" +  \\\n",
    "      str(sum(coefs == 0)) + \" features\")\n",
    "imp_coefs = pd.concat([coefs.sort_values().head(10),\n",
    "                     coefs.sort_values().tail(10)])\n",
    "imp_coefs.plot(kind = \"barh\")\n",
    "plt.title(\"Coefficients in the Lasso Model\")\n",
    "plt.show()"
   ]
  },
  {
   "cell_type": "markdown",
   "metadata": {},
   "source": [
    "#### 4. Linear Regression with ElasticNet regularization (L1 and L2 penalty)\n",
    "\n",
    "##### ElasticNet is a compromise between Ridge and Lasso regression. It has a L1 penalty to generate sparsity and a L2 penalty to overcome some of the limitations of Lasso"
   ]
  },
  {
   "cell_type": "code",
   "execution_count": null,
   "metadata": {},
   "outputs": [],
   "source": [
    "# 4* ElasticNet\n",
    "elasticNet = ElasticNetCV(l1_ratio = [0.1, 0.3, 0.5, 0.6, 0.7, 0.8, 0.85, 0.9, 0.95, 1],\n",
    "                          alphas = [0.0001, 0.0003, 0.0006, 0.001, 0.003, 0.006, \n",
    "                                    0.01, 0.03, 0.06, 0.1, 0.3, 0.6, 1, 3, 6], \n",
    "                          max_iter = 50000, cv = 10,normalize=True)\n",
    "elasticNet.fit(X_train, Y_train)\n",
    "alpha = elasticNet.alpha_\n",
    "ratio = elasticNet.l1_ratio_\n",
    "print(\"Best l1_ratio :\", ratio)\n",
    "print(\"Best alpha :\", alpha )\n",
    "\n",
    "print(\"Try again for more precision with l1_ratio centered around \" + str(ratio))\n",
    "elasticNet = ElasticNetCV(l1_ratio = [ratio * .85, ratio * .9, ratio * .95, ratio, ratio * 1.05, ratio * 1.1, ratio * 1.15],\n",
    "                          alphas = [0.0001, 0.0003, 0.0006, 0.001, 0.003, 0.006, 0.01, 0.03, 0.06, 0.1, 0.3, 0.6, 1, 3, 6], \n",
    "                          max_iter = 50000, cv = 10,normalize=True)\n",
    "elasticNet.fit(X_train, Y_train)\n",
    "if (elasticNet.l1_ratio_ > 1):\n",
    "    elasticNet.l1_ratio_ = 1    \n",
    "alpha = elasticNet.alpha_\n",
    "ratio = elasticNet.l1_ratio_\n",
    "print(\"Best l1_ratio :\", ratio)\n",
    "print(\"Best alpha :\", alpha )\n",
    "\n",
    "print(\"Now try again for more precision on alpha, with l1_ratio fixed at \" + str(ratio) + \n",
    "      \" and alpha centered around \" + str(alpha))\n",
    "elasticNet = ElasticNetCV(l1_ratio = ratio,\n",
    "                          alphas = [alpha * .6, alpha * .65, alpha * .7, alpha * .75, alpha * .8, alpha * .85, alpha * .9, \n",
    "                                    alpha * .95, alpha, alpha * 1.05, alpha * 1.1, alpha * 1.15, alpha * 1.25, alpha * 1.3, \n",
    "                                    alpha * 1.35, alpha * 1.4], \n",
    "                          max_iter = 50000, cv = 10,normalize=True)\n",
    "elasticNet.fit(X_train, Y_train)\n",
    "if (elasticNet.l1_ratio_ > 1):\n",
    "    elasticNet.l1_ratio_ = 1    \n",
    "alpha = elasticNet.alpha_\n",
    "ratio = elasticNet.l1_ratio_\n",
    "print(\"Best l1_ratio :\", ratio)\n",
    "print(\"Best alpha :\", alpha )\n"
   ]
  },
  {
   "cell_type": "code",
   "execution_count": 86,
   "metadata": {},
   "outputs": [
    {
     "name": "stdout",
     "output_type": "stream",
     "text": [
      "Best l1_ratio : 1.0\n",
      "Best alpha : 6e-05\n"
     ]
    }
   ],
   "source": [
    "print(\"Best l1_ratio :\", ratio)\n",
    "print(\"Best alpha :\", alpha )"
   ]
  },
  {
   "cell_type": "code",
   "execution_count": 85,
   "metadata": {},
   "outputs": [
    {
     "name": "stdout",
     "output_type": "stream",
     "text": [
      "MAPE on Test :  4.730264709958963\n"
     ]
    }
   ],
   "source": [
    "#elasticNet\n",
    "mae,rmse, mape,mape_train, y_pred,y_train_pred, model = get_result(elasticNet,X_train, X_test, Y_train, Y_test)\n",
    "print(\"MAPE on Test : \", mape)"
   ]
  },
  {
   "cell_type": "code",
   "execution_count": null,
   "metadata": {},
   "outputs": [],
   "source": [
    "# Plot predictions\n",
    "plt.scatter(Y_train, y_train_pred, c = \"blue\", marker = \"s\", label = \"Training data\")\n",
    "plt.scatter(Y_test, y_pred, c = \"lightgreen\", marker = \"s\", label = \"Validation data\")\n",
    "plt.title(\"Linear regression with ElasticNet regularization\")\n",
    "plt.xlabel(\"Predicted values\")\n",
    "plt.ylabel(\"Real values\")\n",
    "plt.legend(loc = \"upper left\")\n",
    "plt.show()"
   ]
  },
  {
   "cell_type": "code",
   "execution_count": null,
   "metadata": {
    "scrolled": true
   },
   "outputs": [],
   "source": [
    "# Plot important coefficients\n",
    "coefs = pd.Series(elasticNet.coef_, index = dataset.columns)\n",
    "print(\"ElasticNet picked \" + str(sum(coefs != 0)) + \" features and eliminated the other \" +  str(sum(coefs == 0)) + \" features\")\n",
    "imp_coefs = pd.concat([coefs.sort_values().head(10),\n",
    "                     coefs.sort_values().tail(10)])\n",
    "imp_coefs.plot(kind = \"barh\")\n",
    "plt.title(\"Coefficients in the ElasticNet Model\")\n",
    "plt.show()"
   ]
  },
  {
   "cell_type": "markdown",
   "metadata": {},
   "source": [
    "\n",
    "\n",
    "<table>\n",
    "<caption> 5 fold cross validation </caption>\n",
    " <tr>\n",
    "   <th>Process</th>\n",
    "   <th>Test MAPE</th>\n",
    "   <th>Train MAPE</th>\n",
    " </tr>\n",
    " <tr>\n",
    "   <td>Before 5 fold cross validation</td>\n",
    "   <td>4.698638582901429</td>\n",
    "    <td>4.698459427903525</td>\n",
    " </tr>\n",
    " <tr>\n",
    "   <td>After 5 fold cross validation</td>\n",
    "   <td>5017711.04592</td>\n",
    "    <td>4.614891388107724</td>\n",
    " </tr>\n",
    " </table>\n",
    "<b> CONCLUSION </b>\n",
    "The values in 2 split for 5 fold cross validation for test MAPE was very high, which could be a result of overfiiting in the data\n",
    "<br>\n",
    "\n",
    "<table>\n",
    "<caption> SUMMARY TABLE FOR REGRESSION MODEL </caption>\n",
    " <tr>\n",
    "   <th>Process</th>\n",
    "   <th>TEST MAPE</th>\n",
    "     <th> Best Alpha</th>\n",
    "   \n",
    " </tr>\n",
    " <tr>\n",
    "   <td>Linear Regression with Lasso regularization (L1 Penalty)</td>\n",
    "   <td>4.699522969272883</td>\n",
    "    <td>6e-05</td>\n",
    " </tr>\n",
    " <tr>\n",
    " <tr>\n",
    "   <td>Linear Regression with Lasso regularization (L2 Penalty)</td>\n",
    "   <td>4.699756943042921</td>\n",
    "     <td>3.1500000000000004</td>\n",
    " </tr>\n",
    " <tr>\n",
    "   <tr>\n",
    "   <td>Linear Regression with ElasticNet regularization (L1 and L2 Penalty)</td>\n",
    "   <td>4.699797676032727</td>\n",
    "   <td>6e-05</td>\n",
    " </tr>\n",
    " <tr>\n",
    "    \n",
    "</table><br>\n",
    " <b> CONCLUSION </b>\n",
    "- The model performed slightly better with L1 regularization. It do not need L2 regularization to overcome any shortcoming which is reflected in ElasticNet.Thus without any regularization also the model performs good, but for slightly better performance we can go with L1 regularization."
   ]
  }
 ],
 "metadata": {
  "kernelspec": {
   "display_name": "Python 3",
   "language": "python",
   "name": "python3"
  },
  "language_info": {
   "codemirror_mode": {
    "name": "ipython",
    "version": 3
   },
   "file_extension": ".py",
   "mimetype": "text/x-python",
   "name": "python",
   "nbconvert_exporter": "python",
   "pygments_lexer": "ipython3",
   "version": "3.7.1"
  }
 },
 "nbformat": 4,
 "nbformat_minor": 2
}
