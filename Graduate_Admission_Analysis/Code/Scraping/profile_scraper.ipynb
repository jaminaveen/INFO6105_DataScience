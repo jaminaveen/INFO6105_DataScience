{
 "cells": [
  {
   "cell_type": "markdown",
   "metadata": {},
   "source": [
    "## This Notebook Covers:\n",
    "- Reading the profiles of the User using the earlier scraped sheet in 'ALL_PROFILES'\n",
    "- Using the profiles of the student, we are scraping the profile information from 29 university"
   ]
  },
  {
   "cell_type": "code",
   "execution_count": 12,
   "metadata": {},
   "outputs": [],
   "source": [
    "# import libraries\n",
    "import pandas as pd\n",
    "from selenium import webdriver\n",
    "from selenium.webdriver.chrome.options import Options\n",
    "from fake_useragent import UserAgent\n",
    "from bs4 import BeautifulSoup\n",
    "import re"
   ]
  },
  {
   "cell_type": "code",
   "execution_count": 7,
   "metadata": {},
   "outputs": [],
   "source": [
    "# Read the csv\n",
    "student_admit_url=pd.read_excel('../../Data/ALL_PROFILES.xlsx')"
   ]
  },
  {
   "cell_type": "code",
   "execution_count": 8,
   "metadata": {
    "scrolled": true
   },
   "outputs": [
    {
     "data": {
      "text/plain": [
       "Index(['carnegie-mellon-university_accept',\n",
       "       'carnegie-mellon-university_reject',\n",
       "       'Georgia Institute of technology_accept',\n",
       "       'Georgia Institute of technology_reject', 'Maryland_accept',\n",
       "       'Maryland_reject', 'university-of-california-irvine_accept',\n",
       "       'university-of-california-irvine_reject',\n",
       "       'university-of-colorado-boulder_accept',\n",
       "       'university-of-colorado-boulder_reject',\n",
       "       'texas-a-and-m-university-college-station_accept',\n",
       "       'texas-a-and-m-university-college-station_reject',\n",
       "       'state-university-of-new-york-at-stony-brook_accept',\n",
       "       'tate-university-of-new-york-at-stony-brook_reject',\n",
       "       'george-mason-university_accept', 'george-mason-university_reject',\n",
       "       'north-carolina-state-university-raleigh_accept',\n",
       "       'north-carolina-state-university-raleigh_reject',\n",
       "       'university-of-iowa_accept', 'university-of-iowa_reject',\n",
       "       'university-of-connecticut_accept', 'university-of-connecticut_reject',\n",
       "       'worcester-polytechnic-institute_accept',\n",
       "       'worcester-polytechnic-institute_reject',\n",
       "       'kansas-state-university_Accept', 'kansas-state-university_Reject',\n",
       "       'university-of-cincinnati_accept', 'university-of-cincinnati_reject',\n",
       "       'university-of-southern-california_accept',\n",
       "       'university-of-southern-california_reject',\n",
       "       'university-of-texas-arlington_accept',\n",
       "       'university-of-texas-arlington_reject',\n",
       "       'rutgers-university-new-brunswick_accept',\n",
       "       'rutgers-university-new-brunswick_reject', 'new-york-university_accept',\n",
       "       'new-york-university_reject',\n",
       "       'university-of-north-carolina-at-charlotte_accept',\n",
       "       'university-of-north-carolina-at-charlotte_reject',\n",
       "       'indiana-university-bloomington_accept',\n",
       "       'indiana-university-bloomington_reject',\n",
       "       'university-of-texas-dallas_accept',\n",
       "       'university-of-texas-dallas_reject',\n",
       "       'rochester-institute-of-technology_accept',\n",
       "       'rochester-institute-of-technology_reject', 'clemson-university_accept',\n",
       "       'clemson-university_reject', 'illinois-institute-of-technology_accept',\n",
       "       'illinois-institute-of-technology_reject',\n",
       "       'michigan-technological-university_accept',\n",
       "       'michigan-technological-university_reject',\n",
       "       'syracuse-university_accept', 'syracuse-university_reject',\n",
       "       'san-jose-state-university_accept', 'san-jose-state-university_reject',\n",
       "       'university-of-texas-austin_Accept',\n",
       "       'university-of-texas-austin_reject', 'university-of-florida_accept',\n",
       "       'university-of-florida_reject'],\n",
       "      dtype='object')"
      ]
     },
     "execution_count": 8,
     "metadata": {},
     "output_type": "execute_result"
    }
   ],
   "source": [
    "# reading all the columns in the CSV with all colleges\n",
    "student_admit_url.columns"
   ]
  },
  {
   "cell_type": "code",
   "execution_count": 9,
   "metadata": {},
   "outputs": [],
   "source": [
    "# Read columns one by one by manually inputting the column name"
   ]
  },
  {
   "cell_type": "code",
   "execution_count": 10,
   "metadata": {},
   "outputs": [],
   "source": [
    "# converting the column elements to list\n",
    "carnegiemellonuniversity_accept=student_admit_url['carnegie-mellon-university_accept'].dropna().tolist()"
   ]
  },
  {
   "cell_type": "code",
   "execution_count": 11,
   "metadata": {},
   "outputs": [],
   "source": [
    "# Global list to store the profile\n",
    "name_containers = []"
   ]
  },
  {
   "cell_type": "code",
   "execution_count": null,
   "metadata": {},
   "outputs": [],
   "source": [
    "# Pass each list in the below function (eg:carnegiemellonuniversity_accept )\n",
    "options = Options()\n",
    "ua = UserAgent()\n",
    "userAgent = ua.random\n",
    "\n",
    "options.add_argument(f'user-agent={userAgent}')\n",
    "driver = webdriver.Chrome(chrome_options=options, executable_path = '..\\chrome_driver\\chromedriver.exe')\n",
    "i=1\n",
    "time.sleep(5)\n",
    "for each in carnegiemellonuniversity_accept:\n",
    "    driver.get(each)\n",
    "    i=i+1\n",
    "    if i%5==0:\n",
    "        options = Options()\n",
    "        ua = UserAgent()\n",
    "        userAgent = ua.random\n",
    "        options.add_argument(f'user-agent={userAgent}')\n",
    "        driver = webdriver.Chrome(chrome_options=options, executable_path = '..\\chrome_driver\\chromedriver.exe')\n",
    "    if i%50==0:\n",
    "        print('reached50')\n",
    "        #time.sleep(100)\n",
    "        \n",
    "    html = driver.page_source\n",
    "    soup = BeautifulSoup(html)\n",
    "    name_containers.append(soup.find_all('div', class_ = 'col-sm-4 col-xs-4'))\n"
   ]
  },
  {
   "cell_type": "code",
   "execution_count": null,
   "metadata": {},
   "outputs": [],
   "source": [
    "# Using dataframe to copy the above profiles data from university\n",
    "# transfer the accept/reject to the CSV file in the 'Data/HTML_FILES/<file_name>'\n",
    "df = pd.DataFrame()\n",
    "df['links'] = name_containers\n",
    "df['university_name'] = 'carnegie_mellon_university'\n",
    "df['status']='accept'\n",
    "df.to_csv(r'../../Data/HTML_FILES/carnegiemelon_accept.csv')"
   ]
  }
 ],
 "metadata": {
  "kernelspec": {
   "display_name": "Python 3",
   "language": "python",
   "name": "python3"
  },
  "language_info": {
   "codemirror_mode": {
    "name": "ipython",
    "version": 3
   },
   "file_extension": ".py",
   "mimetype": "text/x-python",
   "name": "python",
   "nbconvert_exporter": "python",
   "pygments_lexer": "ipython3",
   "version": "3.7.1"
  }
 },
 "nbformat": 4,
 "nbformat_minor": 2
}
