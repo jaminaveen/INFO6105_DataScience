{
 "cells": [
  {
   "cell_type": "code",
   "execution_count": 1,
   "metadata": {},
   "outputs": [
    {
     "name": "stdout",
     "output_type": "stream",
     "text": [
      "Collecting auto-sklearn\n",
      "\u001b[?25l  Downloading https://files.pythonhosted.org/packages/82/91/9c612eff857b740c1ccc55e7b743c0e6156b18412254e6cef8fad1f10382/auto-sklearn-0.5.0.tar.gz (3.4MB)\n",
      "\u001b[K    100% |████████████████████████████████| 3.4MB 4.0MB/s ta 0:00:011\n",
      "\u001b[?25hRequirement already satisfied: setuptools in /home/naveen/anaconda3/lib/python3.7/site-packages (from auto-sklearn) (40.6.3)\n",
      "Requirement already satisfied: nose in /home/naveen/anaconda3/lib/python3.7/site-packages (from auto-sklearn) (1.3.7)\n",
      "Requirement already satisfied: Cython in /home/naveen/anaconda3/lib/python3.7/site-packages (from auto-sklearn) (0.29.2)\n",
      "Collecting numpy<=1.14.5,>=1.9.0 (from auto-sklearn)\n",
      "\u001b[?25l  Downloading https://files.pythonhosted.org/packages/3f/e7/7f24ef402a5766c677683e313c5595137d754cb9eb1c99627803280e79d5/numpy-1.14.5-cp37-cp37m-manylinux1_x86_64.whl (12.2MB)\n",
      "\u001b[K    100% |████████████████████████████████| 12.2MB 1.9MB/s ta 0:00:011   29% |█████████▍                      | 3.6MB 8.4MB/s eta 0:00:02    35% |███████████▎                    | 4.3MB 1.4MB/s eta 0:00:06    45% |██████████████▋                 | 5.5MB 1.8MB/s eta 0:00:04    50% |████████████████▎               | 6.2MB 2.7MB/s eta 0:00:03    73% |███████████████████████▌        | 8.9MB 4.4MB/s eta 0:00:01    83% |██████████████████████████▉     | 10.2MB 5.1MB/s eta 0:00:01    92% |█████████████████████████████▋  | 11.3MB 5.2MB/s eta 0:00:01\n",
      "\u001b[?25hRequirement already satisfied: scipy>=0.14.1 in /home/naveen/anaconda3/lib/python3.7/site-packages (from auto-sklearn) (1.1.0)\n",
      "Collecting scikit-learn<0.20,>=0.19 (from auto-sklearn)\n",
      "\u001b[?25l  Downloading https://files.pythonhosted.org/packages/eb/f1/8ab06a3ae2f047098a953e43e1714f47ae0db28d2960afcacaa04d671b51/scikit_learn-0.19.2-cp37-cp37m-manylinux1_x86_64.whl (4.9MB)\n",
      "\u001b[K    100% |████████████████████████████████| 4.9MB 4.4MB/s eta 0:00:01    18% |██████                          | 921kB 3.7MB/s eta 0:00:02    93% |██████████████████████████████  | 4.6MB 14.7MB/s eta 0:00:01\n",
      "\u001b[?25hCollecting xgboost>=0.80 (from auto-sklearn)\n",
      "  Using cached https://files.pythonhosted.org/packages/6a/49/7e10686647f741bd9c8918b0decdb94135b542fe372ca1100739b8529503/xgboost-0.82-py2.py3-none-manylinux1_x86_64.whl\n",
      "Collecting lockfile (from auto-sklearn)\n",
      "  Using cached https://files.pythonhosted.org/packages/c8/22/9460e311f340cb62d26a38c419b1381b8593b0bb6b5d1f056938b086d362/lockfile-0.12.2-py2.py3-none-any.whl\n",
      "Collecting joblib (from auto-sklearn)\n",
      "  Using cached https://files.pythonhosted.org/packages/cd/c1/50a758e8247561e58cb87305b1e90b171b8c767b15b12a1734001f41d356/joblib-0.13.2-py2.py3-none-any.whl\n",
      "Requirement already satisfied: psutil in /home/naveen/anaconda3/lib/python3.7/site-packages (from auto-sklearn) (5.4.8)\n",
      "Requirement already satisfied: pyyaml in /home/naveen/anaconda3/lib/python3.7/site-packages (from auto-sklearn) (3.13)\n",
      "Collecting liac-arff (from auto-sklearn)\n",
      "  Using cached https://files.pythonhosted.org/packages/e9/35/fbc9217cfa91d98888b43e1a19c03a50d716108c58494c558c65e308f372/liac-arff-2.4.0.tar.gz\n",
      "Requirement already satisfied: pandas in /home/naveen/anaconda3/lib/python3.7/site-packages (from auto-sklearn) (0.23.4)\n",
      "Collecting ConfigSpace<0.5,>=0.4.0 (from auto-sklearn)\n",
      "  Using cached https://files.pythonhosted.org/packages/7a/27/e76af8ff542c22b80028cce613396babe1f0e5949814ded50593698baa40/ConfigSpace-0.4.9.tar.gz\n",
      "Collecting pynisher>=0.4.2 (from auto-sklearn)\n",
      "  Using cached https://files.pythonhosted.org/packages/b2/21/c86c64c305da6d43fb89780d33cbc839c07736b71955a8bdb642a02b7538/pynisher-0.5.0.tar.gz\n",
      "Collecting pyrfr<0.8,>=0.7 (from auto-sklearn)\n",
      "\u001b[?25l  Downloading https://files.pythonhosted.org/packages/c3/c6/c555cfa3c7d0078dded091d4901ed52344bbb925077aa70b871faf35fd58/pyrfr-0.7.4.tar.gz (291kB)\n",
      "\u001b[K    100% |████████████████████████████████| 296kB 1.7MB/s ta 0:00:011\n",
      "\u001b[?25hCollecting smac==0.8 (from auto-sklearn)\n",
      "  Using cached https://files.pythonhosted.org/packages/33/ab/2b0a6fb00bd76e2415a04dcca453ad0b0db9b4218b02401306ff2bc6135d/smac-0.8.0.tar.gz\n",
      "Requirement already satisfied: python-dateutil>=2.5.0 in /home/naveen/anaconda3/lib/python3.7/site-packages (from pandas->auto-sklearn) (2.7.5)\n",
      "Requirement already satisfied: pytz>=2011k in /home/naveen/anaconda3/lib/python3.7/site-packages (from pandas->auto-sklearn) (2018.7)\n",
      "Requirement already satisfied: pyparsing in /home/naveen/anaconda3/lib/python3.7/site-packages (from ConfigSpace<0.5,>=0.4.0->auto-sklearn) (2.3.0)\n",
      "Collecting typing (from ConfigSpace<0.5,>=0.4.0->auto-sklearn)\n",
      "  Downloading https://files.pythonhosted.org/packages/4a/bd/eee1157fc2d8514970b345d69cb9975dcd1e42cd7e61146ed841f6e68309/typing-3.6.6-py3-none-any.whl\n",
      "Requirement already satisfied: docutils>=0.3 in /home/naveen/anaconda3/lib/python3.7/site-packages (from pynisher>=0.4.2->auto-sklearn) (0.14)\n",
      "Requirement already satisfied: six in /home/naveen/anaconda3/lib/python3.7/site-packages (from smac==0.8->auto-sklearn) (1.12.0)\n",
      "Requirement already satisfied: sphinx in /home/naveen/anaconda3/lib/python3.7/site-packages (from smac==0.8->auto-sklearn) (1.8.2)\n",
      "Collecting sphinx_rtd_theme (from smac==0.8->auto-sklearn)\n",
      "\u001b[?25l  Downloading https://files.pythonhosted.org/packages/60/b4/4df37087a1d36755e3a3bfd2a30263f358d2dea21938240fa02313d45f51/sphinx_rtd_theme-0.4.3-py2.py3-none-any.whl (6.4MB)\n",
      "\u001b[K    100% |████████████████████████████████| 6.4MB 2.7MB/s ta 0:00:011    12% |████                            | 788kB 9.1MB/s eta 0:00:01    21% |██████▉                         | 1.4MB 14.9MB/s eta 0:00:01    46% |██████████████▊                 | 2.9MB 8.3MB/s eta 0:00:01    74% |████████████████████████        | 4.8MB 1.9MB/s eta 0:00:01\n",
      "\u001b[?25hRequirement already satisfied: Jinja2>=2.3 in /home/naveen/anaconda3/lib/python3.7/site-packages (from sphinx->smac==0.8->auto-sklearn) (2.10)\n",
      "Requirement already satisfied: Pygments>=2.0 in /home/naveen/anaconda3/lib/python3.7/site-packages (from sphinx->smac==0.8->auto-sklearn) (2.3.1)\n",
      "Requirement already satisfied: snowballstemmer>=1.1 in /home/naveen/anaconda3/lib/python3.7/site-packages (from sphinx->smac==0.8->auto-sklearn) (1.2.1)\n",
      "Requirement already satisfied: babel!=2.0,>=1.3 in /home/naveen/anaconda3/lib/python3.7/site-packages (from sphinx->smac==0.8->auto-sklearn) (2.6.0)\n",
      "Requirement already satisfied: alabaster<0.8,>=0.7 in /home/naveen/anaconda3/lib/python3.7/site-packages (from sphinx->smac==0.8->auto-sklearn) (0.7.12)\n",
      "Requirement already satisfied: imagesize in /home/naveen/anaconda3/lib/python3.7/site-packages (from sphinx->smac==0.8->auto-sklearn) (1.1.0)\n",
      "Requirement already satisfied: requests>=2.0.0 in /home/naveen/anaconda3/lib/python3.7/site-packages (from sphinx->smac==0.8->auto-sklearn) (2.21.0)\n",
      "Requirement already satisfied: packaging in /home/naveen/anaconda3/lib/python3.7/site-packages (from sphinx->smac==0.8->auto-sklearn) (18.0)\n",
      "Requirement already satisfied: sphinxcontrib-websupport in /home/naveen/anaconda3/lib/python3.7/site-packages (from sphinx->smac==0.8->auto-sklearn) (1.1.0)\n",
      "Requirement already satisfied: MarkupSafe>=0.23 in /home/naveen/anaconda3/lib/python3.7/site-packages (from Jinja2>=2.3->sphinx->smac==0.8->auto-sklearn) (1.1.0)\n",
      "Requirement already satisfied: urllib3<1.25,>=1.21.1 in /home/naveen/anaconda3/lib/python3.7/site-packages (from requests>=2.0.0->sphinx->smac==0.8->auto-sklearn) (1.24.1)\n",
      "Requirement already satisfied: certifi>=2017.4.17 in /home/naveen/anaconda3/lib/python3.7/site-packages (from requests>=2.0.0->sphinx->smac==0.8->auto-sklearn) (2018.11.29)\n",
      "Requirement already satisfied: chardet<3.1.0,>=3.0.2 in /home/naveen/anaconda3/lib/python3.7/site-packages (from requests>=2.0.0->sphinx->smac==0.8->auto-sklearn) (3.0.4)\n",
      "Requirement already satisfied: idna<2.9,>=2.5 in /home/naveen/anaconda3/lib/python3.7/site-packages (from requests>=2.0.0->sphinx->smac==0.8->auto-sklearn) (2.8)\n",
      "Building wheels for collected packages: auto-sklearn, liac-arff, ConfigSpace, pynisher, pyrfr, smac\n",
      "  Running setup.py bdist_wheel for auto-sklearn ... \u001b[?25ldone\n",
      "\u001b[?25h  Stored in directory: /home/naveen/.cache/pip/wheels/c7/6f/5c/bf87b129c8bbc316ed96e07403571902c50fc1ed3498d9cdcb\n",
      "  Running setup.py bdist_wheel for liac-arff ... \u001b[?25ldone\n",
      "\u001b[?25h  Stored in directory: /home/naveen/.cache/pip/wheels/d1/6a/e7/529dc54d76ecede4346164a09ae3168df358945612710f5203\n"
     ]
    },
    {
     "name": "stdout",
     "output_type": "stream",
     "text": [
      "  Running setup.py bdist_wheel for ConfigSpace ... \u001b[?25ldone\n",
      "\u001b[?25h  Stored in directory: /home/naveen/.cache/pip/wheels/df/83/fd/2645ad28ed0cf38ac284eb52f7e6588eeac0a9babd24cd7903\n",
      "  Running setup.py bdist_wheel for pynisher ... \u001b[?25ldone\n",
      "\u001b[?25h  Stored in directory: /home/naveen/.cache/pip/wheels/af/2a/c4/ec3abc8a2f786ef9786ea8fe6ff629a4e54812a3f98cc41b47\n",
      "  Running setup.py bdist_wheel for pyrfr ... \u001b[?25ldone\n",
      "\u001b[?25h  Stored in directory: /home/naveen/.cache/pip/wheels/fb/98/fd/b1d53cab6d5ed836980777d9733d7e549d82a727650eed6f6d\n",
      "  Running setup.py bdist_wheel for smac ... \u001b[?25ldone\n",
      "\u001b[?25h  Stored in directory: /home/naveen/.cache/pip/wheels/12/52/83/d2d66a840968025d072ddb1cd776fdc5eb5e337e1cc887bc3f\n",
      "Successfully built auto-sklearn liac-arff ConfigSpace pynisher pyrfr smac\n",
      "Installing collected packages: numpy, scikit-learn, xgboost, lockfile, joblib, liac-arff, typing, ConfigSpace, pynisher, pyrfr, sphinx-rtd-theme, smac, auto-sklearn\n",
      "  Found existing installation: numpy 1.15.4\n",
      "    Uninstalling numpy-1.15.4:\n",
      "      Successfully uninstalled numpy-1.15.4\n",
      "  Found existing installation: scikit-learn 0.20.1\n",
      "    Uninstalling scikit-learn-0.20.1:\n",
      "      Successfully uninstalled scikit-learn-0.20.1\n",
      "Successfully installed ConfigSpace-0.4.9 auto-sklearn-0.5.0 joblib-0.13.2 liac-arff-2.4.0 lockfile-0.12.2 numpy-1.14.5 pynisher-0.5.0 pyrfr-0.7.4 scikit-learn-0.19.2 smac-0.8.0 sphinx-rtd-theme-0.4.3 typing-3.6.6 xgboost-0.82\n"
     ]
    }
   ],
   "source": [
    "!pip install auto-sklearn"
   ]
  },
  {
   "cell_type": "code",
   "execution_count": 14,
   "metadata": {},
   "outputs": [],
   "source": [
    "import pandas as pd\n",
    "import numpy as np\n",
    "import sklearn.model_selection\n",
    "import sklearn.datasets\n",
    "import sklearn.metrics\n",
    "from sklearn.model_selection import train_test_split\n",
    "import autosklearn.regression"
   ]
  },
  {
   "cell_type": "code",
   "execution_count": 6,
   "metadata": {},
   "outputs": [],
   "source": [
    "lending_data = pd.read_csv('../../Data/finaldataset.csv')"
   ]
  },
  {
   "cell_type": "code",
   "execution_count": 8,
   "metadata": {
    "scrolled": true
   },
   "outputs": [],
   "source": [
    "y = lending_data['int_rate']\n",
    "lending_data.drop(columns=['Unnamed: 0','int_rate'],inplace = True)"
   ]
  },
  {
   "cell_type": "code",
   "execution_count": 18,
   "metadata": {
    "scrolled": true
   },
   "outputs": [
    {
     "name": "stdout",
     "output_type": "stream",
     "text": [
      "<class 'pandas.core.frame.DataFrame'>\n",
      "RangeIndex: 157932 entries, 0 to 157931\n",
      "Data columns (total 84 columns):\n",
      "dti                           157932 non-null float64\n",
      "revol_bal                     157932 non-null float64\n",
      "total_pymnt                   157932 non-null float64\n",
      "loan_amnt                     157932 non-null float64\n",
      "sub_grade                     157932 non-null int64\n",
      "annual_inc                    157932 non-null float64\n",
      "acc_now_delinq                157932 non-null float64\n",
      "delinq_2yrs                   157932 non-null float64\n",
      "pub_rec                       157932 non-null float64\n",
      "open_acc                      157932 non-null float64\n",
      "inq_last_6mths                157932 non-null float64\n",
      "revol_util                    157932 non-null float64\n",
      "emp_length                    157932 non-null int64\n",
      "addr_state_AL                 157932 non-null int64\n",
      "addr_state_AR                 157932 non-null int64\n",
      "addr_state_AZ                 157932 non-null int64\n",
      "addr_state_CA                 157932 non-null int64\n",
      "addr_state_CO                 157932 non-null int64\n",
      "addr_state_CT                 157932 non-null int64\n",
      "addr_state_DC                 157932 non-null int64\n",
      "addr_state_DE                 157932 non-null int64\n",
      "addr_state_FL                 157932 non-null int64\n",
      "addr_state_GA                 157932 non-null int64\n",
      "addr_state_HI                 157932 non-null int64\n",
      "addr_state_IA                 157932 non-null int64\n",
      "addr_state_ID                 157932 non-null int64\n",
      "addr_state_IL                 157932 non-null int64\n",
      "addr_state_IN                 157932 non-null int64\n",
      "addr_state_KS                 157932 non-null int64\n",
      "addr_state_KY                 157932 non-null int64\n",
      "addr_state_LA                 157932 non-null int64\n",
      "addr_state_MA                 157932 non-null int64\n",
      "addr_state_MD                 157932 non-null int64\n",
      "addr_state_ME                 157932 non-null int64\n",
      "addr_state_MI                 157932 non-null int64\n",
      "addr_state_MN                 157932 non-null int64\n",
      "addr_state_MO                 157932 non-null int64\n",
      "addr_state_MS                 157932 non-null int64\n",
      "addr_state_MT                 157932 non-null int64\n",
      "addr_state_NC                 157932 non-null int64\n",
      "addr_state_ND                 157932 non-null int64\n",
      "addr_state_NE                 157932 non-null int64\n",
      "addr_state_NH                 157932 non-null int64\n",
      "addr_state_NJ                 157932 non-null int64\n",
      "addr_state_NM                 157932 non-null int64\n",
      "addr_state_NV                 157932 non-null int64\n",
      "addr_state_NY                 157932 non-null int64\n",
      "addr_state_OH                 157932 non-null int64\n",
      "addr_state_OK                 157932 non-null int64\n",
      "addr_state_OR                 157932 non-null int64\n",
      "addr_state_PA                 157932 non-null int64\n",
      "addr_state_RI                 157932 non-null int64\n",
      "addr_state_SC                 157932 non-null int64\n",
      "addr_state_SD                 157932 non-null int64\n",
      "addr_state_TN                 157932 non-null int64\n",
      "addr_state_TX                 157932 non-null int64\n",
      "addr_state_UT                 157932 non-null int64\n",
      "addr_state_VA                 157932 non-null int64\n",
      "addr_state_VT                 157932 non-null int64\n",
      "addr_state_WA                 157932 non-null int64\n",
      "addr_state_WI                 157932 non-null int64\n",
      "addr_state_WV                 157932 non-null int64\n",
      "addr_state_WY                 157932 non-null int64\n",
      "application_type_JOINT        157932 non-null int64\n",
      "purpose_credit_card           157932 non-null int64\n",
      "purpose_debt_consolidation    157932 non-null int64\n",
      "purpose_educational           157932 non-null int64\n",
      "purpose_home_improvement      157932 non-null int64\n",
      "purpose_house                 157932 non-null int64\n",
      "purpose_major_purchase        157932 non-null int64\n",
      "purpose_medical               157932 non-null int64\n",
      "purpose_moving                157932 non-null int64\n",
      "purpose_other                 157932 non-null int64\n",
      "purpose_renewable_energy      157932 non-null int64\n",
      "purpose_small_business        157932 non-null int64\n",
      "purpose_vacation              157932 non-null int64\n",
      "purpose_wedding               157932 non-null int64\n",
      "term_ 60 months               157932 non-null int64\n",
      "home_ownership_MORTGAGE       157932 non-null int64\n",
      "home_ownership_NONE           157932 non-null int64\n",
      "home_ownership_OTHER          157932 non-null int64\n",
      "home_ownership_OWN            157932 non-null int64\n",
      "home_ownership_RENT           157932 non-null int64\n",
      "loan_income_ratio             157932 non-null float64\n",
      "dtypes: float64(12), int64(72)\n",
      "memory usage: 101.2 MB\n"
     ]
    }
   ],
   "source": [
    "loan_status = lending_data.pop('loan_status')\n",
    "lending_data.info()"
   ]
  },
  {
   "cell_type": "code",
   "execution_count": 19,
   "metadata": {},
   "outputs": [],
   "source": [
    "X_train, X_test, Y_train, Y_test = train_test_split(lending_data, y,\n",
    "                                                    train_size=0.7, test_size=0.3)"
   ]
  },
  {
   "cell_type": "code",
   "execution_count": 21,
   "metadata": {
    "scrolled": true
   },
   "outputs": [
    {
     "name": "stderr",
     "output_type": "stream",
     "text": [
      "/home/naveen/anaconda3/lib/python3.7/site-packages/autosklearn/evaluation/train_evaluator.py:197: RuntimeWarning: Mean of empty slice\n",
      "  Y_train_pred = np.nanmean(Y_train_pred_full, axis=0)\n"
     ]
    },
    {
     "name": "stdout",
     "output_type": "stream",
     "text": [
      "[WARNING] [2019-03-21 17:10:39,276:EnsembleBuilder(1):lending_club_data] No models better than random - using Dummy Score!\n",
      "[WARNING] [2019-03-21 17:10:39,306:EnsembleBuilder(1):lending_club_data] No models better than random - using Dummy Score!\n",
      "[WARNING] [2019-03-21 17:10:39,387:AutoMLSMBO(1)::lending_club_data] Could not find meta-data directory /home/naveen/anaconda3/lib/python3.7/site-packages/autosklearn/metalearning/files/r2_regression_dense\n",
      "[WARNING] [2019-03-21 17:10:41,316:EnsembleBuilder(1):lending_club_data] No models better than random - using Dummy Score!\n",
      "[WARNING] [2019-03-21 17:10:43,330:EnsembleBuilder(1):lending_club_data] No models better than random - using Dummy Score!\n",
      "[WARNING] [2019-03-21 17:10:45,342:EnsembleBuilder(1):lending_club_data] No models better than random - using Dummy Score!\n",
      "[WARNING] [2019-03-21 17:10:47,355:EnsembleBuilder(1):lending_club_data] No models better than random - using Dummy Score!\n",
      "[WARNING] [2019-03-21 17:10:49,362:EnsembleBuilder(1):lending_club_data] No models better than random - using Dummy Score!\n",
      "[WARNING] [2019-03-21 17:10:51,372:EnsembleBuilder(1):lending_club_data] No models better than random - using Dummy Score!\n",
      "[WARNING] [2019-03-21 17:10:53,389:EnsembleBuilder(1):lending_club_data] No models better than random - using Dummy Score!\n",
      "[WARNING] [2019-03-21 17:10:55,402:EnsembleBuilder(1):lending_club_data] No models better than random - using Dummy Score!\n",
      "[WARNING] [2019-03-21 17:10:57,413:EnsembleBuilder(1):lending_club_data] No models better than random - using Dummy Score!\n",
      "[WARNING] [2019-03-21 17:10:59,426:EnsembleBuilder(1):lending_club_data] No models better than random - using Dummy Score!\n",
      "[WARNING] [2019-03-21 17:11:01,438:EnsembleBuilder(1):lending_club_data] No models better than random - using Dummy Score!\n",
      "[WARNING] [2019-03-21 17:11:03,452:EnsembleBuilder(1):lending_club_data] No models better than random - using Dummy Score!\n",
      "[WARNING] [2019-03-21 17:11:05,467:EnsembleBuilder(1):lending_club_data] No models better than random - using Dummy Score!\n",
      "[WARNING] [2019-03-21 17:11:07,482:EnsembleBuilder(1):lending_club_data] No models better than random - using Dummy Score!\n",
      "[WARNING] [2019-03-21 17:11:09,494:EnsembleBuilder(1):lending_club_data] No models better than random - using Dummy Score!\n",
      "[WARNING] [2019-03-21 17:11:11,506:EnsembleBuilder(1):lending_club_data] No models better than random - using Dummy Score!\n",
      "[WARNING] [2019-03-21 17:11:13,512:EnsembleBuilder(1):lending_club_data] No models better than random - using Dummy Score!\n",
      "[WARNING] [2019-03-21 17:11:15,528:EnsembleBuilder(1):lending_club_data] No models better than random - using Dummy Score!\n",
      "[WARNING] [2019-03-21 17:11:17,544:EnsembleBuilder(1):lending_club_data] No models better than random - using Dummy Score!\n",
      "[WARNING] [2019-03-21 17:11:19,560:EnsembleBuilder(1):lending_club_data] No models better than random - using Dummy Score!\n",
      "[WARNING] [2019-03-21 17:11:21,574:EnsembleBuilder(1):lending_club_data] No models better than random - using Dummy Score!\n",
      "[WARNING] [2019-03-21 17:11:23,588:EnsembleBuilder(1):lending_club_data] No models better than random - using Dummy Score!\n",
      "[WARNING] [2019-03-21 17:11:25,606:EnsembleBuilder(1):lending_club_data] No models better than random - using Dummy Score!\n",
      "[WARNING] [2019-03-21 17:11:27,620:EnsembleBuilder(1):lending_club_data] No models better than random - using Dummy Score!\n",
      "[WARNING] [2019-03-21 17:11:29,640:EnsembleBuilder(1):lending_club_data] No models better than random - using Dummy Score!\n",
      "[WARNING] [2019-03-21 17:11:31,654:EnsembleBuilder(1):lending_club_data] No models better than random - using Dummy Score!\n",
      "[WARNING] [2019-03-21 17:11:33,668:EnsembleBuilder(1):lending_club_data] No models better than random - using Dummy Score!\n",
      "[WARNING] [2019-03-21 17:11:35,684:EnsembleBuilder(1):lending_club_data] No models better than random - using Dummy Score!\n",
      "[WARNING] [2019-03-21 17:11:37,700:EnsembleBuilder(1):lending_club_data] No models better than random - using Dummy Score!\n",
      "[WARNING] [2019-03-21 17:11:39,715:EnsembleBuilder(1):lending_club_data] No models better than random - using Dummy Score!\n",
      "[WARNING] [2019-03-21 17:11:41,732:EnsembleBuilder(1):lending_club_data] No models better than random - using Dummy Score!\n",
      "[WARNING] [2019-03-21 17:11:43,742:EnsembleBuilder(1):lending_club_data] No models better than random - using Dummy Score!\n"
     ]
    },
    {
     "name": "stderr",
     "output_type": "stream",
     "text": [
      "/home/naveen/anaconda3/lib/python3.7/site-packages/autosklearn/evaluation/train_evaluator.py:197: RuntimeWarning: Mean of empty slice\n",
      "  Y_train_pred = np.nanmean(Y_train_pred_full, axis=0)\n"
     ]
    },
    {
     "data": {
      "text/plain": [
       "AutoSklearnRegressor(delete_output_folder_after_terminate=True,\n",
       "           delete_tmp_folder_after_terminate=True,\n",
       "           disable_evaluator_output=False, ensemble_memory_limit=1024,\n",
       "           ensemble_nbest=50, ensemble_size=50, exclude_estimators=None,\n",
       "           exclude_preprocessors=None, get_smac_object_callback=None,\n",
       "           include_estimators=None, include_preprocessors=None,\n",
       "           initial_configurations_via_metalearning=25, logging_config=None,\n",
       "           ml_memory_limit=3072, n_jobs=None,\n",
       "           output_folder='/tmp/autosklearn_regression_example_out1',\n",
       "           per_run_time_limit=30, resampling_strategy='holdout',\n",
       "           resampling_strategy_arguments=None, seed=1, shared_mode=False,\n",
       "           smac_scenario_args=None, time_left_for_this_task=120,\n",
       "           tmp_folder='/tmp/autosklearn_regression_example_tmp1')"
      ]
     },
     "execution_count": 21,
     "metadata": {},
     "output_type": "execute_result"
    }
   ],
   "source": [
    "automl = autosklearn.regression.AutoSklearnRegressor(\n",
    "        time_left_for_this_task=120,\n",
    "        per_run_time_limit=30,\n",
    "        tmp_folder='/tmp/autosklearn_regression_example_tmp1',\n",
    "        output_folder='/tmp/autosklearn_regression_example_out1',\n",
    "        )\n",
    "automl.fit(X_train, Y_train, dataset_name='lending_club_data')"
   ]
  },
  {
   "cell_type": "code",
   "execution_count": 25,
   "metadata": {},
   "outputs": [
    {
     "name": "stdout",
     "output_type": "stream",
     "text": [
      "[(1.000000, SimpleRegressionPipeline({'categorical_encoding:__choice__': 'one_hot_encoding', 'imputation:strategy': 'median', 'preprocessor:__choice__': 'pca', 'regressor:__choice__': 'decision_tree', 'rescaling:__choice__': 'standardize', 'categorical_encoding:one_hot_encoding:use_minimum_fraction': 'False', 'preprocessor:pca:keep_variance': 0.6910589102563758, 'preprocessor:pca:whiten': 'False', 'regressor:decision_tree:criterion': 'friedman_mse', 'regressor:decision_tree:max_depth_factor': 0.5279964207035701, 'regressor:decision_tree:max_features': 1.0, 'regressor:decision_tree:max_leaf_nodes': 'None', 'regressor:decision_tree:min_impurity_decrease': 0.0, 'regressor:decision_tree:min_samples_leaf': 12, 'regressor:decision_tree:min_samples_split': 4, 'regressor:decision_tree:min_weight_fraction_leaf': 0.0},\n",
      "dataset_properties={\n",
      "  'task': 4,\n",
      "  'sparse': False,\n",
      "  'multilabel': False,\n",
      "  'multiclass': False,\n",
      "  'target_type': 'regression',\n",
      "  'signed': False})),\n",
      "]\n",
      "MAE score: 2.275351307098047\n"
     ]
    }
   ],
   "source": [
    "print(automl.show_models())\n",
    "predictions = automl.predict(X_test)\n",
    "print(\"MAE score:\", sklearn.metrics.mean_absolute_error(Y_test, predictions))"
   ]
  },
  {
   "cell_type": "code",
   "execution_count": 28,
   "metadata": {},
   "outputs": [],
   "source": [
    "mape = np.mean(np.abs((Y_test-predictions)/Y_test))*100"
   ]
  },
  {
   "cell_type": "code",
   "execution_count": 29,
   "metadata": {},
   "outputs": [
    {
     "data": {
      "text/plain": [
       "21.211847039699833"
      ]
     },
     "execution_count": 29,
     "metadata": {},
     "output_type": "execute_result"
    }
   ],
   "source": [
    "mape"
   ]
  },
  {
   "cell_type": "code",
   "execution_count": null,
   "metadata": {},
   "outputs": [],
   "source": []
  }
 ],
 "metadata": {
  "kernelspec": {
   "display_name": "Python 3",
   "language": "python",
   "name": "python3"
  },
  "language_info": {
   "codemirror_mode": {
    "name": "ipython",
    "version": 3
   },
   "file_extension": ".py",
   "mimetype": "text/x-python",
   "name": "python",
   "nbconvert_exporter": "python",
   "pygments_lexer": "ipython3",
   "version": "3.7.1"
  }
 },
 "nbformat": 4,
 "nbformat_minor": 2
}
