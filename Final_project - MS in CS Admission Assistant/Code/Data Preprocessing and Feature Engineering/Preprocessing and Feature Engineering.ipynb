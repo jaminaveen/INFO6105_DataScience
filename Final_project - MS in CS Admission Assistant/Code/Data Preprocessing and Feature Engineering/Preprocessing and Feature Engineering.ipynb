{
 "cells": [
  {
   "cell_type": "markdown",
   "metadata": {},
   "source": [
    "## This notebook Contains:\n",
    "- Taking scraped input(HTML formatted code)\n",
    "- Cleaning, Data Preprocessing and Feature Engineering on the data set\n",
    "- Importing the Cleaned CSV File"
   ]
  },
  {
   "cell_type": "code",
   "execution_count": 7,
   "metadata": {},
   "outputs": [],
   "source": [
    "# imoporting libraries\n",
    "import pandas as pd\n",
    "import os\n",
    "from bs4 import BeautifulSoup\n",
    "import re"
   ]
  },
  {
   "cell_type": "code",
   "execution_count": 20,
   "metadata": {},
   "outputs": [],
   "source": [
    "# Reading the list of files inside the HTML_FILES folder\n",
    "allfileslist = os.listdir(\"../../Data/HTML_FILES/\")\n",
    "# Concatenating all the files in the HTML_FILES folder\n",
    "combined_csv = pd.concat( [ pd.read_csv(\"../../Data/HTML_FILES/\"+f) for f in allfileslist ] )"
   ]
  },
  {
   "cell_type": "code",
   "execution_count": 21,
   "metadata": {},
   "outputs": [
    {
     "data": {
      "text/plain": [
       "reject     5938\n",
       "accept     5300\n",
       "acccept     194\n",
       "Name: status, dtype: int64"
      ]
     },
     "execution_count": 21,
     "metadata": {},
     "output_type": "execute_result"
    }
   ],
   "source": [
    "# count of accept and reject\n",
    "combined_csv.status.value_counts()"
   ]
  },
  {
   "cell_type": "code",
   "execution_count": 22,
   "metadata": {},
   "outputs": [],
   "source": [
    "combined_csv.loc[combined_csv['status']=='acccept',\"status\"]=\"accept\""
   ]
  },
  {
   "cell_type": "code",
   "execution_count": 23,
   "metadata": {},
   "outputs": [
    {
     "data": {
      "text/plain": [
       "reject    5938\n",
       "accept    5494\n",
       "Name: status, dtype: int64"
      ]
     },
     "execution_count": 23,
     "metadata": {},
     "output_type": "execute_result"
    }
   ],
   "source": [
    "combined_csv.status.value_counts()"
   ]
  },
  {
   "cell_type": "code",
   "execution_count": 24,
   "metadata": {
    "scrolled": true
   },
   "outputs": [],
   "source": [
    "#filtering out empty records\n",
    "combined_csv=combined_csv.loc[~(combined_csv['links']==\"[]\"),:]"
   ]
  },
  {
   "cell_type": "code",
   "execution_count": 25,
   "metadata": {},
   "outputs": [],
   "source": [
    "#removing empty records\n",
    "combined_csv.drop(columns='Unnamed: 0',inplace=True)\n",
    "combined_csv.reset_index(drop=True,inplace=True)"
   ]
  },
  {
   "cell_type": "code",
   "execution_count": 26,
   "metadata": {},
   "outputs": [],
   "source": [
    "# Changing university name in proper naming convention\n",
    "combined_csv.loc[combined_csv.loc[:,'university_name']==\"illinois_institute_of_technology_accept\",\"university_name\"]=\"illinois_institute_of_technology\""
   ]
  },
  {
   "cell_type": "code",
   "execution_count": 27,
   "metadata": {},
   "outputs": [],
   "source": [
    "# Changing university name in proper naming convention\n",
    "combined_csv.loc[combined_csv.loc[:,'university_name']==\"university of california, irvine\",\"university_name\"]=\"university_of_california_irvine\""
   ]
  },
  {
   "cell_type": "code",
   "execution_count": 28,
   "metadata": {},
   "outputs": [],
   "source": [
    "# Changing university name in proper naming convention\n",
    "combined_csv.loc[combined_csv.loc[:,'university_name']==\"clemson_university_accept\",\"university_name\"]=\"clemson_university\"\n",
    "combined_csv.loc[combined_csv.loc[:,'university_name']==\"clemson_university_reject\",\"university_name\"]=\"clemson_university\""
   ]
  },
  {
   "cell_type": "code",
   "execution_count": 29,
   "metadata": {},
   "outputs": [],
   "source": [
    "# Changing university name in proper naming convention\n",
    "combined_csv.loc[combined_csv.loc[:,'university_name']==\"university_of_texas_dallas_accept\",\"university_name\"]=\"university_of_texas_dallas\"\n",
    "combined_csv.loc[combined_csv.loc[:,'university_name']==\"university_of_texas_dallas_reject\",\"university_name\"]=\"university_of_texas_dallas\""
   ]
  },
  {
   "cell_type": "code",
   "execution_count": 30,
   "metadata": {
    "scrolled": true
   },
   "outputs": [
    {
     "data": {
      "text/plain": [
       "university_name                              status\n",
       "carnegie mellon university                   reject    0.741379\n",
       "                                             accept    0.258621\n",
       "clemson_university                           accept    0.671875\n",
       "                                             reject    0.328125\n",
       "george mason university                      accept    0.639576\n",
       "                                             reject    0.360424\n",
       "georgia institiute of technology             accept    0.687943\n",
       "                                             reject    0.312057\n",
       "illinois_institute_of_technology             accept    0.622601\n",
       "                                             reject    0.377399\n",
       "indiana_university_bloomington               accept    0.802740\n",
       "                                             reject    0.197260\n",
       "kansas state university                      accept    0.597561\n",
       "                                             reject    0.402439\n",
       "michigan_technological_university            accept    0.732394\n",
       "                                             reject    0.267606\n",
       "new_york_university                          reject    0.555556\n",
       "                                             accept    0.444444\n",
       "north carolina state university, raleigh     reject    0.513029\n",
       "                                             accept    0.486971\n",
       "northeastern university                      reject    0.646682\n",
       "                                             accept    0.353318\n",
       "rochester_institute_of_technology            accept    0.612637\n",
       "                                             reject    0.387363\n",
       "rutgers_university_new_brunswick             reject    0.635220\n",
       "                                             accept    0.364780\n",
       "state university of new york at stony brook  reject    0.528090\n",
       "                                             accept    0.471910\n",
       "syracuse_university                          reject    0.508961\n",
       "                                             accept    0.491039\n",
       "texas a&m university, college station        reject    0.559036\n",
       "                                             accept    0.440964\n",
       "university of cincinnati                     accept    0.834615\n",
       "                                             reject    0.165385\n",
       "university of colorado boulder               reject    0.555249\n",
       "                                             accept    0.444751\n",
       "university of connecticut                    accept    0.608696\n",
       "                                             reject    0.391304\n",
       "university of iowa                           accept    0.741935\n",
       "                                             reject    0.258065\n",
       "university of maryland, college park         reject    0.840830\n",
       "                                             accept    0.159170\n",
       "university of southern california            accept    0.725000\n",
       "                                             reject    0.275000\n",
       "university of texas arlington                accept    0.576923\n",
       "                                             reject    0.423077\n",
       "university_of_california_irvine              reject    0.711864\n",
       "                                             accept    0.288136\n",
       "university_of_florida                        accept    0.669811\n",
       "                                             reject    0.330189\n",
       "university_of_north_carolina_at_charlotte    reject    0.501241\n",
       "                                             accept    0.498759\n",
       "university_of_texas_austin                   reject    0.934959\n",
       "                                             accept    0.065041\n",
       "university_of_texas_dallas                   accept    0.502000\n",
       "                                             reject    0.498000\n",
       "worcester polytechnic institute              accept    0.500000\n",
       "                                             reject    0.500000\n",
       "Name: status, dtype: float64"
      ]
     },
     "execution_count": 30,
     "metadata": {},
     "output_type": "execute_result"
    }
   ],
   "source": [
    "# Accept and Reject for every university with percentage of accept and reject\n",
    "combined_csv.groupby(by=[\"university_name\"])['status'].value_counts(normalize=True)"
   ]
  },
  {
   "cell_type": "code",
   "execution_count": 31,
   "metadata": {},
   "outputs": [
    {
     "data": {
      "text/plain": [
       "(9889, 3)"
      ]
     },
     "execution_count": 31,
     "metadata": {},
     "output_type": "execute_result"
    }
   ],
   "source": [
    "# shape of the datset\n",
    "combined_csv.shape"
   ]
  },
  {
   "cell_type": "code",
   "execution_count": 32,
   "metadata": {},
   "outputs": [],
   "source": [
    "#unwrapping stored html pages and extracting features from html tags\n",
    "html_pages = combined_csv.links.tolist()\n",
    "temp = []"
   ]
  },
  {
   "cell_type": "code",
   "execution_count": 33,
   "metadata": {},
   "outputs": [],
   "source": [
    "# Function to unwrap the html\n",
    "for i in html_pages:\n",
    "    soup = BeautifulSoup(i)\n",
    "    a = soup.find_all('div', class_ = 'col-sm-4 col-xs-4')\n",
    "    temp_inside = []\n",
    "    for x in a:\n",
    "        k =(x.h4.text)\n",
    "        t=[j for j in k.strip().split(\"\\n\") if len(j) is not 0]\n",
    "        temp_inside.append(t)\n",
    "    temp.append(temp_inside)"
   ]
  },
  {
   "cell_type": "code",
   "execution_count": 36,
   "metadata": {
    "scrolled": true
   },
   "outputs": [
    {
     "data": {
      "text/plain": [
       "[[['GRE 316 ', '\\r', 'Quant: 164\\r', 'Verbal: 152'],\n",
       "  ['TOEFL106'],\n",
       "  ['UG Score\\r', '78%'],\n",
       "  ['Work Exp.9 months'],\n",
       "  ['Tech PapersInternational'],\n",
       "  ['Dream Univ.USC']]]"
      ]
     },
     "execution_count": 36,
     "metadata": {},
     "output_type": "execute_result"
    }
   ],
   "source": [
    "temp[0:1]"
   ]
  },
  {
   "cell_type": "code",
   "execution_count": 37,
   "metadata": {},
   "outputs": [],
   "source": [
    "# getting all the profile data in nested list and extracting it\n",
    "all=[]\n",
    "for each in temp:\n",
    "    list = []\n",
    "    for i in each:\n",
    "        for j in i:\n",
    "            list.append(j)\n",
    "    all.append(list)"
   ]
  },
  {
   "cell_type": "code",
   "execution_count": 38,
   "metadata": {},
   "outputs": [
    {
     "data": {
      "text/plain": [
       "9889"
      ]
     },
     "execution_count": 38,
     "metadata": {},
     "output_type": "execute_result"
    }
   ],
   "source": [
    "#verifing if we have unpacked all html pages collected correctly\n",
    "len(all)"
   ]
  },
  {
   "cell_type": "code",
   "execution_count": 39,
   "metadata": {},
   "outputs": [
    {
     "data": {
      "text/plain": [
       "['GRE 316 ',\n",
       " '\\r',\n",
       " 'Quant: 164\\r',\n",
       " 'Verbal: 152',\n",
       " 'TOEFL106',\n",
       " 'UG Score\\r',\n",
       " '78%',\n",
       " 'Work Exp.9 months',\n",
       " 'Tech PapersInternational',\n",
       " 'Dream Univ.USC']"
      ]
     },
     "execution_count": 39,
     "metadata": {},
     "output_type": "execute_result"
    }
   ],
   "source": [
    "all[0]"
   ]
  },
  {
   "cell_type": "code",
   "execution_count": 40,
   "metadata": {},
   "outputs": [],
   "source": [
    "#we will make a new dataframe with extracted information from html pages and it's corresponding university name and status\n",
    "university_list=combined_csv.university_name.tolist()\n",
    "status_list=combined_csv.status.tolist()"
   ]
  },
  {
   "cell_type": "code",
   "execution_count": 41,
   "metadata": {},
   "outputs": [],
   "source": [
    "combined_df = pd.DataFrame(all)\n",
    "combined_df['university_name']=university_list\n",
    "combined_df['status']=status_list"
   ]
  },
  {
   "cell_type": "code",
   "execution_count": 42,
   "metadata": {},
   "outputs": [],
   "source": [
    "#naming our features\n",
    "list_columns = ['gre_score','droping', 'gre_score_quant','gre_score_verbal','test_score_toefl','droping_1', 'undergraduation_score','work_ex', 'papers_published','droping_3','university_name','status']\n",
    "combined_df.columns = list_columns\n",
    "combined_df.drop(columns = ['droping','droping_1','droping_3'], inplace=True)"
   ]
  },
  {
   "cell_type": "code",
   "execution_count": 43,
   "metadata": {},
   "outputs": [
    {
     "data": {
      "text/plain": [
       "gre_score                  0\n",
       "gre_score_quant            0\n",
       "gre_score_verbal           0\n",
       "test_score_toefl           0\n",
       "undergraduation_score      0\n",
       "work_ex                  242\n",
       "papers_published         242\n",
       "university_name            0\n",
       "status                     0\n",
       "dtype: int64"
      ]
     },
     "execution_count": 43,
     "metadata": {},
     "output_type": "execute_result"
    }
   ],
   "source": [
    "# Null in columns\n",
    "combined_df.isna().sum()"
   ]
  },
  {
   "cell_type": "code",
   "execution_count": 44,
   "metadata": {},
   "outputs": [],
   "source": [
    "#filling work experience and work_ex with zero, considering when there are no values given\n",
    "combined_df=combined_df.fillna(0)"
   ]
  },
  {
   "cell_type": "code",
   "execution_count": 45,
   "metadata": {},
   "outputs": [
    {
     "data": {
      "text/html": [
       "<div>\n",
       "<style scoped>\n",
       "    .dataframe tbody tr th:only-of-type {\n",
       "        vertical-align: middle;\n",
       "    }\n",
       "\n",
       "    .dataframe tbody tr th {\n",
       "        vertical-align: top;\n",
       "    }\n",
       "\n",
       "    .dataframe thead th {\n",
       "        text-align: right;\n",
       "    }\n",
       "</style>\n",
       "<table border=\"1\" class=\"dataframe\">\n",
       "  <thead>\n",
       "    <tr style=\"text-align: right;\">\n",
       "      <th></th>\n",
       "      <th>gre_score</th>\n",
       "      <th>gre_score_quant</th>\n",
       "      <th>gre_score_verbal</th>\n",
       "      <th>test_score_toefl</th>\n",
       "      <th>undergraduation_score</th>\n",
       "      <th>work_ex</th>\n",
       "      <th>papers_published</th>\n",
       "      <th>university_name</th>\n",
       "      <th>status</th>\n",
       "    </tr>\n",
       "  </thead>\n",
       "  <tbody>\n",
       "    <tr>\n",
       "      <th>0</th>\n",
       "      <td>GRE 316</td>\n",
       "      <td>Quant: 164\\r</td>\n",
       "      <td>Verbal: 152</td>\n",
       "      <td>TOEFL106</td>\n",
       "      <td>78%</td>\n",
       "      <td>Work Exp.9 months</td>\n",
       "      <td>Tech PapersInternational</td>\n",
       "      <td>northeastern university</td>\n",
       "      <td>accept</td>\n",
       "    </tr>\n",
       "    <tr>\n",
       "      <th>1</th>\n",
       "      <td>GRE 314</td>\n",
       "      <td>Quant: 163\\r</td>\n",
       "      <td>Verbal: 151</td>\n",
       "      <td>IELTS8</td>\n",
       "      <td>8.82CGPA</td>\n",
       "      <td>Work Exp.7 months</td>\n",
       "      <td>Tech PapersInternational</td>\n",
       "      <td>northeastern university</td>\n",
       "      <td>accept</td>\n",
       "    </tr>\n",
       "    <tr>\n",
       "      <th>2</th>\n",
       "      <td>GRE 307</td>\n",
       "      <td>Quant: 160\\r</td>\n",
       "      <td>Verbal: 147</td>\n",
       "      <td>TOEFL88</td>\n",
       "      <td>80%</td>\n",
       "      <td>Work Exp.36 months</td>\n",
       "      <td>Tech PapersNone</td>\n",
       "      <td>northeastern university</td>\n",
       "      <td>accept</td>\n",
       "    </tr>\n",
       "    <tr>\n",
       "      <th>3</th>\n",
       "      <td>GRE 330</td>\n",
       "      <td>Quant: 169\\r</td>\n",
       "      <td>Verbal: 161</td>\n",
       "      <td>TOEFL113</td>\n",
       "      <td>68.05%</td>\n",
       "      <td>Work Exp.48 months</td>\n",
       "      <td>Tech PapersInternational</td>\n",
       "      <td>northeastern university</td>\n",
       "      <td>accept</td>\n",
       "    </tr>\n",
       "    <tr>\n",
       "      <th>4</th>\n",
       "      <td>GRE 316</td>\n",
       "      <td>Quant: 163\\r</td>\n",
       "      <td>Verbal: 153</td>\n",
       "      <td>TOEFL99</td>\n",
       "      <td>74.2%</td>\n",
       "      <td>Work Exp.30 months</td>\n",
       "      <td>Tech PapersNone</td>\n",
       "      <td>northeastern university</td>\n",
       "      <td>accept</td>\n",
       "    </tr>\n",
       "  </tbody>\n",
       "</table>\n",
       "</div>"
      ],
      "text/plain": [
       "  gre_score gre_score_quant gre_score_verbal test_score_toefl  \\\n",
       "0  GRE 316     Quant: 164\\r      Verbal: 152         TOEFL106   \n",
       "1  GRE 314     Quant: 163\\r      Verbal: 151           IELTS8   \n",
       "2  GRE 307     Quant: 160\\r      Verbal: 147          TOEFL88   \n",
       "3  GRE 330     Quant: 169\\r      Verbal: 161         TOEFL113   \n",
       "4  GRE 316     Quant: 163\\r      Verbal: 153          TOEFL99   \n",
       "\n",
       "  undergraduation_score             work_ex          papers_published  \\\n",
       "0                   78%   Work Exp.9 months  Tech PapersInternational   \n",
       "1              8.82CGPA   Work Exp.7 months  Tech PapersInternational   \n",
       "2                   80%  Work Exp.36 months           Tech PapersNone   \n",
       "3                68.05%  Work Exp.48 months  Tech PapersInternational   \n",
       "4                 74.2%  Work Exp.30 months           Tech PapersNone   \n",
       "\n",
       "           university_name  status  \n",
       "0  northeastern university  accept  \n",
       "1  northeastern university  accept  \n",
       "2  northeastern university  accept  \n",
       "3  northeastern university  accept  \n",
       "4  northeastern university  accept  "
      ]
     },
     "execution_count": 45,
     "metadata": {},
     "output_type": "execute_result"
    }
   ],
   "source": [
    "combined_df.head()"
   ]
  },
  {
   "cell_type": "markdown",
   "metadata": {},
   "source": [
    "<b>Data Pre processing and Feature Engineering</b>\n",
    "\n",
    "- Removing Null values from columns\n",
    "- Removing noise data, Unformatted Text and Inconsistent Data \n",
    "- Conversion of % and 10 pinter score in CGPA to 4 pointer\n",
    "- Toefl and IELTS score to the same scale according to the information available on ETS Official website (https://www.ets.org/toefl/institutions/scores/compare/)\n",
    "- Including Ranking of University as a column\n",
    "- Changed paper Published containing column values as NoneInternational/National/Local"
   ]
  },
  {
   "cell_type": "code",
   "execution_count": 46,
   "metadata": {},
   "outputs": [],
   "source": [
    "# Function for removing special charaters \n",
    "def replace_special_chars(i):\n",
    "    #a = re.sub('[^A-Za-z]+',' ',str(i))\n",
    "    a=re.findall(r'\\d+', str(i))\n",
    "    #a = a.lower()\n",
    "    return ''.join(a)"
   ]
  },
  {
   "cell_type": "code",
   "execution_count": 47,
   "metadata": {},
   "outputs": [],
   "source": [
    "# calling this function for various columns"
   ]
  },
  {
   "cell_type": "code",
   "execution_count": 48,
   "metadata": {},
   "outputs": [],
   "source": [
    "combined_df['gre_score']=combined_df.gre_score.apply(replace_special_chars)\n",
    "combined_df['gre_score_quant']=combined_df['gre_score_quant'].apply(replace_special_chars)"
   ]
  },
  {
   "cell_type": "code",
   "execution_count": 49,
   "metadata": {},
   "outputs": [],
   "source": [
    "combined_df['test_score_toefl'] = combined_df['test_score_toefl'].apply(replace_special_chars)\n",
    "combined_df['gre_score_verbal'] = combined_df['gre_score_verbal'].apply(replace_special_chars)\n",
    "combined_df['work_ex'] = combined_df['work_ex'].apply(replace_special_chars)"
   ]
  },
  {
   "cell_type": "code",
   "execution_count": 50,
   "metadata": {},
   "outputs": [],
   "source": [
    "\n",
    "combined_df[\"undergraduation_score\"] = [x.replace('CGPA','') for x in combined_df[\"undergraduation_score\"]]\n",
    "combined_df[\"undergraduation_score\"] = [x.replace('%','') for x in combined_df[\"undergraduation_score\"]]\n",
    "combined_df[\"papers_published\"] = [str(x).replace('Tech Papers','') for x in combined_df[\"papers_published\"]]"
   ]
  },
  {
   "cell_type": "code",
   "execution_count": 51,
   "metadata": {},
   "outputs": [
    {
     "data": {
      "text/plain": [
       "gre_score                object\n",
       "gre_score_quant          object\n",
       "gre_score_verbal         object\n",
       "test_score_toefl         object\n",
       "undergraduation_score    object\n",
       "work_ex                  object\n",
       "papers_published         object\n",
       "university_name          object\n",
       "status                   object\n",
       "dtype: object"
      ]
     },
     "execution_count": 51,
     "metadata": {},
     "output_type": "execute_result"
    }
   ],
   "source": [
    "# data type for multiple columns\n",
    "combined_df.dtypes"
   ]
  },
  {
   "cell_type": "code",
   "execution_count": 52,
   "metadata": {},
   "outputs": [],
   "source": [
    "combined_df.loc[combined_df['work_ex']=='','work_ex']=0"
   ]
  },
  {
   "cell_type": "code",
   "execution_count": 53,
   "metadata": {},
   "outputs": [],
   "source": [
    "values=[]\n",
    "for each in combined_df.undergraduation_score.unique():\n",
    "    try:\n",
    "        float(each)\n",
    "    except:\n",
    "        values.append(each)"
   ]
  },
  {
   "cell_type": "code",
   "execution_count": 54,
   "metadata": {},
   "outputs": [],
   "source": [
    "for each in values:\n",
    "    combined_df=combined_df[combined_df.undergraduation_score!=each]"
   ]
  },
  {
   "cell_type": "code",
   "execution_count": 55,
   "metadata": {},
   "outputs": [],
   "source": [
    "combined_df[['gre_score','gre_score_quant','gre_score_verbal','test_score_toefl','undergraduation_score','work_ex']]=combined_df[['gre_score','gre_score_quant','gre_score_verbal','test_score_toefl','undergraduation_score','work_ex']].apply(pd.to_numeric)"
   ]
  },
  {
   "cell_type": "code",
   "execution_count": 56,
   "metadata": {},
   "outputs": [],
   "source": [
    "combined_df=combined_df.loc[~(combined_df.test_score_toefl.isna()),:]"
   ]
  },
  {
   "cell_type": "code",
   "execution_count": 57,
   "metadata": {},
   "outputs": [
    {
     "data": {
      "text/plain": [
       "gre_score                0\n",
       "gre_score_quant          0\n",
       "gre_score_verbal         0\n",
       "test_score_toefl         0\n",
       "undergraduation_score    0\n",
       "work_ex                  0\n",
       "papers_published         0\n",
       "university_name          0\n",
       "status                   0\n",
       "dtype: int64"
      ]
     },
     "execution_count": 57,
     "metadata": {},
     "output_type": "execute_result"
    }
   ],
   "source": [
    "combined_df.isna().sum()"
   ]
  },
  {
   "cell_type": "code",
   "execution_count": 58,
   "metadata": {},
   "outputs": [],
   "source": [
    "combined_df.reset_index(drop=True,inplace=True)"
   ]
  },
  {
   "cell_type": "code",
   "execution_count": 59,
   "metadata": {},
   "outputs": [],
   "source": [
    "# function to scale the cgpa on the scale of 4\n",
    "update_cgpa_score_scale_4 = []\n",
    "for score in combined_df.undergraduation_score.tolist():\n",
    "   s = 0\n",
    "   try:\n",
    "       score = float(score)\n",
    "   except:\n",
    "       score= 0\n",
    "   if score > 10:\n",
    "       s = ((score)/20) - 1\n",
    "       s = round(s,2)\n",
    "       update_cgpa_score_scale_4.append(s)\n",
    "   else:\n",
    "       s = ((score)/10)*4\n",
    "       s = round(s,2)\n",
    "       update_cgpa_score_scale_4.append(s)"
   ]
  },
  {
   "cell_type": "code",
   "execution_count": 60,
   "metadata": {},
   "outputs": [],
   "source": [
    "combined_df['undergraduation_score']=update_cgpa_score_scale_4"
   ]
  },
  {
   "cell_type": "code",
   "execution_count": 61,
   "metadata": {},
   "outputs": [],
   "source": [
    "combined_df.loc[combined_df['test_score_toefl']<9,'test_score_toefl']=pd.cut(combined_df.loc[combined_df['test_score_toefl']<9,'test_score_toefl'], bins=[-1,0.5,4,4.5,5,5.5,6,6.5,7,7.5,8,8.5,9], labels=[0,31,34,45,59,78,93,101,109,114,117,120])"
   ]
  },
  {
   "cell_type": "code",
   "execution_count": 62,
   "metadata": {},
   "outputs": [
    {
     "data": {
      "text/plain": [
       "0    353\n",
       "Name: test_score_toefl, dtype: int64"
      ]
     },
     "execution_count": 62,
     "metadata": {},
     "output_type": "execute_result"
    }
   ],
   "source": [
    "combined_df.loc[combined_df['test_score_toefl']<9,'test_score_toefl'].value_counts()"
   ]
  },
  {
   "cell_type": "markdown",
   "metadata": {},
   "source": [
    "##### working on the paper published column to assign values: International as 3, National as 2, Local as 1 and None as 0"
   ]
  },
  {
   "cell_type": "code",
   "execution_count": 63,
   "metadata": {},
   "outputs": [
    {
     "data": {
      "text/plain": [
       "array(['International', 'None', 'NA', 'Local', 'National', ''],\n",
       "      dtype=object)"
      ]
     },
     "execution_count": 63,
     "metadata": {},
     "output_type": "execute_result"
    }
   ],
   "source": [
    "combined_df.papers_published.unique()"
   ]
  },
  {
   "cell_type": "code",
   "execution_count": 64,
   "metadata": {},
   "outputs": [],
   "source": [
    "#df_all_neu[\"papers_published\"] = [x.replace('','0') for x in df_all_neu[\"papers_published\"]]\n",
    "combined_df[\"papers_published\"] = [x.replace('None','0') for x in combined_df[\"papers_published\"]]\n",
    "combined_df[\"papers_published\"] = [x.replace('NA','0') for x in combined_df[\"papers_published\"]]"
   ]
  },
  {
   "cell_type": "code",
   "execution_count": 65,
   "metadata": {},
   "outputs": [
    {
     "data": {
      "text/plain": [
       "0                6753\n",
       "International    1872\n",
       "National          458\n",
       "Local             260\n",
       "                    9\n",
       "Name: papers_published, dtype: int64"
      ]
     },
     "execution_count": 65,
     "metadata": {},
     "output_type": "execute_result"
    }
   ],
   "source": [
    "combined_df.papers_published.value_counts()"
   ]
  },
  {
   "cell_type": "code",
   "execution_count": 66,
   "metadata": {},
   "outputs": [],
   "source": [
    "\n",
    "combined_df.loc[combined_df['papers_published'] == 'Local', 'papers_published'] = '1'\n",
    "combined_df.loc[combined_df['papers_published'] == 'International', 'papers_published'] = '3'\n",
    "combined_df.loc[combined_df['papers_published'] == 'National', 'papers_published'] = '2'"
   ]
  },
  {
   "cell_type": "code",
   "execution_count": 67,
   "metadata": {},
   "outputs": [],
   "source": [
    "list_ppr_pub = combined_df.papers_published.tolist()"
   ]
  },
  {
   "cell_type": "code",
   "execution_count": 68,
   "metadata": {},
   "outputs": [],
   "source": [
    "new_list_ppr_pub = []\n",
    "for i in list_ppr_pub:\n",
    "    if i == '':\n",
    "        new_list_ppr_pub.append('0')\n",
    "    else:\n",
    "        new_list_ppr_pub.append(i)"
   ]
  },
  {
   "cell_type": "code",
   "execution_count": 69,
   "metadata": {},
   "outputs": [],
   "source": [
    "combined_df['papers_published'] = new_list_ppr_pub"
   ]
  },
  {
   "cell_type": "code",
   "execution_count": 70,
   "metadata": {},
   "outputs": [],
   "source": [
    "combined_df['papers_published'] = combined_df['papers_published'].astype(int)"
   ]
  },
  {
   "cell_type": "code",
   "execution_count": 71,
   "metadata": {},
   "outputs": [
    {
     "data": {
      "text/html": [
       "<div>\n",
       "<style scoped>\n",
       "    .dataframe tbody tr th:only-of-type {\n",
       "        vertical-align: middle;\n",
       "    }\n",
       "\n",
       "    .dataframe tbody tr th {\n",
       "        vertical-align: top;\n",
       "    }\n",
       "\n",
       "    .dataframe thead th {\n",
       "        text-align: right;\n",
       "    }\n",
       "</style>\n",
       "<table border=\"1\" class=\"dataframe\">\n",
       "  <thead>\n",
       "    <tr style=\"text-align: right;\">\n",
       "      <th></th>\n",
       "      <th>gre_score</th>\n",
       "      <th>gre_score_quant</th>\n",
       "      <th>gre_score_verbal</th>\n",
       "      <th>undergraduation_score</th>\n",
       "      <th>work_ex</th>\n",
       "      <th>papers_published</th>\n",
       "    </tr>\n",
       "  </thead>\n",
       "  <tbody>\n",
       "    <tr>\n",
       "      <th>count</th>\n",
       "      <td>9352.000000</td>\n",
       "      <td>9352.000000</td>\n",
       "      <td>9352.000000</td>\n",
       "      <td>9352.000000</td>\n",
       "      <td>9352.000000</td>\n",
       "      <td>9352.000000</td>\n",
       "    </tr>\n",
       "    <tr>\n",
       "      <th>mean</th>\n",
       "      <td>314.110351</td>\n",
       "      <td>162.800791</td>\n",
       "      <td>151.309559</td>\n",
       "      <td>3.029532</td>\n",
       "      <td>16.853935</td>\n",
       "      <td>0.726262</td>\n",
       "    </tr>\n",
       "    <tr>\n",
       "      <th>std</th>\n",
       "      <td>9.301243</td>\n",
       "      <td>5.229764</td>\n",
       "      <td>6.040880</td>\n",
       "      <td>0.488298</td>\n",
       "      <td>16.127780</td>\n",
       "      <td>1.223903</td>\n",
       "    </tr>\n",
       "    <tr>\n",
       "      <th>min</th>\n",
       "      <td>0.000000</td>\n",
       "      <td>0.000000</td>\n",
       "      <td>0.000000</td>\n",
       "      <td>1.060000</td>\n",
       "      <td>0.000000</td>\n",
       "      <td>0.000000</td>\n",
       "    </tr>\n",
       "    <tr>\n",
       "      <th>25%</th>\n",
       "      <td>308.000000</td>\n",
       "      <td>160.000000</td>\n",
       "      <td>148.000000</td>\n",
       "      <td>2.720000</td>\n",
       "      <td>2.000000</td>\n",
       "      <td>0.000000</td>\n",
       "    </tr>\n",
       "    <tr>\n",
       "      <th>50%</th>\n",
       "      <td>314.000000</td>\n",
       "      <td>163.000000</td>\n",
       "      <td>151.000000</td>\n",
       "      <td>3.100000</td>\n",
       "      <td>15.000000</td>\n",
       "      <td>0.000000</td>\n",
       "    </tr>\n",
       "    <tr>\n",
       "      <th>75%</th>\n",
       "      <td>320.000000</td>\n",
       "      <td>167.000000</td>\n",
       "      <td>155.000000</td>\n",
       "      <td>3.400000</td>\n",
       "      <td>27.000000</td>\n",
       "      <td>1.000000</td>\n",
       "    </tr>\n",
       "    <tr>\n",
       "      <th>max</th>\n",
       "      <td>340.000000</td>\n",
       "      <td>170.000000</td>\n",
       "      <td>170.000000</td>\n",
       "      <td>4.000000</td>\n",
       "      <td>153.000000</td>\n",
       "      <td>3.000000</td>\n",
       "    </tr>\n",
       "  </tbody>\n",
       "</table>\n",
       "</div>"
      ],
      "text/plain": [
       "         gre_score  gre_score_quant  gre_score_verbal  undergraduation_score  \\\n",
       "count  9352.000000      9352.000000       9352.000000            9352.000000   \n",
       "mean    314.110351       162.800791        151.309559               3.029532   \n",
       "std       9.301243         5.229764          6.040880               0.488298   \n",
       "min       0.000000         0.000000          0.000000               1.060000   \n",
       "25%     308.000000       160.000000        148.000000               2.720000   \n",
       "50%     314.000000       163.000000        151.000000               3.100000   \n",
       "75%     320.000000       167.000000        155.000000               3.400000   \n",
       "max     340.000000       170.000000        170.000000               4.000000   \n",
       "\n",
       "           work_ex  papers_published  \n",
       "count  9352.000000       9352.000000  \n",
       "mean     16.853935          0.726262  \n",
       "std      16.127780          1.223903  \n",
       "min       0.000000          0.000000  \n",
       "25%       2.000000          0.000000  \n",
       "50%      15.000000          0.000000  \n",
       "75%      27.000000          1.000000  \n",
       "max     153.000000          3.000000  "
      ]
     },
     "execution_count": 71,
     "metadata": {},
     "output_type": "execute_result"
    }
   ],
   "source": [
    "combined_df.describe()\n"
   ]
  },
  {
   "cell_type": "markdown",
   "metadata": {},
   "source": [
    "#### checking and removing incorrect record\n",
    "Gre quant/verbal >170 and <130"
   ]
  },
  {
   "cell_type": "code",
   "execution_count": 72,
   "metadata": {},
   "outputs": [
    {
     "data": {
      "text/html": [
       "<div>\n",
       "<style scoped>\n",
       "    .dataframe tbody tr th:only-of-type {\n",
       "        vertical-align: middle;\n",
       "    }\n",
       "\n",
       "    .dataframe tbody tr th {\n",
       "        vertical-align: top;\n",
       "    }\n",
       "\n",
       "    .dataframe thead th {\n",
       "        text-align: right;\n",
       "    }\n",
       "</style>\n",
       "<table border=\"1\" class=\"dataframe\">\n",
       "  <thead>\n",
       "    <tr style=\"text-align: right;\">\n",
       "      <th></th>\n",
       "      <th>gre_score</th>\n",
       "      <th>gre_score_quant</th>\n",
       "      <th>gre_score_verbal</th>\n",
       "      <th>test_score_toefl</th>\n",
       "      <th>undergraduation_score</th>\n",
       "      <th>work_ex</th>\n",
       "      <th>papers_published</th>\n",
       "      <th>university_name</th>\n",
       "      <th>status</th>\n",
       "    </tr>\n",
       "  </thead>\n",
       "  <tbody>\n",
       "    <tr>\n",
       "      <th>6230</th>\n",
       "      <td>204</td>\n",
       "      <td>62</td>\n",
       "      <td>142</td>\n",
       "      <td>103</td>\n",
       "      <td>2.50</td>\n",
       "      <td>0</td>\n",
       "      <td>0</td>\n",
       "      <td>syracuse_university</td>\n",
       "      <td>reject</td>\n",
       "    </tr>\n",
       "    <tr>\n",
       "      <th>7012</th>\n",
       "      <td>0</td>\n",
       "      <td>0</td>\n",
       "      <td>0</td>\n",
       "      <td>90</td>\n",
       "      <td>2.55</td>\n",
       "      <td>0</td>\n",
       "      <td>0</td>\n",
       "      <td>university of colorado boulder</td>\n",
       "      <td>reject</td>\n",
       "    </tr>\n",
       "  </tbody>\n",
       "</table>\n",
       "</div>"
      ],
      "text/plain": [
       "      gre_score  gre_score_quant  gre_score_verbal test_score_toefl  \\\n",
       "6230        204               62               142              103   \n",
       "7012          0                0                 0               90   \n",
       "\n",
       "      undergraduation_score  work_ex  papers_published  \\\n",
       "6230                   2.50        0                 0   \n",
       "7012                   2.55        0                 0   \n",
       "\n",
       "                     university_name  status  \n",
       "6230             syracuse_university  reject  \n",
       "7012  university of colorado boulder  reject  "
      ]
     },
     "execution_count": 72,
     "metadata": {},
     "output_type": "execute_result"
    }
   ],
   "source": [
    "combined_df.loc[(combined_df['gre_score_quant'] <130) | (combined_df['gre_score_verbal'] < 130)  | (combined_df['gre_score'] < 260),:]"
   ]
  },
  {
   "cell_type": "code",
   "execution_count": 73,
   "metadata": {},
   "outputs": [],
   "source": [
    "combined_df = combined_df.loc[~((combined_df['gre_score_quant'] <130) | (combined_df['gre_score_verbal'] < 130)  | (combined_df['gre_score'] < 260)),:]"
   ]
  },
  {
   "cell_type": "code",
   "execution_count": 75,
   "metadata": {},
   "outputs": [
    {
     "data": {
      "text/plain": [
       "gre_score                0\n",
       "gre_score_quant          0\n",
       "gre_score_verbal         0\n",
       "test_score_toefl         0\n",
       "undergraduation_score    0\n",
       "work_ex                  0\n",
       "papers_published         0\n",
       "university_name          0\n",
       "status                   0\n",
       "dtype: int64"
      ]
     },
     "execution_count": 75,
     "metadata": {},
     "output_type": "execute_result"
    }
   ],
   "source": [
    "# No null columns remaining\n",
    "combined_df.isna().sum()"
   ]
  },
  {
   "cell_type": "code",
   "execution_count": 76,
   "metadata": {
    "scrolled": true
   },
   "outputs": [],
   "source": [
    "def replace_special_chars_university_name(i):\n",
    "    a = re.sub('[^A-Za-z]+',' ',str(i))\n",
    "    #a=re.findall(r'\\d+', str(i))\n",
    "    a = a.lower()\n",
    "    \n",
    "    return '_'.join(a.split(' '))"
   ]
  },
  {
   "cell_type": "code",
   "execution_count": 77,
   "metadata": {},
   "outputs": [],
   "source": [
    "#replacing special characters and spaces in university name\n",
    "combined_df.loc[:,\"university_name\"]=combined_df.university_name.apply(replace_special_chars_university_name)"
   ]
  },
  {
   "cell_type": "code",
   "execution_count": 78,
   "metadata": {
    "scrolled": true
   },
   "outputs": [
    {
     "data": {
      "text/plain": [
       "29"
      ]
     },
     "execution_count": 78,
     "metadata": {},
     "output_type": "execute_result"
    }
   ],
   "source": [
    "required_colleges=combined_df.university_name.unique().tolist()\n",
    "len(required_colleges)"
   ]
  },
  {
   "cell_type": "code",
   "execution_count": 79,
   "metadata": {},
   "outputs": [],
   "source": [
    "required_colleges=['northeastern_university','illinois_institute_of_technology','michigan_technological_university','rochester_institute_of_technology','university_of_southern_california','north_carolina_state_university_raleigh','university_of_texas_arlington','university_of_texas_dallas','syracuse_university','clemson_university','new_york_university','indiana_university_bloomington','rutgers_university_new_brunswick', \"---\",'university_of_florida','carnegie_mellon_university','georgia_institiute_of_technology','university_of_colorado_boulder','university_of_north_carolina_at_charlotte','university_of_iowa','university_of_connecticut','worcester_polytechnic_institute','---','kansas_state_university','university_of_cincinnati','university_of_maryland_college_park','university_of_california_irvine','texas_a_m_university_college_station','state_university_of_new_york_at_stony_brook','george_mason_university','university_of_texas_austin']"
   ]
  },
  {
   "cell_type": "code",
   "execution_count": 80,
   "metadata": {},
   "outputs": [],
   "source": [
    "# Assigining universities with their respective rankings in CS\n",
    "required_colleges_ranking = [15,97,117,66,19,49,64,52,118,89,22,48,25,150,62,1,9,58,30, 71, 70,79, 76, 115, 130, 10, 23, 31, 35, 59,16]\n",
    "dictionary_req_college = dict(zip(required_colleges, required_colleges_ranking))\n",
    "dictionary_req_college\n",
    "combined_df['ranking'] = combined_df['university_name']\n",
    "combined_df['ranking'].replace(dictionary_req_college,inplace=True)"
   ]
  },
  {
   "cell_type": "code",
   "execution_count": 81,
   "metadata": {},
   "outputs": [
    {
     "data": {
      "text/plain": [
       "gre_score                0\n",
       "gre_score_quant          0\n",
       "gre_score_verbal         0\n",
       "test_score_toefl         0\n",
       "undergraduation_score    0\n",
       "work_ex                  0\n",
       "papers_published         0\n",
       "university_name          0\n",
       "status                   0\n",
       "ranking                  0\n",
       "dtype: int64"
      ]
     },
     "execution_count": 81,
     "metadata": {},
     "output_type": "execute_result"
    }
   ],
   "source": [
    "# no null values remaining\n",
    "combined_df.isna().sum()"
   ]
  },
  {
   "cell_type": "code",
   "execution_count": 83,
   "metadata": {},
   "outputs": [
    {
     "data": {
      "text/html": [
       "<div>\n",
       "<style scoped>\n",
       "    .dataframe tbody tr th:only-of-type {\n",
       "        vertical-align: middle;\n",
       "    }\n",
       "\n",
       "    .dataframe tbody tr th {\n",
       "        vertical-align: top;\n",
       "    }\n",
       "\n",
       "    .dataframe thead th {\n",
       "        text-align: right;\n",
       "    }\n",
       "</style>\n",
       "<table border=\"1\" class=\"dataframe\">\n",
       "  <thead>\n",
       "    <tr style=\"text-align: right;\">\n",
       "      <th></th>\n",
       "      <th>gre_score</th>\n",
       "      <th>gre_score_quant</th>\n",
       "      <th>gre_score_verbal</th>\n",
       "      <th>test_score_toefl</th>\n",
       "      <th>undergraduation_score</th>\n",
       "      <th>work_ex</th>\n",
       "      <th>papers_published</th>\n",
       "      <th>university_name</th>\n",
       "      <th>status</th>\n",
       "      <th>ranking</th>\n",
       "    </tr>\n",
       "  </thead>\n",
       "  <tbody>\n",
       "    <tr>\n",
       "      <th>0</th>\n",
       "      <td>316</td>\n",
       "      <td>164</td>\n",
       "      <td>152</td>\n",
       "      <td>106</td>\n",
       "      <td>2.90</td>\n",
       "      <td>9</td>\n",
       "      <td>3</td>\n",
       "      <td>northeastern_university</td>\n",
       "      <td>accept</td>\n",
       "      <td>15</td>\n",
       "    </tr>\n",
       "    <tr>\n",
       "      <th>1</th>\n",
       "      <td>314</td>\n",
       "      <td>163</td>\n",
       "      <td>151</td>\n",
       "      <td>114</td>\n",
       "      <td>3.53</td>\n",
       "      <td>7</td>\n",
       "      <td>3</td>\n",
       "      <td>northeastern_university</td>\n",
       "      <td>accept</td>\n",
       "      <td>15</td>\n",
       "    </tr>\n",
       "    <tr>\n",
       "      <th>2</th>\n",
       "      <td>307</td>\n",
       "      <td>160</td>\n",
       "      <td>147</td>\n",
       "      <td>88</td>\n",
       "      <td>3.00</td>\n",
       "      <td>36</td>\n",
       "      <td>0</td>\n",
       "      <td>northeastern_university</td>\n",
       "      <td>accept</td>\n",
       "      <td>15</td>\n",
       "    </tr>\n",
       "    <tr>\n",
       "      <th>3</th>\n",
       "      <td>330</td>\n",
       "      <td>169</td>\n",
       "      <td>161</td>\n",
       "      <td>113</td>\n",
       "      <td>2.40</td>\n",
       "      <td>48</td>\n",
       "      <td>3</td>\n",
       "      <td>northeastern_university</td>\n",
       "      <td>accept</td>\n",
       "      <td>15</td>\n",
       "    </tr>\n",
       "    <tr>\n",
       "      <th>4</th>\n",
       "      <td>316</td>\n",
       "      <td>163</td>\n",
       "      <td>153</td>\n",
       "      <td>99</td>\n",
       "      <td>2.71</td>\n",
       "      <td>30</td>\n",
       "      <td>0</td>\n",
       "      <td>northeastern_university</td>\n",
       "      <td>accept</td>\n",
       "      <td>15</td>\n",
       "    </tr>\n",
       "  </tbody>\n",
       "</table>\n",
       "</div>"
      ],
      "text/plain": [
       "   gre_score  gre_score_quant  gre_score_verbal test_score_toefl  \\\n",
       "0        316              164               152              106   \n",
       "1        314              163               151              114   \n",
       "2        307              160               147               88   \n",
       "3        330              169               161              113   \n",
       "4        316              163               153               99   \n",
       "\n",
       "   undergraduation_score  work_ex  papers_published          university_name  \\\n",
       "0                   2.90        9                 3  northeastern_university   \n",
       "1                   3.53        7                 3  northeastern_university   \n",
       "2                   3.00       36                 0  northeastern_university   \n",
       "3                   2.40       48                 3  northeastern_university   \n",
       "4                   2.71       30                 0  northeastern_university   \n",
       "\n",
       "   status  ranking  \n",
       "0  accept       15  \n",
       "1  accept       15  \n",
       "2  accept       15  \n",
       "3  accept       15  \n",
       "4  accept       15  "
      ]
     },
     "execution_count": 83,
     "metadata": {},
     "output_type": "execute_result"
    }
   ],
   "source": [
    "# cleaned datset \n",
    "combined_df.head()"
   ]
  },
  {
   "cell_type": "code",
   "execution_count": 84,
   "metadata": {},
   "outputs": [
    {
     "data": {
      "text/html": [
       "<div>\n",
       "<style scoped>\n",
       "    .dataframe tbody tr th:only-of-type {\n",
       "        vertical-align: middle;\n",
       "    }\n",
       "\n",
       "    .dataframe tbody tr th {\n",
       "        vertical-align: top;\n",
       "    }\n",
       "\n",
       "    .dataframe thead th {\n",
       "        text-align: right;\n",
       "    }\n",
       "</style>\n",
       "<table border=\"1\" class=\"dataframe\">\n",
       "  <thead>\n",
       "    <tr style=\"text-align: right;\">\n",
       "      <th></th>\n",
       "      <th>gre_score</th>\n",
       "      <th>gre_score_quant</th>\n",
       "      <th>gre_score_verbal</th>\n",
       "      <th>undergraduation_score</th>\n",
       "      <th>work_ex</th>\n",
       "      <th>papers_published</th>\n",
       "      <th>ranking</th>\n",
       "    </tr>\n",
       "  </thead>\n",
       "  <tbody>\n",
       "    <tr>\n",
       "      <th>count</th>\n",
       "      <td>9350.000000</td>\n",
       "      <td>9350.000000</td>\n",
       "      <td>9350.000000</td>\n",
       "      <td>9350.000000</td>\n",
       "      <td>9350.000000</td>\n",
       "      <td>9350.000000</td>\n",
       "      <td>9350.000000</td>\n",
       "    </tr>\n",
       "    <tr>\n",
       "      <th>mean</th>\n",
       "      <td>314.155722</td>\n",
       "      <td>162.828984</td>\n",
       "      <td>151.326738</td>\n",
       "      <td>3.029640</td>\n",
       "      <td>16.857540</td>\n",
       "      <td>0.726417</td>\n",
       "      <td>47.039251</td>\n",
       "    </tr>\n",
       "    <tr>\n",
       "      <th>std</th>\n",
       "      <td>8.641709</td>\n",
       "      <td>4.840835</td>\n",
       "      <td>5.834517</td>\n",
       "      <td>0.488294</td>\n",
       "      <td>16.127621</td>\n",
       "      <td>1.223988</td>\n",
       "      <td>33.960770</td>\n",
       "    </tr>\n",
       "    <tr>\n",
       "      <th>min</th>\n",
       "      <td>260.000000</td>\n",
       "      <td>130.000000</td>\n",
       "      <td>130.000000</td>\n",
       "      <td>1.060000</td>\n",
       "      <td>0.000000</td>\n",
       "      <td>0.000000</td>\n",
       "      <td>1.000000</td>\n",
       "    </tr>\n",
       "    <tr>\n",
       "      <th>25%</th>\n",
       "      <td>308.000000</td>\n",
       "      <td>160.000000</td>\n",
       "      <td>148.000000</td>\n",
       "      <td>2.720000</td>\n",
       "      <td>2.000000</td>\n",
       "      <td>0.000000</td>\n",
       "      <td>16.000000</td>\n",
       "    </tr>\n",
       "    <tr>\n",
       "      <th>50%</th>\n",
       "      <td>314.000000</td>\n",
       "      <td>163.000000</td>\n",
       "      <td>151.000000</td>\n",
       "      <td>3.100000</td>\n",
       "      <td>15.000000</td>\n",
       "      <td>0.000000</td>\n",
       "      <td>35.000000</td>\n",
       "    </tr>\n",
       "    <tr>\n",
       "      <th>75%</th>\n",
       "      <td>320.000000</td>\n",
       "      <td>167.000000</td>\n",
       "      <td>155.000000</td>\n",
       "      <td>3.400000</td>\n",
       "      <td>27.000000</td>\n",
       "      <td>1.000000</td>\n",
       "      <td>64.000000</td>\n",
       "    </tr>\n",
       "    <tr>\n",
       "      <th>max</th>\n",
       "      <td>340.000000</td>\n",
       "      <td>170.000000</td>\n",
       "      <td>170.000000</td>\n",
       "      <td>4.000000</td>\n",
       "      <td>153.000000</td>\n",
       "      <td>3.000000</td>\n",
       "      <td>130.000000</td>\n",
       "    </tr>\n",
       "  </tbody>\n",
       "</table>\n",
       "</div>"
      ],
      "text/plain": [
       "         gre_score  gre_score_quant  gre_score_verbal  undergraduation_score  \\\n",
       "count  9350.000000      9350.000000       9350.000000            9350.000000   \n",
       "mean    314.155722       162.828984        151.326738               3.029640   \n",
       "std       8.641709         4.840835          5.834517               0.488294   \n",
       "min     260.000000       130.000000        130.000000               1.060000   \n",
       "25%     308.000000       160.000000        148.000000               2.720000   \n",
       "50%     314.000000       163.000000        151.000000               3.100000   \n",
       "75%     320.000000       167.000000        155.000000               3.400000   \n",
       "max     340.000000       170.000000        170.000000               4.000000   \n",
       "\n",
       "           work_ex  papers_published      ranking  \n",
       "count  9350.000000       9350.000000  9350.000000  \n",
       "mean     16.857540          0.726417    47.039251  \n",
       "std      16.127621          1.223988    33.960770  \n",
       "min       0.000000          0.000000     1.000000  \n",
       "25%       2.000000          0.000000    16.000000  \n",
       "50%      15.000000          0.000000    35.000000  \n",
       "75%      27.000000          1.000000    64.000000  \n",
       "max     153.000000          3.000000   130.000000  "
      ]
     },
     "execution_count": 84,
     "metadata": {},
     "output_type": "execute_result"
    }
   ],
   "source": [
    "# describing the dataset\n",
    "combined_df.describe()"
   ]
  },
  {
   "cell_type": "code",
   "execution_count": 100,
   "metadata": {},
   "outputs": [],
   "source": [
    "# transferring CSV file\n",
    "combined_df.reset_index(drop =True).to_csv('../../Data/clean_profile_data_all.csv',index=False)"
   ]
  }
 ],
 "metadata": {
  "kernelspec": {
   "display_name": "Python 3",
   "language": "python",
   "name": "python3"
  },
  "language_info": {
   "codemirror_mode": {
    "name": "ipython",
    "version": 3
   },
   "file_extension": ".py",
   "mimetype": "text/x-python",
   "name": "python",
   "nbconvert_exporter": "python",
   "pygments_lexer": "ipython3",
   "version": "3.7.1"
  }
 },
 "nbformat": 4,
 "nbformat_minor": 2
}
