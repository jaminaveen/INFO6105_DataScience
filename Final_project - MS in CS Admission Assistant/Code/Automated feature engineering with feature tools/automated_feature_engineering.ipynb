{
 "cells": [
  {
   "cell_type": "markdown",
   "metadata": {},
   "source": [
    "## This Notebook covers:\n",
    "- Automated feature Engineering using feature tools\n",
    "- Creating classification models \n",
    "- Calculating model performance on the features developed with Automated Feature Engineering\n",
    "- Confusion matrix and Error metrices calculations\n",
    "- Summarization of Results at the end\n"
   ]
  },
  {
   "cell_type": "code",
   "execution_count": 32,
   "metadata": {},
   "outputs": [],
   "source": [
    "# Importing Libraries\n",
    "import featuretools as ft\n",
    "import pandas as pd\n",
    "import numpy as np\n",
    "import matplotlib.pyplot as plt\n",
    "import seaborn as sns\n",
    "from sklearn.metrics import confusion_matrix"
   ]
  },
  {
   "cell_type": "code",
   "execution_count": 33,
   "metadata": {},
   "outputs": [],
   "source": [
    "# Reading the dataset\n",
    "dataset_columns_with_data=pd.read_csv('../../Data/clean_profile_data_all.csv')"
   ]
  },
  {
   "cell_type": "code",
   "execution_count": 34,
   "metadata": {},
   "outputs": [],
   "source": [
    "dataset_columns_with_data['index']=np.arange(0,len(dataset_columns_with_data))"
   ]
  },
  {
   "cell_type": "code",
   "execution_count": 35,
   "metadata": {},
   "outputs": [
    {
     "data": {
      "text/html": [
       "<div>\n",
       "<style scoped>\n",
       "    .dataframe tbody tr th:only-of-type {\n",
       "        vertical-align: middle;\n",
       "    }\n",
       "\n",
       "    .dataframe tbody tr th {\n",
       "        vertical-align: top;\n",
       "    }\n",
       "\n",
       "    .dataframe thead th {\n",
       "        text-align: right;\n",
       "    }\n",
       "</style>\n",
       "<table border=\"1\" class=\"dataframe\">\n",
       "  <thead>\n",
       "    <tr style=\"text-align: right;\">\n",
       "      <th></th>\n",
       "      <th>gre_score</th>\n",
       "      <th>gre_score_quant</th>\n",
       "      <th>gre_score_verbal</th>\n",
       "      <th>test_score_toefl</th>\n",
       "      <th>undergraduation_score</th>\n",
       "      <th>work_ex</th>\n",
       "      <th>papers_published</th>\n",
       "      <th>university_name</th>\n",
       "      <th>status</th>\n",
       "      <th>ranking</th>\n",
       "      <th>index</th>\n",
       "    </tr>\n",
       "  </thead>\n",
       "  <tbody>\n",
       "    <tr>\n",
       "      <th>0</th>\n",
       "      <td>316</td>\n",
       "      <td>164</td>\n",
       "      <td>152</td>\n",
       "      <td>106.0</td>\n",
       "      <td>2.90</td>\n",
       "      <td>9</td>\n",
       "      <td>3</td>\n",
       "      <td>northeastern_university</td>\n",
       "      <td>accept</td>\n",
       "      <td>15</td>\n",
       "      <td>0</td>\n",
       "    </tr>\n",
       "    <tr>\n",
       "      <th>1</th>\n",
       "      <td>314</td>\n",
       "      <td>163</td>\n",
       "      <td>151</td>\n",
       "      <td>114.0</td>\n",
       "      <td>3.53</td>\n",
       "      <td>7</td>\n",
       "      <td>3</td>\n",
       "      <td>northeastern_university</td>\n",
       "      <td>accept</td>\n",
       "      <td>15</td>\n",
       "      <td>1</td>\n",
       "    </tr>\n",
       "    <tr>\n",
       "      <th>2</th>\n",
       "      <td>307</td>\n",
       "      <td>160</td>\n",
       "      <td>147</td>\n",
       "      <td>88.0</td>\n",
       "      <td>3.00</td>\n",
       "      <td>36</td>\n",
       "      <td>0</td>\n",
       "      <td>northeastern_university</td>\n",
       "      <td>accept</td>\n",
       "      <td>15</td>\n",
       "      <td>2</td>\n",
       "    </tr>\n",
       "    <tr>\n",
       "      <th>3</th>\n",
       "      <td>330</td>\n",
       "      <td>169</td>\n",
       "      <td>161</td>\n",
       "      <td>113.0</td>\n",
       "      <td>2.40</td>\n",
       "      <td>48</td>\n",
       "      <td>3</td>\n",
       "      <td>northeastern_university</td>\n",
       "      <td>accept</td>\n",
       "      <td>15</td>\n",
       "      <td>3</td>\n",
       "    </tr>\n",
       "    <tr>\n",
       "      <th>4</th>\n",
       "      <td>316</td>\n",
       "      <td>163</td>\n",
       "      <td>153</td>\n",
       "      <td>99.0</td>\n",
       "      <td>2.71</td>\n",
       "      <td>30</td>\n",
       "      <td>0</td>\n",
       "      <td>northeastern_university</td>\n",
       "      <td>accept</td>\n",
       "      <td>15</td>\n",
       "      <td>4</td>\n",
       "    </tr>\n",
       "  </tbody>\n",
       "</table>\n",
       "</div>"
      ],
      "text/plain": [
       "   gre_score  gre_score_quant  gre_score_verbal  test_score_toefl  \\\n",
       "0        316              164               152             106.0   \n",
       "1        314              163               151             114.0   \n",
       "2        307              160               147              88.0   \n",
       "3        330              169               161             113.0   \n",
       "4        316              163               153              99.0   \n",
       "\n",
       "   undergraduation_score  work_ex  papers_published          university_name  \\\n",
       "0                   2.90        9                 3  northeastern_university   \n",
       "1                   3.53        7                 3  northeastern_university   \n",
       "2                   3.00       36                 0  northeastern_university   \n",
       "3                   2.40       48                 3  northeastern_university   \n",
       "4                   2.71       30                 0  northeastern_university   \n",
       "\n",
       "   status  ranking  index  \n",
       "0  accept       15      0  \n",
       "1  accept       15      1  \n",
       "2  accept       15      2  \n",
       "3  accept       15      3  \n",
       "4  accept       15      4  "
      ]
     },
     "execution_count": 35,
     "metadata": {},
     "output_type": "execute_result"
    }
   ],
   "source": [
    "dataset_columns_with_data.head()"
   ]
  },
  {
   "cell_type": "code",
   "execution_count": 36,
   "metadata": {},
   "outputs": [
    {
     "data": {
      "text/plain": [
       "Entityset: admissions_data\n",
       "  Entities:\n",
       "    admissions_data [Rows: 9350, Columns: 10]\n",
       "  Relationships:\n",
       "    No relationships"
      ]
     },
     "execution_count": 36,
     "metadata": {},
     "output_type": "execute_result"
    }
   ],
   "source": [
    "# creating an entity set 'es'\n",
    "decisions=dataset_columns_with_data.pop('status')\n",
    "es = ft.EntitySet(id = 'admissions_data')\n",
    "\n",
    "# adding a dataframe\n",
    "es.entity_from_dataframe(entity_id = 'admissions_data', dataframe = dataset_columns_with_data, index = 'index')"
   ]
  },
  {
   "cell_type": "code",
   "execution_count": 37,
   "metadata": {},
   "outputs": [
    {
     "data": {
      "text/plain": [
       "Entityset: admissions_data\n",
       "  Entities:\n",
       "    admissions_data [Rows: 9350, Columns: 9]\n",
       "    university_class [Rows: 29, Columns: 2]\n",
       "  Relationships:\n",
       "    admissions_data.university_name -> university_class.university_name"
      ]
     },
     "execution_count": 37,
     "metadata": {},
     "output_type": "execute_result"
    }
   ],
   "source": [
    "es.normalize_entity(base_entity_id='admissions_data', new_entity_id='university_class', index = 'university_name',\n",
    "additional_variables = ['ranking'])"
   ]
  },
  {
   "cell_type": "code",
   "execution_count": 38,
   "metadata": {},
   "outputs": [
    {
     "name": "stdout",
     "output_type": "stream",
     "text": [
      "Built 52 features\n",
      "EntitySet scattered to workers in 5.194 seconds\n",
      "Elapsed: 00:00 | Remaining: 00:00 | Progress: 100%|██████████| Calculated: 10/10 chunks\n"
     ]
    },
    {
     "name": "stderr",
     "output_type": "stream",
     "text": [
      "tornado.application - ERROR - Exception in Future <Future cancelled> after timeout\n",
      "Traceback (most recent call last):\n",
      "  File \"C:\\ProgramData\\Anaconda3\\lib\\site-packages\\tornado\\gen.py\", line 970, in error_callback\n",
      "    future.result()\n",
      "concurrent.futures._base.CancelledError\n",
      "distributed.comm.tcp - WARNING - Closing dangling stream in <TCP local=tcp://127.0.0.1:54059 remote=tcp://127.0.0.1:54027>\n"
     ]
    }
   ],
   "source": [
    "feature_matrix, feature_names = ft.dfs(entityset=es,target_entity = 'admissions_data',max_depth = 2,verbose = 1,n_jobs = 3)"
   ]
  },
  {
   "cell_type": "code",
   "execution_count": 39,
   "metadata": {
    "scrolled": true
   },
   "outputs": [
    {
     "name": "stdout",
     "output_type": "stream",
     "text": [
      "<class 'pandas.core.frame.DataFrame'>\n",
      "Int64Index: 9350 entries, 0 to 9349\n",
      "Data columns (total 52 columns):\n",
      "gre_score                                                       9350 non-null int64\n",
      "gre_score_quant                                                 9350 non-null int64\n",
      "gre_score_verbal                                                9350 non-null int64\n",
      "test_score_toefl                                                9350 non-null float64\n",
      "undergraduation_score                                           9350 non-null float64\n",
      "work_ex                                                         9350 non-null int64\n",
      "papers_published                                                9350 non-null int64\n",
      "university_name                                                 9350 non-null object\n",
      "university_class.ranking                                        9350 non-null int64\n",
      "university_class.SUM(admissions_data.gre_score)                 9350 non-null int64\n",
      "university_class.SUM(admissions_data.gre_score_quant)           9350 non-null int64\n",
      "university_class.SUM(admissions_data.gre_score_verbal)          9350 non-null int64\n",
      "university_class.SUM(admissions_data.test_score_toefl)          9350 non-null float64\n",
      "university_class.SUM(admissions_data.undergraduation_score)     9350 non-null float64\n",
      "university_class.SUM(admissions_data.work_ex)                   9350 non-null int64\n",
      "university_class.SUM(admissions_data.papers_published)          9350 non-null int64\n",
      "university_class.STD(admissions_data.gre_score)                 9350 non-null float64\n",
      "university_class.STD(admissions_data.gre_score_quant)           9350 non-null float64\n",
      "university_class.STD(admissions_data.gre_score_verbal)          9350 non-null float64\n",
      "university_class.STD(admissions_data.test_score_toefl)          9350 non-null float64\n",
      "university_class.STD(admissions_data.undergraduation_score)     9350 non-null float64\n",
      "university_class.STD(admissions_data.work_ex)                   9350 non-null float64\n",
      "university_class.STD(admissions_data.papers_published)          9350 non-null float64\n",
      "university_class.MAX(admissions_data.gre_score)                 9350 non-null int64\n",
      "university_class.MAX(admissions_data.gre_score_quant)           9350 non-null int64\n",
      "university_class.MAX(admissions_data.gre_score_verbal)          9350 non-null int64\n",
      "university_class.MAX(admissions_data.test_score_toefl)          9350 non-null float64\n",
      "university_class.MAX(admissions_data.undergraduation_score)     9350 non-null float64\n",
      "university_class.MAX(admissions_data.work_ex)                   9350 non-null int64\n",
      "university_class.MAX(admissions_data.papers_published)          9350 non-null int64\n",
      "university_class.SKEW(admissions_data.gre_score)                9350 non-null float64\n",
      "university_class.SKEW(admissions_data.gre_score_quant)          9350 non-null float64\n",
      "university_class.SKEW(admissions_data.gre_score_verbal)         9350 non-null float64\n",
      "university_class.SKEW(admissions_data.test_score_toefl)         9350 non-null float64\n",
      "university_class.SKEW(admissions_data.undergraduation_score)    9350 non-null float64\n",
      "university_class.SKEW(admissions_data.work_ex)                  9350 non-null float64\n",
      "university_class.SKEW(admissions_data.papers_published)         9350 non-null float64\n",
      "university_class.MIN(admissions_data.gre_score)                 9350 non-null int64\n",
      "university_class.MIN(admissions_data.gre_score_quant)           9350 non-null int64\n",
      "university_class.MIN(admissions_data.gre_score_verbal)          9350 non-null int64\n",
      "university_class.MIN(admissions_data.test_score_toefl)          9350 non-null float64\n",
      "university_class.MIN(admissions_data.undergraduation_score)     9350 non-null float64\n",
      "university_class.MIN(admissions_data.work_ex)                   9350 non-null int64\n",
      "university_class.MIN(admissions_data.papers_published)          9350 non-null int64\n",
      "university_class.MEAN(admissions_data.gre_score)                9350 non-null float64\n",
      "university_class.MEAN(admissions_data.gre_score_quant)          9350 non-null float64\n",
      "university_class.MEAN(admissions_data.gre_score_verbal)         9350 non-null float64\n",
      "university_class.MEAN(admissions_data.test_score_toefl)         9350 non-null float64\n",
      "university_class.MEAN(admissions_data.undergraduation_score)    9350 non-null float64\n",
      "university_class.MEAN(admissions_data.work_ex)                  9350 non-null float64\n",
      "university_class.MEAN(admissions_data.papers_published)         9350 non-null float64\n",
      "university_class.COUNT(admissions_data)                         9350 non-null int64\n",
      "dtypes: float64(29), int64(22), object(1)\n",
      "memory usage: 3.8+ MB\n"
     ]
    }
   ],
   "source": [
    "feature_matrix.info()"
   ]
  },
  {
   "cell_type": "code",
   "execution_count": 40,
   "metadata": {
    "scrolled": true
   },
   "outputs": [],
   "source": [
    "feature_matrix.to_csv('../../Data/feature_matrix.csv')"
   ]
  },
  {
   "cell_type": "code",
   "execution_count": 41,
   "metadata": {},
   "outputs": [
    {
     "data": {
      "text/html": [
       "<div>\n",
       "<style scoped>\n",
       "    .dataframe tbody tr th:only-of-type {\n",
       "        vertical-align: middle;\n",
       "    }\n",
       "\n",
       "    .dataframe tbody tr th {\n",
       "        vertical-align: top;\n",
       "    }\n",
       "\n",
       "    .dataframe thead th {\n",
       "        text-align: right;\n",
       "    }\n",
       "</style>\n",
       "<table border=\"1\" class=\"dataframe\">\n",
       "  <thead>\n",
       "    <tr style=\"text-align: right;\">\n",
       "      <th></th>\n",
       "      <th>gre_score</th>\n",
       "      <th>gre_score_quant</th>\n",
       "      <th>gre_score_verbal</th>\n",
       "      <th>test_score_toefl</th>\n",
       "      <th>undergraduation_score</th>\n",
       "      <th>work_ex</th>\n",
       "      <th>papers_published</th>\n",
       "      <th>university_name</th>\n",
       "      <th>university_class.ranking</th>\n",
       "      <th>university_class.SUM(admissions_data.gre_score)</th>\n",
       "      <th>...</th>\n",
       "      <th>university_class.MIN(admissions_data.work_ex)</th>\n",
       "      <th>university_class.MIN(admissions_data.papers_published)</th>\n",
       "      <th>university_class.MEAN(admissions_data.gre_score)</th>\n",
       "      <th>university_class.MEAN(admissions_data.gre_score_quant)</th>\n",
       "      <th>university_class.MEAN(admissions_data.gre_score_verbal)</th>\n",
       "      <th>university_class.MEAN(admissions_data.test_score_toefl)</th>\n",
       "      <th>university_class.MEAN(admissions_data.undergraduation_score)</th>\n",
       "      <th>university_class.MEAN(admissions_data.work_ex)</th>\n",
       "      <th>university_class.MEAN(admissions_data.papers_published)</th>\n",
       "      <th>university_class.COUNT(admissions_data)</th>\n",
       "    </tr>\n",
       "    <tr>\n",
       "      <th>index</th>\n",
       "      <th></th>\n",
       "      <th></th>\n",
       "      <th></th>\n",
       "      <th></th>\n",
       "      <th></th>\n",
       "      <th></th>\n",
       "      <th></th>\n",
       "      <th></th>\n",
       "      <th></th>\n",
       "      <th></th>\n",
       "      <th></th>\n",
       "      <th></th>\n",
       "      <th></th>\n",
       "      <th></th>\n",
       "      <th></th>\n",
       "      <th></th>\n",
       "      <th></th>\n",
       "      <th></th>\n",
       "      <th></th>\n",
       "      <th></th>\n",
       "      <th></th>\n",
       "    </tr>\n",
       "  </thead>\n",
       "  <tbody>\n",
       "    <tr>\n",
       "      <th>0</th>\n",
       "      <td>316</td>\n",
       "      <td>164</td>\n",
       "      <td>152</td>\n",
       "      <td>106.0</td>\n",
       "      <td>2.90</td>\n",
       "      <td>9</td>\n",
       "      <td>3</td>\n",
       "      <td>northeastern_university</td>\n",
       "      <td>15</td>\n",
       "      <td>518554</td>\n",
       "      <td>...</td>\n",
       "      <td>0</td>\n",
       "      <td>0</td>\n",
       "      <td>313.704779</td>\n",
       "      <td>162.431942</td>\n",
       "      <td>151.272837</td>\n",
       "      <td>97.344223</td>\n",
       "      <td>2.941785</td>\n",
       "      <td>17.15608</td>\n",
       "      <td>0.741077</td>\n",
       "      <td>1653</td>\n",
       "    </tr>\n",
       "    <tr>\n",
       "      <th>1</th>\n",
       "      <td>314</td>\n",
       "      <td>163</td>\n",
       "      <td>151</td>\n",
       "      <td>114.0</td>\n",
       "      <td>3.53</td>\n",
       "      <td>7</td>\n",
       "      <td>3</td>\n",
       "      <td>northeastern_university</td>\n",
       "      <td>15</td>\n",
       "      <td>518554</td>\n",
       "      <td>...</td>\n",
       "      <td>0</td>\n",
       "      <td>0</td>\n",
       "      <td>313.704779</td>\n",
       "      <td>162.431942</td>\n",
       "      <td>151.272837</td>\n",
       "      <td>97.344223</td>\n",
       "      <td>2.941785</td>\n",
       "      <td>17.15608</td>\n",
       "      <td>0.741077</td>\n",
       "      <td>1653</td>\n",
       "    </tr>\n",
       "    <tr>\n",
       "      <th>2</th>\n",
       "      <td>307</td>\n",
       "      <td>160</td>\n",
       "      <td>147</td>\n",
       "      <td>88.0</td>\n",
       "      <td>3.00</td>\n",
       "      <td>36</td>\n",
       "      <td>0</td>\n",
       "      <td>northeastern_university</td>\n",
       "      <td>15</td>\n",
       "      <td>518554</td>\n",
       "      <td>...</td>\n",
       "      <td>0</td>\n",
       "      <td>0</td>\n",
       "      <td>313.704779</td>\n",
       "      <td>162.431942</td>\n",
       "      <td>151.272837</td>\n",
       "      <td>97.344223</td>\n",
       "      <td>2.941785</td>\n",
       "      <td>17.15608</td>\n",
       "      <td>0.741077</td>\n",
       "      <td>1653</td>\n",
       "    </tr>\n",
       "    <tr>\n",
       "      <th>3</th>\n",
       "      <td>330</td>\n",
       "      <td>169</td>\n",
       "      <td>161</td>\n",
       "      <td>113.0</td>\n",
       "      <td>2.40</td>\n",
       "      <td>48</td>\n",
       "      <td>3</td>\n",
       "      <td>northeastern_university</td>\n",
       "      <td>15</td>\n",
       "      <td>518554</td>\n",
       "      <td>...</td>\n",
       "      <td>0</td>\n",
       "      <td>0</td>\n",
       "      <td>313.704779</td>\n",
       "      <td>162.431942</td>\n",
       "      <td>151.272837</td>\n",
       "      <td>97.344223</td>\n",
       "      <td>2.941785</td>\n",
       "      <td>17.15608</td>\n",
       "      <td>0.741077</td>\n",
       "      <td>1653</td>\n",
       "    </tr>\n",
       "    <tr>\n",
       "      <th>4</th>\n",
       "      <td>316</td>\n",
       "      <td>163</td>\n",
       "      <td>153</td>\n",
       "      <td>99.0</td>\n",
       "      <td>2.71</td>\n",
       "      <td>30</td>\n",
       "      <td>0</td>\n",
       "      <td>northeastern_university</td>\n",
       "      <td>15</td>\n",
       "      <td>518554</td>\n",
       "      <td>...</td>\n",
       "      <td>0</td>\n",
       "      <td>0</td>\n",
       "      <td>313.704779</td>\n",
       "      <td>162.431942</td>\n",
       "      <td>151.272837</td>\n",
       "      <td>97.344223</td>\n",
       "      <td>2.941785</td>\n",
       "      <td>17.15608</td>\n",
       "      <td>0.741077</td>\n",
       "      <td>1653</td>\n",
       "    </tr>\n",
       "  </tbody>\n",
       "</table>\n",
       "<p>5 rows × 52 columns</p>\n",
       "</div>"
      ],
      "text/plain": [
       "       gre_score  gre_score_quant  gre_score_verbal  test_score_toefl  \\\n",
       "index                                                                   \n",
       "0            316              164               152             106.0   \n",
       "1            314              163               151             114.0   \n",
       "2            307              160               147              88.0   \n",
       "3            330              169               161             113.0   \n",
       "4            316              163               153              99.0   \n",
       "\n",
       "       undergraduation_score  work_ex  papers_published  \\\n",
       "index                                                     \n",
       "0                       2.90        9                 3   \n",
       "1                       3.53        7                 3   \n",
       "2                       3.00       36                 0   \n",
       "3                       2.40       48                 3   \n",
       "4                       2.71       30                 0   \n",
       "\n",
       "               university_name  university_class.ranking  \\\n",
       "index                                                      \n",
       "0      northeastern_university                        15   \n",
       "1      northeastern_university                        15   \n",
       "2      northeastern_university                        15   \n",
       "3      northeastern_university                        15   \n",
       "4      northeastern_university                        15   \n",
       "\n",
       "       university_class.SUM(admissions_data.gre_score)  \\\n",
       "index                                                    \n",
       "0                                               518554   \n",
       "1                                               518554   \n",
       "2                                               518554   \n",
       "3                                               518554   \n",
       "4                                               518554   \n",
       "\n",
       "                        ...                     \\\n",
       "index                   ...                      \n",
       "0                       ...                      \n",
       "1                       ...                      \n",
       "2                       ...                      \n",
       "3                       ...                      \n",
       "4                       ...                      \n",
       "\n",
       "       university_class.MIN(admissions_data.work_ex)  \\\n",
       "index                                                  \n",
       "0                                                  0   \n",
       "1                                                  0   \n",
       "2                                                  0   \n",
       "3                                                  0   \n",
       "4                                                  0   \n",
       "\n",
       "       university_class.MIN(admissions_data.papers_published)  \\\n",
       "index                                                           \n",
       "0                                                      0        \n",
       "1                                                      0        \n",
       "2                                                      0        \n",
       "3                                                      0        \n",
       "4                                                      0        \n",
       "\n",
       "       university_class.MEAN(admissions_data.gre_score)  \\\n",
       "index                                                     \n",
       "0                                            313.704779   \n",
       "1                                            313.704779   \n",
       "2                                            313.704779   \n",
       "3                                            313.704779   \n",
       "4                                            313.704779   \n",
       "\n",
       "       university_class.MEAN(admissions_data.gre_score_quant)  \\\n",
       "index                                                           \n",
       "0                                             162.431942        \n",
       "1                                             162.431942        \n",
       "2                                             162.431942        \n",
       "3                                             162.431942        \n",
       "4                                             162.431942        \n",
       "\n",
       "       university_class.MEAN(admissions_data.gre_score_verbal)  \\\n",
       "index                                                            \n",
       "0                                             151.272837         \n",
       "1                                             151.272837         \n",
       "2                                             151.272837         \n",
       "3                                             151.272837         \n",
       "4                                             151.272837         \n",
       "\n",
       "       university_class.MEAN(admissions_data.test_score_toefl)  \\\n",
       "index                                                            \n",
       "0                                              97.344223         \n",
       "1                                              97.344223         \n",
       "2                                              97.344223         \n",
       "3                                              97.344223         \n",
       "4                                              97.344223         \n",
       "\n",
       "       university_class.MEAN(admissions_data.undergraduation_score)  \\\n",
       "index                                                                 \n",
       "0                                               2.941785              \n",
       "1                                               2.941785              \n",
       "2                                               2.941785              \n",
       "3                                               2.941785              \n",
       "4                                               2.941785              \n",
       "\n",
       "       university_class.MEAN(admissions_data.work_ex)  \\\n",
       "index                                                   \n",
       "0                                            17.15608   \n",
       "1                                            17.15608   \n",
       "2                                            17.15608   \n",
       "3                                            17.15608   \n",
       "4                                            17.15608   \n",
       "\n",
       "       university_class.MEAN(admissions_data.papers_published)  \\\n",
       "index                                                            \n",
       "0                                               0.741077         \n",
       "1                                               0.741077         \n",
       "2                                               0.741077         \n",
       "3                                               0.741077         \n",
       "4                                               0.741077         \n",
       "\n",
       "       university_class.COUNT(admissions_data)  \n",
       "index                                           \n",
       "0                                         1653  \n",
       "1                                         1653  \n",
       "2                                         1653  \n",
       "3                                         1653  \n",
       "4                                         1653  \n",
       "\n",
       "[5 rows x 52 columns]"
      ]
     },
     "execution_count": 41,
     "metadata": {},
     "output_type": "execute_result"
    }
   ],
   "source": [
    "feature_matrix.head()"
   ]
  },
  {
   "cell_type": "code",
   "execution_count": 42,
   "metadata": {},
   "outputs": [
    {
     "name": "stdout",
     "output_type": "stream",
     "text": [
      "======================== These are the list of numerical features : ========================\n",
      "gre_score , gre_score_quant , gre_score_verbal , test_score_toefl , undergraduation_score , work_ex , papers_published , university_class.ranking , university_class.SUM(admissions_data.gre_score) , university_class.SUM(admissions_data.gre_score_quant) , university_class.SUM(admissions_data.gre_score_verbal) , university_class.SUM(admissions_data.test_score_toefl) , university_class.SUM(admissions_data.undergraduation_score) , university_class.SUM(admissions_data.work_ex) , university_class.SUM(admissions_data.papers_published) , university_class.STD(admissions_data.gre_score) , university_class.STD(admissions_data.gre_score_quant) , university_class.STD(admissions_data.gre_score_verbal) , university_class.STD(admissions_data.test_score_toefl) , university_class.STD(admissions_data.undergraduation_score) , university_class.STD(admissions_data.work_ex) , university_class.STD(admissions_data.papers_published) , university_class.MAX(admissions_data.gre_score) , university_class.MAX(admissions_data.gre_score_quant) , university_class.MAX(admissions_data.gre_score_verbal) , university_class.MAX(admissions_data.test_score_toefl) , university_class.MAX(admissions_data.undergraduation_score) , university_class.MAX(admissions_data.work_ex) , university_class.MAX(admissions_data.papers_published) , university_class.SKEW(admissions_data.gre_score) , university_class.SKEW(admissions_data.gre_score_quant) , university_class.SKEW(admissions_data.gre_score_verbal) , university_class.SKEW(admissions_data.test_score_toefl) , university_class.SKEW(admissions_data.undergraduation_score) , university_class.SKEW(admissions_data.work_ex) , university_class.SKEW(admissions_data.papers_published) , university_class.MIN(admissions_data.gre_score) , university_class.MIN(admissions_data.gre_score_quant) , university_class.MIN(admissions_data.gre_score_verbal) , university_class.MIN(admissions_data.test_score_toefl) , university_class.MIN(admissions_data.undergraduation_score) , university_class.MIN(admissions_data.work_ex) , university_class.MIN(admissions_data.papers_published) , university_class.MEAN(admissions_data.gre_score) , university_class.MEAN(admissions_data.gre_score_quant) , university_class.MEAN(admissions_data.gre_score_verbal) , university_class.MEAN(admissions_data.test_score_toefl) , university_class.MEAN(admissions_data.undergraduation_score) , university_class.MEAN(admissions_data.work_ex) , university_class.MEAN(admissions_data.papers_published) , university_class.COUNT(admissions_data) , "
     ]
    }
   ],
   "source": [
    "numerical_data = feature_matrix.select_dtypes(include = ['int64','float','uint8'])\n",
    "categorical_data = feature_matrix.select_dtypes(include = ['object'])\n",
    "categorical_features = categorical_data.columns.values\n",
    "numerical_features = numerical_data.columns.values\n",
    "print('========================','These are the list of numerical features :','========================')\n",
    "for num_fea in numerical_features:\n",
    "    print(num_fea,\",\", end=\" \")"
   ]
  },
  {
   "cell_type": "code",
   "execution_count": 43,
   "metadata": {
    "scrolled": true
   },
   "outputs": [
    {
     "name": "stdout",
     "output_type": "stream",
     "text": [
      "======================== These are the list of categorical features : ========================\n",
      "university_name "
     ]
    }
   ],
   "source": [
    "print('========================','These are the list of categorical features :','========================')\n",
    "for cat_fea in categorical_features:\n",
    "    print(cat_fea, end=\" \")"
   ]
  },
  {
   "cell_type": "code",
   "execution_count": 44,
   "metadata": {},
   "outputs": [],
   "source": [
    "# One hot encoing features\n",
    "def onehotencoder(dataset_columns_with_data,column):\n",
    "    return feature_matrix.drop(columns=column).join(pd.get_dummies(feature_matrix[column],drop_first=True))\n",
    "#replacing nominal categorical features with numeric data using one hot encoding technique\n",
    "for feature in ['university_name']:\n",
    "    feature_matrix1_with_numerics = onehotencoder(feature_matrix,feature)"
   ]
  },
  {
   "cell_type": "code",
   "execution_count": 45,
   "metadata": {
    "scrolled": true
   },
   "outputs": [],
   "source": [
    "feature_matrix1_with_numerics.dropna(axis=1,inplace=True)"
   ]
  },
  {
   "cell_type": "code",
   "execution_count": 46,
   "metadata": {},
   "outputs": [
    {
     "data": {
      "text/html": [
       "<div>\n",
       "<style scoped>\n",
       "    .dataframe tbody tr th:only-of-type {\n",
       "        vertical-align: middle;\n",
       "    }\n",
       "\n",
       "    .dataframe tbody tr th {\n",
       "        vertical-align: top;\n",
       "    }\n",
       "\n",
       "    .dataframe thead th {\n",
       "        text-align: right;\n",
       "    }\n",
       "</style>\n",
       "<table border=\"1\" class=\"dataframe\">\n",
       "  <thead>\n",
       "    <tr style=\"text-align: right;\">\n",
       "      <th></th>\n",
       "      <th>gre_score</th>\n",
       "      <th>gre_score_quant</th>\n",
       "      <th>gre_score_verbal</th>\n",
       "      <th>test_score_toefl</th>\n",
       "      <th>undergraduation_score</th>\n",
       "      <th>work_ex</th>\n",
       "      <th>papers_published</th>\n",
       "      <th>university_class.ranking</th>\n",
       "      <th>university_class.SUM(admissions_data.gre_score)</th>\n",
       "      <th>university_class.SUM(admissions_data.gre_score_quant)</th>\n",
       "      <th>...</th>\n",
       "      <th>university_of_connecticut</th>\n",
       "      <th>university_of_florida</th>\n",
       "      <th>university_of_iowa</th>\n",
       "      <th>university_of_maryland_college_park</th>\n",
       "      <th>university_of_north_carolina_at_charlotte</th>\n",
       "      <th>university_of_southern_california</th>\n",
       "      <th>university_of_texas_arlington</th>\n",
       "      <th>university_of_texas_austin</th>\n",
       "      <th>university_of_texas_dallas</th>\n",
       "      <th>worcester_polytechnic_institute</th>\n",
       "    </tr>\n",
       "    <tr>\n",
       "      <th>index</th>\n",
       "      <th></th>\n",
       "      <th></th>\n",
       "      <th></th>\n",
       "      <th></th>\n",
       "      <th></th>\n",
       "      <th></th>\n",
       "      <th></th>\n",
       "      <th></th>\n",
       "      <th></th>\n",
       "      <th></th>\n",
       "      <th></th>\n",
       "      <th></th>\n",
       "      <th></th>\n",
       "      <th></th>\n",
       "      <th></th>\n",
       "      <th></th>\n",
       "      <th></th>\n",
       "      <th></th>\n",
       "      <th></th>\n",
       "      <th></th>\n",
       "      <th></th>\n",
       "    </tr>\n",
       "  </thead>\n",
       "  <tbody>\n",
       "    <tr>\n",
       "      <th>0</th>\n",
       "      <td>316</td>\n",
       "      <td>164</td>\n",
       "      <td>152</td>\n",
       "      <td>106.0</td>\n",
       "      <td>2.90</td>\n",
       "      <td>9</td>\n",
       "      <td>3</td>\n",
       "      <td>15</td>\n",
       "      <td>518554</td>\n",
       "      <td>268500</td>\n",
       "      <td>...</td>\n",
       "      <td>0</td>\n",
       "      <td>0</td>\n",
       "      <td>0</td>\n",
       "      <td>0</td>\n",
       "      <td>0</td>\n",
       "      <td>0</td>\n",
       "      <td>0</td>\n",
       "      <td>0</td>\n",
       "      <td>0</td>\n",
       "      <td>0</td>\n",
       "    </tr>\n",
       "    <tr>\n",
       "      <th>1</th>\n",
       "      <td>314</td>\n",
       "      <td>163</td>\n",
       "      <td>151</td>\n",
       "      <td>114.0</td>\n",
       "      <td>3.53</td>\n",
       "      <td>7</td>\n",
       "      <td>3</td>\n",
       "      <td>15</td>\n",
       "      <td>518554</td>\n",
       "      <td>268500</td>\n",
       "      <td>...</td>\n",
       "      <td>0</td>\n",
       "      <td>0</td>\n",
       "      <td>0</td>\n",
       "      <td>0</td>\n",
       "      <td>0</td>\n",
       "      <td>0</td>\n",
       "      <td>0</td>\n",
       "      <td>0</td>\n",
       "      <td>0</td>\n",
       "      <td>0</td>\n",
       "    </tr>\n",
       "    <tr>\n",
       "      <th>2</th>\n",
       "      <td>307</td>\n",
       "      <td>160</td>\n",
       "      <td>147</td>\n",
       "      <td>88.0</td>\n",
       "      <td>3.00</td>\n",
       "      <td>36</td>\n",
       "      <td>0</td>\n",
       "      <td>15</td>\n",
       "      <td>518554</td>\n",
       "      <td>268500</td>\n",
       "      <td>...</td>\n",
       "      <td>0</td>\n",
       "      <td>0</td>\n",
       "      <td>0</td>\n",
       "      <td>0</td>\n",
       "      <td>0</td>\n",
       "      <td>0</td>\n",
       "      <td>0</td>\n",
       "      <td>0</td>\n",
       "      <td>0</td>\n",
       "      <td>0</td>\n",
       "    </tr>\n",
       "    <tr>\n",
       "      <th>3</th>\n",
       "      <td>330</td>\n",
       "      <td>169</td>\n",
       "      <td>161</td>\n",
       "      <td>113.0</td>\n",
       "      <td>2.40</td>\n",
       "      <td>48</td>\n",
       "      <td>3</td>\n",
       "      <td>15</td>\n",
       "      <td>518554</td>\n",
       "      <td>268500</td>\n",
       "      <td>...</td>\n",
       "      <td>0</td>\n",
       "      <td>0</td>\n",
       "      <td>0</td>\n",
       "      <td>0</td>\n",
       "      <td>0</td>\n",
       "      <td>0</td>\n",
       "      <td>0</td>\n",
       "      <td>0</td>\n",
       "      <td>0</td>\n",
       "      <td>0</td>\n",
       "    </tr>\n",
       "    <tr>\n",
       "      <th>4</th>\n",
       "      <td>316</td>\n",
       "      <td>163</td>\n",
       "      <td>153</td>\n",
       "      <td>99.0</td>\n",
       "      <td>2.71</td>\n",
       "      <td>30</td>\n",
       "      <td>0</td>\n",
       "      <td>15</td>\n",
       "      <td>518554</td>\n",
       "      <td>268500</td>\n",
       "      <td>...</td>\n",
       "      <td>0</td>\n",
       "      <td>0</td>\n",
       "      <td>0</td>\n",
       "      <td>0</td>\n",
       "      <td>0</td>\n",
       "      <td>0</td>\n",
       "      <td>0</td>\n",
       "      <td>0</td>\n",
       "      <td>0</td>\n",
       "      <td>0</td>\n",
       "    </tr>\n",
       "  </tbody>\n",
       "</table>\n",
       "<p>5 rows × 79 columns</p>\n",
       "</div>"
      ],
      "text/plain": [
       "       gre_score  gre_score_quant  gre_score_verbal  test_score_toefl  \\\n",
       "index                                                                   \n",
       "0            316              164               152             106.0   \n",
       "1            314              163               151             114.0   \n",
       "2            307              160               147              88.0   \n",
       "3            330              169               161             113.0   \n",
       "4            316              163               153              99.0   \n",
       "\n",
       "       undergraduation_score  work_ex  papers_published  \\\n",
       "index                                                     \n",
       "0                       2.90        9                 3   \n",
       "1                       3.53        7                 3   \n",
       "2                       3.00       36                 0   \n",
       "3                       2.40       48                 3   \n",
       "4                       2.71       30                 0   \n",
       "\n",
       "       university_class.ranking  \\\n",
       "index                             \n",
       "0                            15   \n",
       "1                            15   \n",
       "2                            15   \n",
       "3                            15   \n",
       "4                            15   \n",
       "\n",
       "       university_class.SUM(admissions_data.gre_score)  \\\n",
       "index                                                    \n",
       "0                                               518554   \n",
       "1                                               518554   \n",
       "2                                               518554   \n",
       "3                                               518554   \n",
       "4                                               518554   \n",
       "\n",
       "       university_class.SUM(admissions_data.gre_score_quant)  \\\n",
       "index                                                          \n",
       "0                                                 268500       \n",
       "1                                                 268500       \n",
       "2                                                 268500       \n",
       "3                                                 268500       \n",
       "4                                                 268500       \n",
       "\n",
       "                    ...                 university_of_connecticut  \\\n",
       "index               ...                                             \n",
       "0                   ...                                         0   \n",
       "1                   ...                                         0   \n",
       "2                   ...                                         0   \n",
       "3                   ...                                         0   \n",
       "4                   ...                                         0   \n",
       "\n",
       "       university_of_florida  university_of_iowa  \\\n",
       "index                                              \n",
       "0                          0                   0   \n",
       "1                          0                   0   \n",
       "2                          0                   0   \n",
       "3                          0                   0   \n",
       "4                          0                   0   \n",
       "\n",
       "       university_of_maryland_college_park  \\\n",
       "index                                        \n",
       "0                                        0   \n",
       "1                                        0   \n",
       "2                                        0   \n",
       "3                                        0   \n",
       "4                                        0   \n",
       "\n",
       "       university_of_north_carolina_at_charlotte  \\\n",
       "index                                              \n",
       "0                                              0   \n",
       "1                                              0   \n",
       "2                                              0   \n",
       "3                                              0   \n",
       "4                                              0   \n",
       "\n",
       "       university_of_southern_california  university_of_texas_arlington  \\\n",
       "index                                                                     \n",
       "0                                      0                              0   \n",
       "1                                      0                              0   \n",
       "2                                      0                              0   \n",
       "3                                      0                              0   \n",
       "4                                      0                              0   \n",
       "\n",
       "       university_of_texas_austin  university_of_texas_dallas  \\\n",
       "index                                                           \n",
       "0                               0                           0   \n",
       "1                               0                           0   \n",
       "2                               0                           0   \n",
       "3                               0                           0   \n",
       "4                               0                           0   \n",
       "\n",
       "       worcester_polytechnic_institute  \n",
       "index                                   \n",
       "0                                    0  \n",
       "1                                    0  \n",
       "2                                    0  \n",
       "3                                    0  \n",
       "4                                    0  \n",
       "\n",
       "[5 rows x 79 columns]"
      ]
     },
     "execution_count": 46,
     "metadata": {},
     "output_type": "execute_result"
    }
   ],
   "source": [
    "feature_matrix1_with_numerics.head()"
   ]
  },
  {
   "cell_type": "code",
   "execution_count": 47,
   "metadata": {},
   "outputs": [],
   "source": [
    "numerical_data = feature_matrix1_with_numerics.select_dtypes(include = ['int64','float','uint8'])\n",
    "categorical_data = feature_matrix1_with_numerics.select_dtypes(include = ['object'])\n",
    "categorical_features = categorical_data.columns.values\n",
    "numerical_features = numerical_data.columns.values"
   ]
  },
  {
   "cell_type": "code",
   "execution_count": 48,
   "metadata": {},
   "outputs": [],
   "source": [
    "feature_matrix1_with_numerics=feature_matrix1_with_numerics.join(decisions)"
   ]
  },
  {
   "cell_type": "code",
   "execution_count": 49,
   "metadata": {},
   "outputs": [
    {
     "data": {
      "text/html": [
       "<div>\n",
       "<style scoped>\n",
       "    .dataframe tbody tr th:only-of-type {\n",
       "        vertical-align: middle;\n",
       "    }\n",
       "\n",
       "    .dataframe tbody tr th {\n",
       "        vertical-align: top;\n",
       "    }\n",
       "\n",
       "    .dataframe thead th {\n",
       "        text-align: right;\n",
       "    }\n",
       "</style>\n",
       "<table border=\"1\" class=\"dataframe\">\n",
       "  <thead>\n",
       "    <tr style=\"text-align: right;\">\n",
       "      <th></th>\n",
       "      <th>gre_score</th>\n",
       "      <th>gre_score_quant</th>\n",
       "      <th>gre_score_verbal</th>\n",
       "      <th>test_score_toefl</th>\n",
       "      <th>undergraduation_score</th>\n",
       "      <th>work_ex</th>\n",
       "      <th>papers_published</th>\n",
       "      <th>university_class.ranking</th>\n",
       "      <th>university_class.SUM(admissions_data.gre_score)</th>\n",
       "      <th>university_class.SUM(admissions_data.gre_score_quant)</th>\n",
       "      <th>...</th>\n",
       "      <th>university_of_florida</th>\n",
       "      <th>university_of_iowa</th>\n",
       "      <th>university_of_maryland_college_park</th>\n",
       "      <th>university_of_north_carolina_at_charlotte</th>\n",
       "      <th>university_of_southern_california</th>\n",
       "      <th>university_of_texas_arlington</th>\n",
       "      <th>university_of_texas_austin</th>\n",
       "      <th>university_of_texas_dallas</th>\n",
       "      <th>worcester_polytechnic_institute</th>\n",
       "      <th>status</th>\n",
       "    </tr>\n",
       "    <tr>\n",
       "      <th>index</th>\n",
       "      <th></th>\n",
       "      <th></th>\n",
       "      <th></th>\n",
       "      <th></th>\n",
       "      <th></th>\n",
       "      <th></th>\n",
       "      <th></th>\n",
       "      <th></th>\n",
       "      <th></th>\n",
       "      <th></th>\n",
       "      <th></th>\n",
       "      <th></th>\n",
       "      <th></th>\n",
       "      <th></th>\n",
       "      <th></th>\n",
       "      <th></th>\n",
       "      <th></th>\n",
       "      <th></th>\n",
       "      <th></th>\n",
       "      <th></th>\n",
       "      <th></th>\n",
       "    </tr>\n",
       "  </thead>\n",
       "  <tbody>\n",
       "    <tr>\n",
       "      <th>0</th>\n",
       "      <td>316</td>\n",
       "      <td>164</td>\n",
       "      <td>152</td>\n",
       "      <td>106.0</td>\n",
       "      <td>2.90</td>\n",
       "      <td>9</td>\n",
       "      <td>3</td>\n",
       "      <td>15</td>\n",
       "      <td>518554</td>\n",
       "      <td>268500</td>\n",
       "      <td>...</td>\n",
       "      <td>0</td>\n",
       "      <td>0</td>\n",
       "      <td>0</td>\n",
       "      <td>0</td>\n",
       "      <td>0</td>\n",
       "      <td>0</td>\n",
       "      <td>0</td>\n",
       "      <td>0</td>\n",
       "      <td>0</td>\n",
       "      <td>accept</td>\n",
       "    </tr>\n",
       "    <tr>\n",
       "      <th>1</th>\n",
       "      <td>314</td>\n",
       "      <td>163</td>\n",
       "      <td>151</td>\n",
       "      <td>114.0</td>\n",
       "      <td>3.53</td>\n",
       "      <td>7</td>\n",
       "      <td>3</td>\n",
       "      <td>15</td>\n",
       "      <td>518554</td>\n",
       "      <td>268500</td>\n",
       "      <td>...</td>\n",
       "      <td>0</td>\n",
       "      <td>0</td>\n",
       "      <td>0</td>\n",
       "      <td>0</td>\n",
       "      <td>0</td>\n",
       "      <td>0</td>\n",
       "      <td>0</td>\n",
       "      <td>0</td>\n",
       "      <td>0</td>\n",
       "      <td>accept</td>\n",
       "    </tr>\n",
       "    <tr>\n",
       "      <th>2</th>\n",
       "      <td>307</td>\n",
       "      <td>160</td>\n",
       "      <td>147</td>\n",
       "      <td>88.0</td>\n",
       "      <td>3.00</td>\n",
       "      <td>36</td>\n",
       "      <td>0</td>\n",
       "      <td>15</td>\n",
       "      <td>518554</td>\n",
       "      <td>268500</td>\n",
       "      <td>...</td>\n",
       "      <td>0</td>\n",
       "      <td>0</td>\n",
       "      <td>0</td>\n",
       "      <td>0</td>\n",
       "      <td>0</td>\n",
       "      <td>0</td>\n",
       "      <td>0</td>\n",
       "      <td>0</td>\n",
       "      <td>0</td>\n",
       "      <td>accept</td>\n",
       "    </tr>\n",
       "    <tr>\n",
       "      <th>3</th>\n",
       "      <td>330</td>\n",
       "      <td>169</td>\n",
       "      <td>161</td>\n",
       "      <td>113.0</td>\n",
       "      <td>2.40</td>\n",
       "      <td>48</td>\n",
       "      <td>3</td>\n",
       "      <td>15</td>\n",
       "      <td>518554</td>\n",
       "      <td>268500</td>\n",
       "      <td>...</td>\n",
       "      <td>0</td>\n",
       "      <td>0</td>\n",
       "      <td>0</td>\n",
       "      <td>0</td>\n",
       "      <td>0</td>\n",
       "      <td>0</td>\n",
       "      <td>0</td>\n",
       "      <td>0</td>\n",
       "      <td>0</td>\n",
       "      <td>accept</td>\n",
       "    </tr>\n",
       "    <tr>\n",
       "      <th>4</th>\n",
       "      <td>316</td>\n",
       "      <td>163</td>\n",
       "      <td>153</td>\n",
       "      <td>99.0</td>\n",
       "      <td>2.71</td>\n",
       "      <td>30</td>\n",
       "      <td>0</td>\n",
       "      <td>15</td>\n",
       "      <td>518554</td>\n",
       "      <td>268500</td>\n",
       "      <td>...</td>\n",
       "      <td>0</td>\n",
       "      <td>0</td>\n",
       "      <td>0</td>\n",
       "      <td>0</td>\n",
       "      <td>0</td>\n",
       "      <td>0</td>\n",
       "      <td>0</td>\n",
       "      <td>0</td>\n",
       "      <td>0</td>\n",
       "      <td>accept</td>\n",
       "    </tr>\n",
       "  </tbody>\n",
       "</table>\n",
       "<p>5 rows × 80 columns</p>\n",
       "</div>"
      ],
      "text/plain": [
       "       gre_score  gre_score_quant  gre_score_verbal  test_score_toefl  \\\n",
       "index                                                                   \n",
       "0            316              164               152             106.0   \n",
       "1            314              163               151             114.0   \n",
       "2            307              160               147              88.0   \n",
       "3            330              169               161             113.0   \n",
       "4            316              163               153              99.0   \n",
       "\n",
       "       undergraduation_score  work_ex  papers_published  \\\n",
       "index                                                     \n",
       "0                       2.90        9                 3   \n",
       "1                       3.53        7                 3   \n",
       "2                       3.00       36                 0   \n",
       "3                       2.40       48                 3   \n",
       "4                       2.71       30                 0   \n",
       "\n",
       "       university_class.ranking  \\\n",
       "index                             \n",
       "0                            15   \n",
       "1                            15   \n",
       "2                            15   \n",
       "3                            15   \n",
       "4                            15   \n",
       "\n",
       "       university_class.SUM(admissions_data.gre_score)  \\\n",
       "index                                                    \n",
       "0                                               518554   \n",
       "1                                               518554   \n",
       "2                                               518554   \n",
       "3                                               518554   \n",
       "4                                               518554   \n",
       "\n",
       "       university_class.SUM(admissions_data.gre_score_quant)   ...    \\\n",
       "index                                                          ...     \n",
       "0                                                 268500       ...     \n",
       "1                                                 268500       ...     \n",
       "2                                                 268500       ...     \n",
       "3                                                 268500       ...     \n",
       "4                                                 268500       ...     \n",
       "\n",
       "       university_of_florida  university_of_iowa  \\\n",
       "index                                              \n",
       "0                          0                   0   \n",
       "1                          0                   0   \n",
       "2                          0                   0   \n",
       "3                          0                   0   \n",
       "4                          0                   0   \n",
       "\n",
       "       university_of_maryland_college_park  \\\n",
       "index                                        \n",
       "0                                        0   \n",
       "1                                        0   \n",
       "2                                        0   \n",
       "3                                        0   \n",
       "4                                        0   \n",
       "\n",
       "       university_of_north_carolina_at_charlotte  \\\n",
       "index                                              \n",
       "0                                              0   \n",
       "1                                              0   \n",
       "2                                              0   \n",
       "3                                              0   \n",
       "4                                              0   \n",
       "\n",
       "       university_of_southern_california  university_of_texas_arlington  \\\n",
       "index                                                                     \n",
       "0                                      0                              0   \n",
       "1                                      0                              0   \n",
       "2                                      0                              0   \n",
       "3                                      0                              0   \n",
       "4                                      0                              0   \n",
       "\n",
       "       university_of_texas_austin  university_of_texas_dallas  \\\n",
       "index                                                           \n",
       "0                               0                           0   \n",
       "1                               0                           0   \n",
       "2                               0                           0   \n",
       "3                               0                           0   \n",
       "4                               0                           0   \n",
       "\n",
       "       worcester_polytechnic_institute  status  \n",
       "index                                           \n",
       "0                                    0  accept  \n",
       "1                                    0  accept  \n",
       "2                                    0  accept  \n",
       "3                                    0  accept  \n",
       "4                                    0  accept  \n",
       "\n",
       "[5 rows x 80 columns]"
      ]
     },
     "execution_count": 49,
     "metadata": {},
     "output_type": "execute_result"
    }
   ],
   "source": [
    "feature_matrix1_with_numerics.head()"
   ]
  },
  {
   "cell_type": "markdown",
   "metadata": {},
   "source": [
    "## USING LOGISTIC REGRESSION MODEL AND COMPUTING ERROR METRICES"
   ]
  },
  {
   "cell_type": "code",
   "execution_count": 50,
   "metadata": {},
   "outputs": [
    {
     "name": "stderr",
     "output_type": "stream",
     "text": [
      "C:\\ProgramData\\Anaconda3\\lib\\site-packages\\sklearn\\linear_model\\logistic.py:433: FutureWarning: Default solver will be changed to 'lbfgs' in 0.22. Specify a solver to silence this warning.\n",
      "  FutureWarning)\n"
     ]
    },
    {
     "data": {
      "text/plain": [
       "0.6133689839572193"
      ]
     },
     "execution_count": 50,
     "metadata": {},
     "output_type": "execute_result"
    }
   ],
   "source": [
    "from sklearn.model_selection import train_test_split\n",
    "\n",
    "# splitting train data into training and test data (Split 80:20)\n",
    "train, test = train_test_split(feature_matrix1_with_numerics, test_size=0.20, random_state=5, stratify=feature_matrix1_with_numerics[['status']])\n",
    "from sklearn.linear_model import LogisticRegression\n",
    "clf = LogisticRegression().fit(train[numerical_features], train['status'])\n",
    "clf.score(test[numerical_features], test['status'])"
   ]
  },
  {
   "cell_type": "code",
   "execution_count": 51,
   "metadata": {},
   "outputs": [],
   "source": [
    "predicted = clf.predict(test[numerical_features])"
   ]
  },
  {
   "cell_type": "markdown",
   "metadata": {},
   "source": [
    "<b> Error metric calculation using confusion matrix </b>"
   ]
  },
  {
   "cell_type": "code",
   "execution_count": 52,
   "metadata": {},
   "outputs": [
    {
     "data": {
      "text/plain": [
       "array([[1801, 1677],\n",
       "       [1103, 2899]], dtype=int64)"
      ]
     },
     "execution_count": 52,
     "metadata": {},
     "output_type": "execute_result"
    }
   ],
   "source": [
    "train_cm = confusion_matrix(train['status'], clf.predict(train[numerical_features]),labels=['accept','reject'])\n",
    "train_cm"
   ]
  },
  {
   "cell_type": "code",
   "execution_count": 53,
   "metadata": {},
   "outputs": [
    {
     "data": {
      "image/png": "[encoded data removed]",
      "text/plain": [
       "<Figure size 144x144 with 2 Axes>"
      ]
     },
     "metadata": {
      "needs_background": "light"
     },
     "output_type": "display_data"
    }
   ],
   "source": [
    "import numpy as np\n",
    "import matplotlib.pyplot as plt\n",
    "import seaborn as sns\n",
    "f,ax = plt.subplots(figsize=(2, 2))\n",
    "sns.heatmap(train_cm, annot=True, linewidths=1, fmt= '.1f',ax=ax)\n",
    "plt.title('Confusion matrix for train')\n",
    "plt.show()"
   ]
  },
  {
   "cell_type": "code",
   "execution_count": 54,
   "metadata": {},
   "outputs": [
    {
     "data": {
      "text/plain": [
       "array([[418, 451],\n",
       "       [272, 729]], dtype=int64)"
      ]
     },
     "execution_count": 54,
     "metadata": {},
     "output_type": "execute_result"
    }
   ],
   "source": [
    "from sklearn.metrics import confusion_matrix\n",
    "test_cm = confusion_matrix(test['status'], predicted,labels=['accept','reject'])\n",
    "test_cm"
   ]
  },
  {
   "cell_type": "code",
   "execution_count": 55,
   "metadata": {},
   "outputs": [
    {
     "data": {
      "image/png": "[encoded data removed]",
      "text/plain": [
       "<Figure size 144x144 with 2 Axes>"
      ]
     },
     "metadata": {
      "needs_background": "light"
     },
     "output_type": "display_data"
    }
   ],
   "source": [
    "import numpy as np\n",
    "import matplotlib.pyplot as plt\n",
    "import seaborn as sns\n",
    "f,ax = plt.subplots(figsize=(2, 2))\n",
    "sns.heatmap(test_cm, annot=True, linewidths=1, fmt= '.1f',ax=ax)\n",
    "plt.title('Confusion matrix for test')\n",
    "plt.show()"
   ]
  },
  {
   "cell_type": "code",
   "execution_count": 56,
   "metadata": {},
   "outputs": [
    {
     "name": "stdout",
     "output_type": "stream",
     "text": [
      "Summarization of the Accuracy Score for Test and Train\n",
      "-------------------------------------------------------\n",
      "test_accuracy: 0.6133689839572193\n",
      "train_accuracy: 0.6283422459893048\n",
      "test_f1_score: 0.5362411802437459\n",
      "train_f1_score: 0.564399874647446\n"
     ]
    }
   ],
   "source": [
    "import numpy as np\n",
    "from sklearn import metrics\n",
    "from sklearn.metrics import accuracy_score\n",
    "print('Summarization of the Accuracy Score for Test and Train')\n",
    "print('-------------------------------------------------------')\n",
    "test_accuracy = accuracy_score(test['status'], predicted)\n",
    "print('test_accuracy:',test_accuracy)\n",
    "train_accuracy = accuracy_score(train['status'], clf.predict(train[numerical_features]))\n",
    "print('train_accuracy:',train_accuracy)\n",
    "from sklearn.metrics import f1_score\n",
    "test_f1_score = f1_score(test['status'], predicted,pos_label='accept')\n",
    "print('test_f1_score:',test_f1_score)\n",
    "train_f1_score = f1_score(train['status'], clf.predict(train[numerical_features]),pos_label='accept')\n",
    "print('train_f1_score:',train_f1_score)"
   ]
  },
  {
   "cell_type": "code",
   "execution_count": 57,
   "metadata": {},
   "outputs": [],
   "source": [
    "prob_test=pd.DataFrame(clf.predict_proba(test[numerical_features]))"
   ]
  },
  {
   "cell_type": "code",
   "execution_count": 58,
   "metadata": {
    "scrolled": true
   },
   "outputs": [],
   "source": [
    "prob_train=pd.DataFrame(clf.predict_proba(train[numerical_features]))"
   ]
  },
  {
   "cell_type": "code",
   "execution_count": 59,
   "metadata": {},
   "outputs": [
    {
     "data": {
      "text/plain": [
       "array(['reject', 'accept', 'reject', ..., 'accept', 'reject', 'accept'],\n",
       "      dtype=object)"
      ]
     },
     "execution_count": 59,
     "metadata": {},
     "output_type": "execute_result"
    }
   ],
   "source": [
    "clf.predict(test[numerical_features])"
   ]
  },
  {
   "cell_type": "markdown",
   "metadata": {},
   "source": [
    "<b> AUC ROC Curve for train and test </b>"
   ]
  },
  {
   "cell_type": "code",
   "execution_count": 60,
   "metadata": {},
   "outputs": [
    {
     "data": {
      "image/png": "[encoded data removed]",
      "text/plain": [
       "<Figure size 432x288 with 1 Axes>"
      ]
     },
     "metadata": {
      "needs_background": "light"
     },
     "output_type": "display_data"
    }
   ],
   "source": [
    "\n",
    "import numpy as np\n",
    "from sklearn import metrics\n",
    "from sklearn.metrics import roc_curve,auc\n",
    "test_fpr,test_tpr,test_thresholds = metrics.roc_curve(test['status'], prob_test[0],pos_label='accept')\n",
    "test_roc_auc = auc(test_fpr, test_tpr)\n",
    "train_fpr,train_tpr,train_thresholds = metrics.roc_curve(train['status'], prob_train[0],pos_label='accept')\n",
    "train_roc_auc = auc(train_fpr, train_tpr)\n",
    "plt.plot(train_fpr, train_tpr, lw=2, alpha=0.5,\n",
    "             label='Train ROC (auc= %0.2f)' % (train_roc_auc))\n",
    "plt.plot(test_fpr, test_tpr, lw=2, alpha=0.5,\n",
    "             label='Test ROC (auc= %0.2f)' % (test_roc_auc))\n",
    "plt.plot([0, 1], [0, 1], linestyle='--', lw=2, color='r',\n",
    "         label='Chance', alpha=.8)\n",
    "plt.xlim([-0.05, 1.05])\n",
    "plt.ylim([-0.05, 1.05])\n",
    "plt.xlabel('False Positive Rate')\n",
    "plt.ylabel('True Positive Rate')\n",
    "plt.title('Receiver operating characteristic')\n",
    "plt.legend(loc=\"lower right\")\n",
    "plt.show()"
   ]
  },
  {
   "cell_type": "markdown",
   "metadata": {},
   "source": [
    "## USING RANDOM FOREST CLASSIFIER MODEL AND COMPUTING ERROR METRICES"
   ]
  },
  {
   "cell_type": "code",
   "execution_count": 61,
   "metadata": {
    "scrolled": true
   },
   "outputs": [
    {
     "name": "stderr",
     "output_type": "stream",
     "text": [
      "C:\\ProgramData\\Anaconda3\\lib\\site-packages\\sklearn\\ensemble\\forest.py:246: FutureWarning: The default value of n_estimators will change from 10 in version 0.20 to 100 in 0.22.\n",
      "  \"10 in version 0.20 to 100 in 0.22.\", FutureWarning)\n"
     ]
    },
    {
     "data": {
      "text/plain": [
       "0.7073083778966132"
      ]
     },
     "execution_count": 61,
     "metadata": {},
     "output_type": "execute_result"
    }
   ],
   "source": [
    "from sklearn.model_selection import train_test_split\n",
    "\n",
    "# splitting train data into training and test data (Split 80:20)\n",
    "train, test = train_test_split(feature_matrix1_with_numerics, test_size=0.30, random_state=5, stratify=feature_matrix1_with_numerics[['status']])\n",
    "from sklearn.ensemble import RandomForestClassifier\n",
    "rand_clf = RandomForestClassifier().fit(train[numerical_features], train['status'])\n",
    "rand_clf.score(test[numerical_features], test['status'])"
   ]
  },
  {
   "cell_type": "code",
   "execution_count": 62,
   "metadata": {},
   "outputs": [],
   "source": [
    "rand_predicted = rand_clf.predict(test[numerical_features])"
   ]
  },
  {
   "cell_type": "markdown",
   "metadata": {},
   "source": [
    "<b> Error metric calculation using confusion matrix </b>"
   ]
  },
  {
   "cell_type": "code",
   "execution_count": 63,
   "metadata": {},
   "outputs": [
    {
     "data": {
      "text/plain": [
       "array([[3019,   24],\n",
       "       [  71, 3431]], dtype=int64)"
      ]
     },
     "execution_count": 63,
     "metadata": {},
     "output_type": "execute_result"
    }
   ],
   "source": [
    "train_cm = confusion_matrix(train['status'], rand_clf.predict(train[numerical_features]),labels=['accept','reject'])\n",
    "train_cm"
   ]
  },
  {
   "cell_type": "code",
   "execution_count": 64,
   "metadata": {},
   "outputs": [
    {
     "data": {
      "image/png": "[encoded data removed]",
      "text/plain": [
       "<Figure size 144x144 with 2 Axes>"
      ]
     },
     "metadata": {
      "needs_background": "light"
     },
     "output_type": "display_data"
    }
   ],
   "source": [
    "import numpy as np\n",
    "import matplotlib.pyplot as plt\n",
    "import seaborn as sns\n",
    "f,ax = plt.subplots(figsize=(2, 2))\n",
    "sns.heatmap(train_cm, annot=True, linewidths=1, fmt= '.1f',ax=ax)\n",
    "plt.title('Error matrix for train')\n",
    "plt.show()"
   ]
  },
  {
   "cell_type": "code",
   "execution_count": 65,
   "metadata": {},
   "outputs": [
    {
     "data": {
      "text/plain": [
       "array([[ 934,  370],\n",
       "       [ 451, 1050]], dtype=int64)"
      ]
     },
     "execution_count": 65,
     "metadata": {},
     "output_type": "execute_result"
    }
   ],
   "source": [
    "from sklearn.metrics import confusion_matrix\n",
    "test_cm = confusion_matrix(test['status'], rand_predicted,labels=['accept','reject'])\n",
    "test_cm"
   ]
  },
  {
   "cell_type": "code",
   "execution_count": 66,
   "metadata": {},
   "outputs": [
    {
     "data": {
      "image/png": "[encoded data removed]",
      "text/plain": [
       "<Figure size 144x144 with 2 Axes>"
      ]
     },
     "metadata": {
      "needs_background": "light"
     },
     "output_type": "display_data"
    }
   ],
   "source": [
    "import numpy as np\n",
    "import matplotlib.pyplot as plt\n",
    "import seaborn as sns\n",
    "f,ax = plt.subplots(figsize=(2, 2))\n",
    "sns.heatmap(test_cm, annot=True, linewidths=1, fmt= '.1f',ax=ax)\n",
    "plt.title('Confusion matrix for test')\n",
    "plt.show()"
   ]
  },
  {
   "cell_type": "code",
   "execution_count": 67,
   "metadata": {},
   "outputs": [
    {
     "name": "stdout",
     "output_type": "stream",
     "text": [
      "Summarization of the Accuracy Score for Test and Train\n",
      "-------------------------------------------------------\n",
      "test_accuracy: 0.7073083778966132\n",
      "train_accuracy: 0.985485103132162\n",
      "test_f1_score: 0.6946820379323169\n",
      "train_f1_score: 0.9845100277188977\n"
     ]
    }
   ],
   "source": [
    "import numpy as np\n",
    "from sklearn import metrics\n",
    "from sklearn.metrics import accuracy_score\n",
    "print('Summarization of the Accuracy Score for Test and Train')\n",
    "print('-------------------------------------------------------')\n",
    "test_accuracy = accuracy_score(test['status'], rand_predicted)\n",
    "print('test_accuracy:',test_accuracy)\n",
    "train_accuracy = accuracy_score(train['status'], rand_clf.predict(train[numerical_features]))\n",
    "print('train_accuracy:',train_accuracy)\n",
    "from sklearn.metrics import f1_score\n",
    "test_f1_score = f1_score(test['status'], rand_predicted,pos_label='accept')\n",
    "print('test_f1_score:',test_f1_score)\n",
    "train_f1_score = f1_score(train['status'], rand_clf.predict(train[numerical_features]),pos_label='accept')\n",
    "print('train_f1_score:',train_f1_score)"
   ]
  },
  {
   "cell_type": "code",
   "execution_count": 68,
   "metadata": {},
   "outputs": [],
   "source": [
    "prob_test=pd.DataFrame(rand_clf.predict_proba(test[numerical_features]))"
   ]
  },
  {
   "cell_type": "code",
   "execution_count": 69,
   "metadata": {
    "scrolled": true
   },
   "outputs": [],
   "source": [
    "prob_train=pd.DataFrame(rand_clf.predict_proba(train[numerical_features]))"
   ]
  },
  {
   "cell_type": "code",
   "execution_count": 70,
   "metadata": {},
   "outputs": [
    {
     "data": {
      "text/plain": [
       "array(['reject', 'reject', 'accept', ..., 'accept', 'accept', 'accept'],\n",
       "      dtype=object)"
      ]
     },
     "execution_count": 70,
     "metadata": {},
     "output_type": "execute_result"
    }
   ],
   "source": [
    "rand_clf.predict(test[numerical_features])"
   ]
  },
  {
   "cell_type": "markdown",
   "metadata": {},
   "source": [
    "<b> AUC ROC Curve for train and test </b>"
   ]
  },
  {
   "cell_type": "code",
   "execution_count": 71,
   "metadata": {},
   "outputs": [
    {
     "data": {
      "image/png": "[encoded data removed]",
      "text/plain": [
       "<Figure size 432x288 with 1 Axes>"
      ]
     },
     "metadata": {
      "needs_background": "light"
     },
     "output_type": "display_data"
    }
   ],
   "source": [
    "#test and train roc\n",
    "import numpy as np\n",
    "from sklearn import metrics\n",
    "from sklearn.metrics import roc_curve,auc\n",
    "test_fpr,test_tpr,test_thresholds = metrics.roc_curve(test['status'], prob_test[0],pos_label='accept')\n",
    "test_roc_auc = auc(test_fpr, test_tpr)\n",
    "train_fpr,train_tpr,train_thresholds = metrics.roc_curve(train['status'], prob_train[0],pos_label='accept')\n",
    "train_roc_auc = auc(train_fpr, train_tpr)\n",
    "plt.plot(train_fpr, train_tpr, lw=2, alpha=0.5,\n",
    "             label='Train ROC (auc= %0.2f)' % (train_roc_auc))\n",
    "plt.plot(test_fpr, test_tpr, lw=2, alpha=0.5,\n",
    "             label='Test ROC (auc= %0.2f)' % (test_roc_auc))\n",
    "plt.plot([0, 1], [0, 1], linestyle='--', lw=2, color='r',\n",
    "         label='Chance', alpha=.8)\n",
    "plt.xlim([-0.05, 1.05])\n",
    "plt.ylim([-0.05, 1.05])\n",
    "plt.xlabel('False Positive Rate')\n",
    "plt.ylabel('True Positive Rate')\n",
    "plt.title('Receiver operating characteristic')\n",
    "plt.legend(loc=\"lower right\")\n",
    "plt.show()"
   ]
  },
  {
   "cell_type": "markdown",
   "metadata": {},
   "source": [
    "<b> Summarization of the Automated feature Engineering using Feature Tools</b>"
   ]
  },
  {
   "cell_type": "markdown",
   "metadata": {},
   "source": [
    "- Featuretools is an open source library for performing automated feature engineering\n",
    "- Three major components of the package : Entities, Deep Feature Synthesis (DFS), Feature primitives"
   ]
  },
  {
   "cell_type": "markdown",
   "metadata": {},
   "source": [
    "<table style=\"width:100%\">\n",
    "  <tr>\n",
    "    <th>Model</th>\n",
    "    <th>Train Accuracy</th> \n",
    "    <th>Test Accuracy</th>\n",
    "    <th>F1 Score - Train</th> \n",
    "    <th>F1 Score - Test</th>\n",
    "    <th>AUC-ROC Curve - Test</th>\n",
    "    <th>AUC-ROC Curve - Train</th>\n",
    "  </tr>\n",
    "  <tr>\n",
    "    <td>Logistic Regression</td>\n",
    "    <td>0.63</td> \n",
    "    <td>0.61</td>\n",
    "    <td>0.56</td> \n",
    "    <td>0.53</td>\n",
    "    <td>0.67</td> \n",
    "    <td>0.69</td>\n",
    "  </tr>\n",
    "  <tr>\n",
    "    <td>Random Forest CLassifier</td>\n",
    "    <td>0.98</td> \n",
    "    <td>0.71</td>\n",
    "    <td>0.98</td> \n",
    "    <td>0.70</td>\n",
    "    <td>0.78</td> \n",
    "    <td>1.0</td>\n",
    "  </tr>\n",
    "</table>"
   ]
  }
 ],
 "metadata": {
  "kernelspec": {
   "display_name": "Python 3",
   "language": "python",
   "name": "python3"
  },
  "language_info": {
   "codemirror_mode": {
    "name": "ipython",
    "version": 3
   },
   "file_extension": ".py",
   "mimetype": "text/x-python",
   "name": "python",
   "nbconvert_exporter": "python",
   "pygments_lexer": "ipython3",
   "version": "3.7.1"
  }
 },
 "nbformat": 4,
 "nbformat_minor": 2
}
