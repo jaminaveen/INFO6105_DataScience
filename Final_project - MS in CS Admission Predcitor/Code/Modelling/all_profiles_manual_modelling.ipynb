{
 "cells": [
  {
   "cell_type": "code",
   "execution_count": 121,
   "metadata": {},
   "outputs": [],
   "source": [
    "import pandas as pd\n",
    "from sklearn.model_selection import cross_val_score, train_test_split\n",
    "from sklearn.preprocessing import StandardScaler\n",
    "from sklearn.metrics import accuracy_score,f1_score,confusion_matrix\n",
    "from sklearn.model_selection import GridSearchCV"
   ]
  },
  {
   "cell_type": "code",
   "execution_count": 122,
   "metadata": {},
   "outputs": [],
   "source": [
    "dataset = pd.read_csv('../../Data/clean_profile_data_all.csv')"
   ]
  },
  {
   "cell_type": "code",
   "execution_count": 123,
   "metadata": {
    "scrolled": true
   },
   "outputs": [
    {
     "data": {
      "text/html": [
       "<div>\n",
       "<style scoped>\n",
       "    .dataframe tbody tr th:only-of-type {\n",
       "        vertical-align: middle;\n",
       "    }\n",
       "\n",
       "    .dataframe tbody tr th {\n",
       "        vertical-align: top;\n",
       "    }\n",
       "\n",
       "    .dataframe thead th {\n",
       "        text-align: right;\n",
       "    }\n",
       "</style>\n",
       "<table border=\"1\" class=\"dataframe\">\n",
       "  <thead>\n",
       "    <tr style=\"text-align: right;\">\n",
       "      <th></th>\n",
       "      <th>gre_score</th>\n",
       "      <th>gre_score_quant</th>\n",
       "      <th>gre_score_verbal</th>\n",
       "      <th>test_score_toefl</th>\n",
       "      <th>undergraduation_score</th>\n",
       "      <th>work_ex</th>\n",
       "      <th>papers_published</th>\n",
       "      <th>university_name</th>\n",
       "      <th>status</th>\n",
       "      <th>ranking</th>\n",
       "    </tr>\n",
       "  </thead>\n",
       "  <tbody>\n",
       "    <tr>\n",
       "      <th>0</th>\n",
       "      <td>316</td>\n",
       "      <td>164</td>\n",
       "      <td>152</td>\n",
       "      <td>106.0</td>\n",
       "      <td>2.90</td>\n",
       "      <td>9</td>\n",
       "      <td>3</td>\n",
       "      <td>northeastern_university</td>\n",
       "      <td>accept</td>\n",
       "      <td>15</td>\n",
       "    </tr>\n",
       "    <tr>\n",
       "      <th>1</th>\n",
       "      <td>314</td>\n",
       "      <td>163</td>\n",
       "      <td>151</td>\n",
       "      <td>114.0</td>\n",
       "      <td>3.53</td>\n",
       "      <td>7</td>\n",
       "      <td>3</td>\n",
       "      <td>northeastern_university</td>\n",
       "      <td>accept</td>\n",
       "      <td>15</td>\n",
       "    </tr>\n",
       "    <tr>\n",
       "      <th>2</th>\n",
       "      <td>307</td>\n",
       "      <td>160</td>\n",
       "      <td>147</td>\n",
       "      <td>88.0</td>\n",
       "      <td>3.00</td>\n",
       "      <td>36</td>\n",
       "      <td>0</td>\n",
       "      <td>northeastern_university</td>\n",
       "      <td>accept</td>\n",
       "      <td>15</td>\n",
       "    </tr>\n",
       "    <tr>\n",
       "      <th>3</th>\n",
       "      <td>330</td>\n",
       "      <td>169</td>\n",
       "      <td>161</td>\n",
       "      <td>113.0</td>\n",
       "      <td>2.40</td>\n",
       "      <td>48</td>\n",
       "      <td>3</td>\n",
       "      <td>northeastern_university</td>\n",
       "      <td>accept</td>\n",
       "      <td>15</td>\n",
       "    </tr>\n",
       "    <tr>\n",
       "      <th>4</th>\n",
       "      <td>316</td>\n",
       "      <td>163</td>\n",
       "      <td>153</td>\n",
       "      <td>99.0</td>\n",
       "      <td>2.71</td>\n",
       "      <td>30</td>\n",
       "      <td>0</td>\n",
       "      <td>northeastern_university</td>\n",
       "      <td>accept</td>\n",
       "      <td>15</td>\n",
       "    </tr>\n",
       "  </tbody>\n",
       "</table>\n",
       "</div>"
      ],
      "text/plain": [
       "   gre_score  gre_score_quant  gre_score_verbal  test_score_toefl  \\\n",
       "0        316              164               152             106.0   \n",
       "1        314              163               151             114.0   \n",
       "2        307              160               147              88.0   \n",
       "3        330              169               161             113.0   \n",
       "4        316              163               153              99.0   \n",
       "\n",
       "   undergraduation_score  work_ex  papers_published          university_name  \\\n",
       "0                   2.90        9                 3  northeastern_university   \n",
       "1                   3.53        7                 3  northeastern_university   \n",
       "2                   3.00       36                 0  northeastern_university   \n",
       "3                   2.40       48                 3  northeastern_university   \n",
       "4                   2.71       30                 0  northeastern_university   \n",
       "\n",
       "   status  ranking  \n",
       "0  accept       15  \n",
       "1  accept       15  \n",
       "2  accept       15  \n",
       "3  accept       15  \n",
       "4  accept       15  "
      ]
     },
     "execution_count": 123,
     "metadata": {},
     "output_type": "execute_result"
    }
   ],
   "source": [
    "dataset.head()"
   ]
  },
  {
   "cell_type": "code",
   "execution_count": 124,
   "metadata": {
    "scrolled": true
   },
   "outputs": [
    {
     "data": {
      "text/plain": [
       "northeastern_university                        1653\n",
       "state_university_of_new_york_at_stony_brook     602\n",
       "north_carolina_state_university_raleigh         588\n",
       "syracuse_university                             518\n",
       "university_of_texas_dallas                      474\n",
       "illinois_institute_of_technology                435\n",
       "university_of_california_irvine                 400\n",
       "texas_a_m_university_college_station            387\n",
       "university_of_north_carolina_at_charlotte       380\n",
       "indiana_university_bloomington                  343\n",
       "rochester_institute_of_technology               341\n",
       "university_of_colorado_boulder                  341\n",
       "new_york_university                             318\n",
       "university_of_texas_arlington                   312\n",
       "rutgers_university_new_brunswick                304\n",
       "university_of_maryland_college_park             264\n",
       "george_mason_university                         264\n",
       "university_of_cincinnati                        242\n",
       "university_of_texas_austin                      233\n",
       "carnegie_mellon_university                      162\n",
       "michigan_technological_university               138\n",
       "georgia_institiute_of_technology                127\n",
       "clemson_university                              122\n",
       "university_of_florida                            95\n",
       "kansas_state_university                          76\n",
       "worcester_polytechnic_institute                  70\n",
       "university_of_connecticut                        64\n",
       "university_of_iowa                               59\n",
       "university_of_southern_california                38\n",
       "Name: university_name, dtype: int64"
      ]
     },
     "execution_count": 124,
     "metadata": {},
     "output_type": "execute_result"
    }
   ],
   "source": [
    "dataset.university_name.value_counts()"
   ]
  },
  {
   "cell_type": "code",
   "execution_count": 125,
   "metadata": {},
   "outputs": [],
   "source": [
    "target_universities=dataset.university_name.unique().tolist()"
   ]
  },
  {
   "cell_type": "code",
   "execution_count": 126,
   "metadata": {},
   "outputs": [],
   "source": [
    "from sklearn.utils import resample"
   ]
  },
  {
   "cell_type": "code",
   "execution_count": 127,
   "metadata": {},
   "outputs": [],
   "source": [
    "resampled_dfs=[]\n",
    "resampled_df = pd.DataFrame()\n",
    "for each in target_universities:\n",
    "    if dataset[(dataset.university_name==each )].shape[0]> 600:\n",
    "        \n",
    "        resampled_dfs.append(resample(dataset[(dataset.university_name==each )&(dataset.status=='accept')],replace=True,n_samples=300,random_state=123))\n",
    "        resampled_dfs.append(resample(dataset[(dataset.university_name==each) &(dataset.status=='reject')],replace=True,n_samples=300,random_state=123))\n",
    "        \n",
    "    elif dataset[(dataset.university_name==each )].shape[0] < 200:\n",
    "        resampled_dfs.append(resample(dataset[(dataset.university_name==each )&(dataset.status=='accept')],replace=True,n_samples=125,random_state=123))\n",
    "        resampled_dfs.append(resample(dataset[(dataset.university_name==each) &(dataset.status=='reject')],replace=True,n_samples=125,random_state=123))\n",
    "    else:\n",
    "        resampled_dfs.append(dataset[(dataset.university_name==each )&(dataset.status=='accept')])\n",
    "        resampled_dfs.append(dataset[(dataset.university_name==each )&(dataset.status=='reject')])\n",
    "        \n",
    "\n",
    "resampled_df = pd.concat( [ f for f in resampled_dfs ] )\n",
    "    "
   ]
  },
  {
   "cell_type": "code",
   "execution_count": 128,
   "metadata": {
    "scrolled": true
   },
   "outputs": [
    {
     "data": {
      "text/plain": [
       "university_name                              status\n",
       "carnegie_mellon_university                   accept    125\n",
       "                                             reject    125\n",
       "clemson_university                           accept    125\n",
       "                                             reject    125\n",
       "george_mason_university                      accept    168\n",
       "                                             reject     96\n",
       "georgia_institiute_of_technology             accept    125\n",
       "                                             reject    125\n",
       "illinois_institute_of_technology             accept    268\n",
       "                                             reject    167\n",
       "indiana_university_bloomington               accept    271\n",
       "                                             reject     72\n",
       "kansas_state_university                      accept    125\n",
       "                                             reject    125\n",
       "michigan_technological_university            accept    125\n",
       "                                             reject    125\n",
       "new_york_university                          reject    179\n",
       "                                             accept    139\n",
       "north_carolina_state_university_raleigh      reject    307\n",
       "                                             accept    281\n",
       "northeastern_university                      accept    300\n",
       "                                             reject    300\n",
       "rochester_institute_of_technology            accept    203\n",
       "                                             reject    138\n",
       "rutgers_university_new_brunswick             reject    196\n",
       "                                             accept    108\n",
       "state_university_of_new_york_at_stony_brook  accept    300\n",
       "                                             reject    300\n",
       "syracuse_university                          reject    280\n",
       "                                             accept    238\n",
       "texas_a_m_university_college_station         reject    221\n",
       "                                             accept    166\n",
       "university_of_california_irvine              reject    286\n",
       "                                             accept    114\n",
       "university_of_cincinnati                     accept    200\n",
       "                                             reject     42\n",
       "university_of_colorado_boulder               reject    195\n",
       "                                             accept    146\n",
       "university_of_connecticut                    accept    125\n",
       "                                             reject    125\n",
       "university_of_florida                        accept    125\n",
       "                                             reject    125\n",
       "university_of_iowa                           accept    125\n",
       "                                             reject    125\n",
       "university_of_maryland_college_park          reject    232\n",
       "                                             accept     32\n",
       "university_of_north_carolina_at_charlotte    reject    195\n",
       "                                             accept    185\n",
       "university_of_southern_california            accept    125\n",
       "                                             reject    125\n",
       "university_of_texas_arlington                accept    178\n",
       "                                             reject    134\n",
       "university_of_texas_austin                   reject    220\n",
       "                                             accept     13\n",
       "university_of_texas_dallas                   reject    245\n",
       "                                             accept    229\n",
       "worcester_polytechnic_institute              accept    125\n",
       "                                             reject    125\n",
       "Name: status, dtype: int64"
      ]
     },
     "execution_count": 128,
     "metadata": {},
     "output_type": "execute_result"
    }
   ],
   "source": [
    "resampled_df.groupby(by='university_name')['status'].value_counts()"
   ]
  },
  {
   "cell_type": "code",
   "execution_count": 129,
   "metadata": {},
   "outputs": [],
   "source": [
    "dataset =resampled_df.copy()"
   ]
  },
  {
   "cell_type": "code",
   "execution_count": 130,
   "metadata": {
    "scrolled": true
   },
   "outputs": [
    {
     "data": {
      "text/html": [
       "<div>\n",
       "<style scoped>\n",
       "    .dataframe tbody tr th:only-of-type {\n",
       "        vertical-align: middle;\n",
       "    }\n",
       "\n",
       "    .dataframe tbody tr th {\n",
       "        vertical-align: top;\n",
       "    }\n",
       "\n",
       "    .dataframe thead th {\n",
       "        text-align: right;\n",
       "    }\n",
       "</style>\n",
       "<table border=\"1\" class=\"dataframe\">\n",
       "  <thead>\n",
       "    <tr style=\"text-align: right;\">\n",
       "      <th></th>\n",
       "      <th>gre_score</th>\n",
       "      <th>gre_score_quant</th>\n",
       "      <th>gre_score_verbal</th>\n",
       "      <th>test_score_toefl</th>\n",
       "      <th>undergraduation_score</th>\n",
       "      <th>work_ex</th>\n",
       "      <th>papers_published</th>\n",
       "      <th>university_name</th>\n",
       "      <th>status</th>\n",
       "      <th>ranking</th>\n",
       "    </tr>\n",
       "  </thead>\n",
       "  <tbody>\n",
       "    <tr>\n",
       "      <th>510</th>\n",
       "      <td>314</td>\n",
       "      <td>165</td>\n",
       "      <td>149</td>\n",
       "      <td>100.0</td>\n",
       "      <td>2.90</td>\n",
       "      <td>0</td>\n",
       "      <td>2</td>\n",
       "      <td>northeastern_university</td>\n",
       "      <td>accept</td>\n",
       "      <td>15</td>\n",
       "    </tr>\n",
       "    <tr>\n",
       "      <th>365</th>\n",
       "      <td>315</td>\n",
       "      <td>162</td>\n",
       "      <td>153</td>\n",
       "      <td>100.0</td>\n",
       "      <td>3.30</td>\n",
       "      <td>60</td>\n",
       "      <td>0</td>\n",
       "      <td>northeastern_university</td>\n",
       "      <td>accept</td>\n",
       "      <td>15</td>\n",
       "    </tr>\n",
       "    <tr>\n",
       "      <th>382</th>\n",
       "      <td>309</td>\n",
       "      <td>163</td>\n",
       "      <td>146</td>\n",
       "      <td>104.0</td>\n",
       "      <td>2.64</td>\n",
       "      <td>32</td>\n",
       "      <td>0</td>\n",
       "      <td>northeastern_university</td>\n",
       "      <td>accept</td>\n",
       "      <td>15</td>\n",
       "    </tr>\n",
       "    <tr>\n",
       "      <th>322</th>\n",
       "      <td>310</td>\n",
       "      <td>162</td>\n",
       "      <td>148</td>\n",
       "      <td>99.0</td>\n",
       "      <td>2.85</td>\n",
       "      <td>24</td>\n",
       "      <td>0</td>\n",
       "      <td>northeastern_university</td>\n",
       "      <td>accept</td>\n",
       "      <td>15</td>\n",
       "    </tr>\n",
       "    <tr>\n",
       "      <th>98</th>\n",
       "      <td>320</td>\n",
       "      <td>170</td>\n",
       "      <td>150</td>\n",
       "      <td>104.0</td>\n",
       "      <td>3.86</td>\n",
       "      <td>2</td>\n",
       "      <td>1</td>\n",
       "      <td>northeastern_university</td>\n",
       "      <td>accept</td>\n",
       "      <td>15</td>\n",
       "    </tr>\n",
       "    <tr>\n",
       "      <th>17</th>\n",
       "      <td>304</td>\n",
       "      <td>157</td>\n",
       "      <td>147</td>\n",
       "      <td>95.0</td>\n",
       "      <td>2.82</td>\n",
       "      <td>0</td>\n",
       "      <td>0</td>\n",
       "      <td>northeastern_university</td>\n",
       "      <td>accept</td>\n",
       "      <td>15</td>\n",
       "    </tr>\n",
       "    <tr>\n",
       "      <th>106</th>\n",
       "      <td>313</td>\n",
       "      <td>164</td>\n",
       "      <td>149</td>\n",
       "      <td>110.0</td>\n",
       "      <td>2.90</td>\n",
       "      <td>7</td>\n",
       "      <td>0</td>\n",
       "      <td>northeastern_university</td>\n",
       "      <td>accept</td>\n",
       "      <td>15</td>\n",
       "    </tr>\n",
       "    <tr>\n",
       "      <th>123</th>\n",
       "      <td>317</td>\n",
       "      <td>165</td>\n",
       "      <td>152</td>\n",
       "      <td>114.0</td>\n",
       "      <td>2.64</td>\n",
       "      <td>24</td>\n",
       "      <td>0</td>\n",
       "      <td>northeastern_university</td>\n",
       "      <td>accept</td>\n",
       "      <td>15</td>\n",
       "    </tr>\n",
       "    <tr>\n",
       "      <th>569</th>\n",
       "      <td>304</td>\n",
       "      <td>155</td>\n",
       "      <td>149</td>\n",
       "      <td>99.0</td>\n",
       "      <td>2.76</td>\n",
       "      <td>20</td>\n",
       "      <td>0</td>\n",
       "      <td>northeastern_university</td>\n",
       "      <td>accept</td>\n",
       "      <td>15</td>\n",
       "    </tr>\n",
       "    <tr>\n",
       "      <th>214</th>\n",
       "      <td>304</td>\n",
       "      <td>154</td>\n",
       "      <td>150</td>\n",
       "      <td>105.0</td>\n",
       "      <td>3.20</td>\n",
       "      <td>31</td>\n",
       "      <td>3</td>\n",
       "      <td>northeastern_university</td>\n",
       "      <td>accept</td>\n",
       "      <td>15</td>\n",
       "    </tr>\n",
       "    <tr>\n",
       "      <th>96</th>\n",
       "      <td>321</td>\n",
       "      <td>163</td>\n",
       "      <td>158</td>\n",
       "      <td>109.0</td>\n",
       "      <td>3.16</td>\n",
       "      <td>44</td>\n",
       "      <td>0</td>\n",
       "      <td>northeastern_university</td>\n",
       "      <td>accept</td>\n",
       "      <td>15</td>\n",
       "    </tr>\n",
       "    <tr>\n",
       "      <th>113</th>\n",
       "      <td>299</td>\n",
       "      <td>148</td>\n",
       "      <td>151</td>\n",
       "      <td>75.0</td>\n",
       "      <td>2.62</td>\n",
       "      <td>55</td>\n",
       "      <td>0</td>\n",
       "      <td>northeastern_university</td>\n",
       "      <td>accept</td>\n",
       "      <td>15</td>\n",
       "    </tr>\n",
       "    <tr>\n",
       "      <th>47</th>\n",
       "      <td>320</td>\n",
       "      <td>170</td>\n",
       "      <td>150</td>\n",
       "      <td>107.0</td>\n",
       "      <td>3.68</td>\n",
       "      <td>4</td>\n",
       "      <td>0</td>\n",
       "      <td>northeastern_university</td>\n",
       "      <td>accept</td>\n",
       "      <td>15</td>\n",
       "    </tr>\n",
       "    <tr>\n",
       "      <th>73</th>\n",
       "      <td>320</td>\n",
       "      <td>167</td>\n",
       "      <td>153</td>\n",
       "      <td>104.0</td>\n",
       "      <td>3.46</td>\n",
       "      <td>24</td>\n",
       "      <td>0</td>\n",
       "      <td>northeastern_university</td>\n",
       "      <td>accept</td>\n",
       "      <td>15</td>\n",
       "    </tr>\n",
       "    <tr>\n",
       "      <th>544</th>\n",
       "      <td>305</td>\n",
       "      <td>159</td>\n",
       "      <td>146</td>\n",
       "      <td>92.0</td>\n",
       "      <td>1.90</td>\n",
       "      <td>0</td>\n",
       "      <td>0</td>\n",
       "      <td>northeastern_university</td>\n",
       "      <td>accept</td>\n",
       "      <td>15</td>\n",
       "    </tr>\n",
       "    <tr>\n",
       "      <th>224</th>\n",
       "      <td>312</td>\n",
       "      <td>154</td>\n",
       "      <td>158</td>\n",
       "      <td>104.0</td>\n",
       "      <td>1.24</td>\n",
       "      <td>2</td>\n",
       "      <td>0</td>\n",
       "      <td>northeastern_university</td>\n",
       "      <td>accept</td>\n",
       "      <td>15</td>\n",
       "    </tr>\n",
       "    <tr>\n",
       "      <th>111</th>\n",
       "      <td>309</td>\n",
       "      <td>160</td>\n",
       "      <td>149</td>\n",
       "      <td>75.0</td>\n",
       "      <td>3.37</td>\n",
       "      <td>30</td>\n",
       "      <td>0</td>\n",
       "      <td>northeastern_university</td>\n",
       "      <td>accept</td>\n",
       "      <td>15</td>\n",
       "    </tr>\n",
       "    <tr>\n",
       "      <th>409</th>\n",
       "      <td>307</td>\n",
       "      <td>158</td>\n",
       "      <td>149</td>\n",
       "      <td>105.0</td>\n",
       "      <td>2.96</td>\n",
       "      <td>48</td>\n",
       "      <td>1</td>\n",
       "      <td>northeastern_university</td>\n",
       "      <td>accept</td>\n",
       "      <td>15</td>\n",
       "    </tr>\n",
       "    <tr>\n",
       "      <th>339</th>\n",
       "      <td>324</td>\n",
       "      <td>170</td>\n",
       "      <td>154</td>\n",
       "      <td>98.0</td>\n",
       "      <td>2.36</td>\n",
       "      <td>0</td>\n",
       "      <td>0</td>\n",
       "      <td>northeastern_university</td>\n",
       "      <td>accept</td>\n",
       "      <td>15</td>\n",
       "    </tr>\n",
       "    <tr>\n",
       "      <th>253</th>\n",
       "      <td>315</td>\n",
       "      <td>160</td>\n",
       "      <td>155</td>\n",
       "      <td>109.0</td>\n",
       "      <td>3.59</td>\n",
       "      <td>2</td>\n",
       "      <td>3</td>\n",
       "      <td>northeastern_university</td>\n",
       "      <td>accept</td>\n",
       "      <td>15</td>\n",
       "    </tr>\n",
       "    <tr>\n",
       "      <th>420</th>\n",
       "      <td>312</td>\n",
       "      <td>160</td>\n",
       "      <td>152</td>\n",
       "      <td>109.0</td>\n",
       "      <td>2.65</td>\n",
       "      <td>9</td>\n",
       "      <td>0</td>\n",
       "      <td>northeastern_university</td>\n",
       "      <td>accept</td>\n",
       "      <td>15</td>\n",
       "    </tr>\n",
       "    <tr>\n",
       "      <th>208</th>\n",
       "      <td>321</td>\n",
       "      <td>165</td>\n",
       "      <td>156</td>\n",
       "      <td>105.0</td>\n",
       "      <td>3.00</td>\n",
       "      <td>39</td>\n",
       "      <td>0</td>\n",
       "      <td>northeastern_university</td>\n",
       "      <td>accept</td>\n",
       "      <td>15</td>\n",
       "    </tr>\n",
       "    <tr>\n",
       "      <th>68</th>\n",
       "      <td>321</td>\n",
       "      <td>168</td>\n",
       "      <td>153</td>\n",
       "      <td>109.0</td>\n",
       "      <td>3.27</td>\n",
       "      <td>2</td>\n",
       "      <td>0</td>\n",
       "      <td>northeastern_university</td>\n",
       "      <td>accept</td>\n",
       "      <td>15</td>\n",
       "    </tr>\n",
       "    <tr>\n",
       "      <th>451</th>\n",
       "      <td>324</td>\n",
       "      <td>170</td>\n",
       "      <td>154</td>\n",
       "      <td>105.0</td>\n",
       "      <td>3.31</td>\n",
       "      <td>10</td>\n",
       "      <td>0</td>\n",
       "      <td>northeastern_university</td>\n",
       "      <td>accept</td>\n",
       "      <td>15</td>\n",
       "    </tr>\n",
       "    <tr>\n",
       "      <th>2</th>\n",
       "      <td>307</td>\n",
       "      <td>160</td>\n",
       "      <td>147</td>\n",
       "      <td>88.0</td>\n",
       "      <td>3.00</td>\n",
       "      <td>36</td>\n",
       "      <td>0</td>\n",
       "      <td>northeastern_university</td>\n",
       "      <td>accept</td>\n",
       "      <td>15</td>\n",
       "    </tr>\n",
       "    <tr>\n",
       "      <th>340</th>\n",
       "      <td>311</td>\n",
       "      <td>159</td>\n",
       "      <td>152</td>\n",
       "      <td>103.0</td>\n",
       "      <td>3.08</td>\n",
       "      <td>1</td>\n",
       "      <td>0</td>\n",
       "      <td>northeastern_university</td>\n",
       "      <td>accept</td>\n",
       "      <td>15</td>\n",
       "    </tr>\n",
       "    <tr>\n",
       "      <th>39</th>\n",
       "      <td>319</td>\n",
       "      <td>163</td>\n",
       "      <td>156</td>\n",
       "      <td>112.0</td>\n",
       "      <td>3.40</td>\n",
       "      <td>0</td>\n",
       "      <td>0</td>\n",
       "      <td>northeastern_university</td>\n",
       "      <td>accept</td>\n",
       "      <td>15</td>\n",
       "    </tr>\n",
       "    <tr>\n",
       "      <th>322</th>\n",
       "      <td>310</td>\n",
       "      <td>162</td>\n",
       "      <td>148</td>\n",
       "      <td>99.0</td>\n",
       "      <td>2.85</td>\n",
       "      <td>24</td>\n",
       "      <td>0</td>\n",
       "      <td>northeastern_university</td>\n",
       "      <td>accept</td>\n",
       "      <td>15</td>\n",
       "    </tr>\n",
       "    <tr>\n",
       "      <th>559</th>\n",
       "      <td>309</td>\n",
       "      <td>163</td>\n",
       "      <td>146</td>\n",
       "      <td>106.0</td>\n",
       "      <td>2.80</td>\n",
       "      <td>0</td>\n",
       "      <td>0</td>\n",
       "      <td>northeastern_university</td>\n",
       "      <td>accept</td>\n",
       "      <td>15</td>\n",
       "    </tr>\n",
       "    <tr>\n",
       "      <th>504</th>\n",
       "      <td>326</td>\n",
       "      <td>162</td>\n",
       "      <td>164</td>\n",
       "      <td>117.0</td>\n",
       "      <td>3.20</td>\n",
       "      <td>20</td>\n",
       "      <td>3</td>\n",
       "      <td>northeastern_university</td>\n",
       "      <td>accept</td>\n",
       "      <td>15</td>\n",
       "    </tr>\n",
       "    <tr>\n",
       "      <th>...</th>\n",
       "      <td>...</td>\n",
       "      <td>...</td>\n",
       "      <td>...</td>\n",
       "      <td>...</td>\n",
       "      <td>...</td>\n",
       "      <td>...</td>\n",
       "      <td>...</td>\n",
       "      <td>...</td>\n",
       "      <td>...</td>\n",
       "      <td>...</td>\n",
       "    </tr>\n",
       "    <tr>\n",
       "      <th>9317</th>\n",
       "      <td>303</td>\n",
       "      <td>160</td>\n",
       "      <td>143</td>\n",
       "      <td>93.0</td>\n",
       "      <td>3.03</td>\n",
       "      <td>19</td>\n",
       "      <td>0</td>\n",
       "      <td>worcester_polytechnic_institute</td>\n",
       "      <td>reject</td>\n",
       "      <td>79</td>\n",
       "    </tr>\n",
       "    <tr>\n",
       "      <th>9343</th>\n",
       "      <td>327</td>\n",
       "      <td>170</td>\n",
       "      <td>157</td>\n",
       "      <td>117.0</td>\n",
       "      <td>3.28</td>\n",
       "      <td>6</td>\n",
       "      <td>3</td>\n",
       "      <td>worcester_polytechnic_institute</td>\n",
       "      <td>reject</td>\n",
       "      <td>79</td>\n",
       "    </tr>\n",
       "    <tr>\n",
       "      <th>9320</th>\n",
       "      <td>299</td>\n",
       "      <td>159</td>\n",
       "      <td>140</td>\n",
       "      <td>86.0</td>\n",
       "      <td>2.99</td>\n",
       "      <td>15</td>\n",
       "      <td>0</td>\n",
       "      <td>worcester_polytechnic_institute</td>\n",
       "      <td>reject</td>\n",
       "      <td>79</td>\n",
       "    </tr>\n",
       "    <tr>\n",
       "      <th>9342</th>\n",
       "      <td>318</td>\n",
       "      <td>168</td>\n",
       "      <td>150</td>\n",
       "      <td>106.0</td>\n",
       "      <td>1.88</td>\n",
       "      <td>18</td>\n",
       "      <td>3</td>\n",
       "      <td>worcester_polytechnic_institute</td>\n",
       "      <td>reject</td>\n",
       "      <td>79</td>\n",
       "    </tr>\n",
       "    <tr>\n",
       "      <th>9314</th>\n",
       "      <td>304</td>\n",
       "      <td>160</td>\n",
       "      <td>144</td>\n",
       "      <td>83.0</td>\n",
       "      <td>3.40</td>\n",
       "      <td>18</td>\n",
       "      <td>0</td>\n",
       "      <td>worcester_polytechnic_institute</td>\n",
       "      <td>reject</td>\n",
       "      <td>79</td>\n",
       "    </tr>\n",
       "    <tr>\n",
       "      <th>9325</th>\n",
       "      <td>315</td>\n",
       "      <td>165</td>\n",
       "      <td>150</td>\n",
       "      <td>104.0</td>\n",
       "      <td>3.12</td>\n",
       "      <td>3</td>\n",
       "      <td>2</td>\n",
       "      <td>worcester_polytechnic_institute</td>\n",
       "      <td>reject</td>\n",
       "      <td>79</td>\n",
       "    </tr>\n",
       "    <tr>\n",
       "      <th>9316</th>\n",
       "      <td>312</td>\n",
       "      <td>147</td>\n",
       "      <td>165</td>\n",
       "      <td>106.0</td>\n",
       "      <td>2.75</td>\n",
       "      <td>15</td>\n",
       "      <td>3</td>\n",
       "      <td>worcester_polytechnic_institute</td>\n",
       "      <td>reject</td>\n",
       "      <td>79</td>\n",
       "    </tr>\n",
       "    <tr>\n",
       "      <th>9320</th>\n",
       "      <td>299</td>\n",
       "      <td>159</td>\n",
       "      <td>140</td>\n",
       "      <td>86.0</td>\n",
       "      <td>2.99</td>\n",
       "      <td>15</td>\n",
       "      <td>0</td>\n",
       "      <td>worcester_polytechnic_institute</td>\n",
       "      <td>reject</td>\n",
       "      <td>79</td>\n",
       "    </tr>\n",
       "    <tr>\n",
       "      <th>9337</th>\n",
       "      <td>304</td>\n",
       "      <td>149</td>\n",
       "      <td>155</td>\n",
       "      <td>88.0</td>\n",
       "      <td>2.36</td>\n",
       "      <td>46</td>\n",
       "      <td>0</td>\n",
       "      <td>worcester_polytechnic_institute</td>\n",
       "      <td>reject</td>\n",
       "      <td>79</td>\n",
       "    </tr>\n",
       "    <tr>\n",
       "      <th>9319</th>\n",
       "      <td>303</td>\n",
       "      <td>154</td>\n",
       "      <td>149</td>\n",
       "      <td>102.0</td>\n",
       "      <td>2.05</td>\n",
       "      <td>1</td>\n",
       "      <td>0</td>\n",
       "      <td>worcester_polytechnic_institute</td>\n",
       "      <td>reject</td>\n",
       "      <td>79</td>\n",
       "    </tr>\n",
       "    <tr>\n",
       "      <th>9326</th>\n",
       "      <td>314</td>\n",
       "      <td>162</td>\n",
       "      <td>152</td>\n",
       "      <td>105.0</td>\n",
       "      <td>3.06</td>\n",
       "      <td>2</td>\n",
       "      <td>3</td>\n",
       "      <td>worcester_polytechnic_institute</td>\n",
       "      <td>reject</td>\n",
       "      <td>79</td>\n",
       "    </tr>\n",
       "    <tr>\n",
       "      <th>9341</th>\n",
       "      <td>306</td>\n",
       "      <td>158</td>\n",
       "      <td>148</td>\n",
       "      <td>100.0</td>\n",
       "      <td>2.65</td>\n",
       "      <td>18</td>\n",
       "      <td>0</td>\n",
       "      <td>worcester_polytechnic_institute</td>\n",
       "      <td>reject</td>\n",
       "      <td>79</td>\n",
       "    </tr>\n",
       "    <tr>\n",
       "      <th>9333</th>\n",
       "      <td>306</td>\n",
       "      <td>163</td>\n",
       "      <td>143</td>\n",
       "      <td>101.0</td>\n",
       "      <td>1.72</td>\n",
       "      <td>18</td>\n",
       "      <td>3</td>\n",
       "      <td>worcester_polytechnic_institute</td>\n",
       "      <td>reject</td>\n",
       "      <td>79</td>\n",
       "    </tr>\n",
       "    <tr>\n",
       "      <th>9349</th>\n",
       "      <td>294</td>\n",
       "      <td>154</td>\n",
       "      <td>140</td>\n",
       "      <td>86.0</td>\n",
       "      <td>2.85</td>\n",
       "      <td>30</td>\n",
       "      <td>0</td>\n",
       "      <td>worcester_polytechnic_institute</td>\n",
       "      <td>reject</td>\n",
       "      <td>79</td>\n",
       "    </tr>\n",
       "    <tr>\n",
       "      <th>9345</th>\n",
       "      <td>316</td>\n",
       "      <td>158</td>\n",
       "      <td>158</td>\n",
       "      <td>113.0</td>\n",
       "      <td>2.50</td>\n",
       "      <td>3</td>\n",
       "      <td>0</td>\n",
       "      <td>worcester_polytechnic_institute</td>\n",
       "      <td>reject</td>\n",
       "      <td>79</td>\n",
       "    </tr>\n",
       "    <tr>\n",
       "      <th>9337</th>\n",
       "      <td>304</td>\n",
       "      <td>149</td>\n",
       "      <td>155</td>\n",
       "      <td>88.0</td>\n",
       "      <td>2.36</td>\n",
       "      <td>46</td>\n",
       "      <td>0</td>\n",
       "      <td>worcester_polytechnic_institute</td>\n",
       "      <td>reject</td>\n",
       "      <td>79</td>\n",
       "    </tr>\n",
       "    <tr>\n",
       "      <th>9326</th>\n",
       "      <td>314</td>\n",
       "      <td>162</td>\n",
       "      <td>152</td>\n",
       "      <td>105.0</td>\n",
       "      <td>3.06</td>\n",
       "      <td>2</td>\n",
       "      <td>3</td>\n",
       "      <td>worcester_polytechnic_institute</td>\n",
       "      <td>reject</td>\n",
       "      <td>79</td>\n",
       "    </tr>\n",
       "    <tr>\n",
       "      <th>9321</th>\n",
       "      <td>308</td>\n",
       "      <td>157</td>\n",
       "      <td>151</td>\n",
       "      <td>93.0</td>\n",
       "      <td>1.28</td>\n",
       "      <td>0</td>\n",
       "      <td>0</td>\n",
       "      <td>worcester_polytechnic_institute</td>\n",
       "      <td>reject</td>\n",
       "      <td>79</td>\n",
       "    </tr>\n",
       "    <tr>\n",
       "      <th>9327</th>\n",
       "      <td>305</td>\n",
       "      <td>158</td>\n",
       "      <td>147</td>\n",
       "      <td>97.0</td>\n",
       "      <td>3.47</td>\n",
       "      <td>3</td>\n",
       "      <td>3</td>\n",
       "      <td>worcester_polytechnic_institute</td>\n",
       "      <td>reject</td>\n",
       "      <td>79</td>\n",
       "    </tr>\n",
       "    <tr>\n",
       "      <th>9319</th>\n",
       "      <td>303</td>\n",
       "      <td>154</td>\n",
       "      <td>149</td>\n",
       "      <td>102.0</td>\n",
       "      <td>2.05</td>\n",
       "      <td>1</td>\n",
       "      <td>0</td>\n",
       "      <td>worcester_polytechnic_institute</td>\n",
       "      <td>reject</td>\n",
       "      <td>79</td>\n",
       "    </tr>\n",
       "    <tr>\n",
       "      <th>9314</th>\n",
       "      <td>304</td>\n",
       "      <td>160</td>\n",
       "      <td>144</td>\n",
       "      <td>83.0</td>\n",
       "      <td>3.40</td>\n",
       "      <td>18</td>\n",
       "      <td>0</td>\n",
       "      <td>worcester_polytechnic_institute</td>\n",
       "      <td>reject</td>\n",
       "      <td>79</td>\n",
       "    </tr>\n",
       "    <tr>\n",
       "      <th>9343</th>\n",
       "      <td>327</td>\n",
       "      <td>170</td>\n",
       "      <td>157</td>\n",
       "      <td>117.0</td>\n",
       "      <td>3.28</td>\n",
       "      <td>6</td>\n",
       "      <td>3</td>\n",
       "      <td>worcester_polytechnic_institute</td>\n",
       "      <td>reject</td>\n",
       "      <td>79</td>\n",
       "    </tr>\n",
       "    <tr>\n",
       "      <th>9319</th>\n",
       "      <td>303</td>\n",
       "      <td>154</td>\n",
       "      <td>149</td>\n",
       "      <td>102.0</td>\n",
       "      <td>2.05</td>\n",
       "      <td>1</td>\n",
       "      <td>0</td>\n",
       "      <td>worcester_polytechnic_institute</td>\n",
       "      <td>reject</td>\n",
       "      <td>79</td>\n",
       "    </tr>\n",
       "    <tr>\n",
       "      <th>9323</th>\n",
       "      <td>303</td>\n",
       "      <td>152</td>\n",
       "      <td>151</td>\n",
       "      <td>100.0</td>\n",
       "      <td>3.00</td>\n",
       "      <td>24</td>\n",
       "      <td>3</td>\n",
       "      <td>worcester_polytechnic_institute</td>\n",
       "      <td>reject</td>\n",
       "      <td>79</td>\n",
       "    </tr>\n",
       "    <tr>\n",
       "      <th>9325</th>\n",
       "      <td>315</td>\n",
       "      <td>165</td>\n",
       "      <td>150</td>\n",
       "      <td>104.0</td>\n",
       "      <td>3.12</td>\n",
       "      <td>3</td>\n",
       "      <td>2</td>\n",
       "      <td>worcester_polytechnic_institute</td>\n",
       "      <td>reject</td>\n",
       "      <td>79</td>\n",
       "    </tr>\n",
       "    <tr>\n",
       "      <th>9325</th>\n",
       "      <td>315</td>\n",
       "      <td>165</td>\n",
       "      <td>150</td>\n",
       "      <td>104.0</td>\n",
       "      <td>3.12</td>\n",
       "      <td>3</td>\n",
       "      <td>2</td>\n",
       "      <td>worcester_polytechnic_institute</td>\n",
       "      <td>reject</td>\n",
       "      <td>79</td>\n",
       "    </tr>\n",
       "    <tr>\n",
       "      <th>9338</th>\n",
       "      <td>310</td>\n",
       "      <td>164</td>\n",
       "      <td>146</td>\n",
       "      <td>97.0</td>\n",
       "      <td>3.11</td>\n",
       "      <td>24</td>\n",
       "      <td>0</td>\n",
       "      <td>worcester_polytechnic_institute</td>\n",
       "      <td>reject</td>\n",
       "      <td>79</td>\n",
       "    </tr>\n",
       "    <tr>\n",
       "      <th>9320</th>\n",
       "      <td>299</td>\n",
       "      <td>159</td>\n",
       "      <td>140</td>\n",
       "      <td>86.0</td>\n",
       "      <td>2.99</td>\n",
       "      <td>15</td>\n",
       "      <td>0</td>\n",
       "      <td>worcester_polytechnic_institute</td>\n",
       "      <td>reject</td>\n",
       "      <td>79</td>\n",
       "    </tr>\n",
       "    <tr>\n",
       "      <th>9326</th>\n",
       "      <td>314</td>\n",
       "      <td>162</td>\n",
       "      <td>152</td>\n",
       "      <td>105.0</td>\n",
       "      <td>3.06</td>\n",
       "      <td>2</td>\n",
       "      <td>3</td>\n",
       "      <td>worcester_polytechnic_institute</td>\n",
       "      <td>reject</td>\n",
       "      <td>79</td>\n",
       "    </tr>\n",
       "    <tr>\n",
       "      <th>9314</th>\n",
       "      <td>304</td>\n",
       "      <td>160</td>\n",
       "      <td>144</td>\n",
       "      <td>83.0</td>\n",
       "      <td>3.40</td>\n",
       "      <td>18</td>\n",
       "      <td>0</td>\n",
       "      <td>worcester_polytechnic_institute</td>\n",
       "      <td>reject</td>\n",
       "      <td>79</td>\n",
       "    </tr>\n",
       "  </tbody>\n",
       "</table>\n",
       "<p>9844 rows × 10 columns</p>\n",
       "</div>"
      ],
      "text/plain": [
       "      gre_score  gre_score_quant  gre_score_verbal  test_score_toefl  \\\n",
       "510         314              165               149             100.0   \n",
       "365         315              162               153             100.0   \n",
       "382         309              163               146             104.0   \n",
       "322         310              162               148              99.0   \n",
       "98          320              170               150             104.0   \n",
       "17          304              157               147              95.0   \n",
       "106         313              164               149             110.0   \n",
       "123         317              165               152             114.0   \n",
       "569         304              155               149              99.0   \n",
       "214         304              154               150             105.0   \n",
       "96          321              163               158             109.0   \n",
       "113         299              148               151              75.0   \n",
       "47          320              170               150             107.0   \n",
       "73          320              167               153             104.0   \n",
       "544         305              159               146              92.0   \n",
       "224         312              154               158             104.0   \n",
       "111         309              160               149              75.0   \n",
       "409         307              158               149             105.0   \n",
       "339         324              170               154              98.0   \n",
       "253         315              160               155             109.0   \n",
       "420         312              160               152             109.0   \n",
       "208         321              165               156             105.0   \n",
       "68          321              168               153             109.0   \n",
       "451         324              170               154             105.0   \n",
       "2           307              160               147              88.0   \n",
       "340         311              159               152             103.0   \n",
       "39          319              163               156             112.0   \n",
       "322         310              162               148              99.0   \n",
       "559         309              163               146             106.0   \n",
       "504         326              162               164             117.0   \n",
       "...         ...              ...               ...               ...   \n",
       "9317        303              160               143              93.0   \n",
       "9343        327              170               157             117.0   \n",
       "9320        299              159               140              86.0   \n",
       "9342        318              168               150             106.0   \n",
       "9314        304              160               144              83.0   \n",
       "9325        315              165               150             104.0   \n",
       "9316        312              147               165             106.0   \n",
       "9320        299              159               140              86.0   \n",
       "9337        304              149               155              88.0   \n",
       "9319        303              154               149             102.0   \n",
       "9326        314              162               152             105.0   \n",
       "9341        306              158               148             100.0   \n",
       "9333        306              163               143             101.0   \n",
       "9349        294              154               140              86.0   \n",
       "9345        316              158               158             113.0   \n",
       "9337        304              149               155              88.0   \n",
       "9326        314              162               152             105.0   \n",
       "9321        308              157               151              93.0   \n",
       "9327        305              158               147              97.0   \n",
       "9319        303              154               149             102.0   \n",
       "9314        304              160               144              83.0   \n",
       "9343        327              170               157             117.0   \n",
       "9319        303              154               149             102.0   \n",
       "9323        303              152               151             100.0   \n",
       "9325        315              165               150             104.0   \n",
       "9325        315              165               150             104.0   \n",
       "9338        310              164               146              97.0   \n",
       "9320        299              159               140              86.0   \n",
       "9326        314              162               152             105.0   \n",
       "9314        304              160               144              83.0   \n",
       "\n",
       "      undergraduation_score  work_ex  papers_published  \\\n",
       "510                    2.90        0                 2   \n",
       "365                    3.30       60                 0   \n",
       "382                    2.64       32                 0   \n",
       "322                    2.85       24                 0   \n",
       "98                     3.86        2                 1   \n",
       "17                     2.82        0                 0   \n",
       "106                    2.90        7                 0   \n",
       "123                    2.64       24                 0   \n",
       "569                    2.76       20                 0   \n",
       "214                    3.20       31                 3   \n",
       "96                     3.16       44                 0   \n",
       "113                    2.62       55                 0   \n",
       "47                     3.68        4                 0   \n",
       "73                     3.46       24                 0   \n",
       "544                    1.90        0                 0   \n",
       "224                    1.24        2                 0   \n",
       "111                    3.37       30                 0   \n",
       "409                    2.96       48                 1   \n",
       "339                    2.36        0                 0   \n",
       "253                    3.59        2                 3   \n",
       "420                    2.65        9                 0   \n",
       "208                    3.00       39                 0   \n",
       "68                     3.27        2                 0   \n",
       "451                    3.31       10                 0   \n",
       "2                      3.00       36                 0   \n",
       "340                    3.08        1                 0   \n",
       "39                     3.40        0                 0   \n",
       "322                    2.85       24                 0   \n",
       "559                    2.80        0                 0   \n",
       "504                    3.20       20                 3   \n",
       "...                     ...      ...               ...   \n",
       "9317                   3.03       19                 0   \n",
       "9343                   3.28        6                 3   \n",
       "9320                   2.99       15                 0   \n",
       "9342                   1.88       18                 3   \n",
       "9314                   3.40       18                 0   \n",
       "9325                   3.12        3                 2   \n",
       "9316                   2.75       15                 3   \n",
       "9320                   2.99       15                 0   \n",
       "9337                   2.36       46                 0   \n",
       "9319                   2.05        1                 0   \n",
       "9326                   3.06        2                 3   \n",
       "9341                   2.65       18                 0   \n",
       "9333                   1.72       18                 3   \n",
       "9349                   2.85       30                 0   \n",
       "9345                   2.50        3                 0   \n",
       "9337                   2.36       46                 0   \n",
       "9326                   3.06        2                 3   \n",
       "9321                   1.28        0                 0   \n",
       "9327                   3.47        3                 3   \n",
       "9319                   2.05        1                 0   \n",
       "9314                   3.40       18                 0   \n",
       "9343                   3.28        6                 3   \n",
       "9319                   2.05        1                 0   \n",
       "9323                   3.00       24                 3   \n",
       "9325                   3.12        3                 2   \n",
       "9325                   3.12        3                 2   \n",
       "9338                   3.11       24                 0   \n",
       "9320                   2.99       15                 0   \n",
       "9326                   3.06        2                 3   \n",
       "9314                   3.40       18                 0   \n",
       "\n",
       "                      university_name  status  ranking  \n",
       "510           northeastern_university  accept       15  \n",
       "365           northeastern_university  accept       15  \n",
       "382           northeastern_university  accept       15  \n",
       "322           northeastern_university  accept       15  \n",
       "98            northeastern_university  accept       15  \n",
       "17            northeastern_university  accept       15  \n",
       "106           northeastern_university  accept       15  \n",
       "123           northeastern_university  accept       15  \n",
       "569           northeastern_university  accept       15  \n",
       "214           northeastern_university  accept       15  \n",
       "96            northeastern_university  accept       15  \n",
       "113           northeastern_university  accept       15  \n",
       "47            northeastern_university  accept       15  \n",
       "73            northeastern_university  accept       15  \n",
       "544           northeastern_university  accept       15  \n",
       "224           northeastern_university  accept       15  \n",
       "111           northeastern_university  accept       15  \n",
       "409           northeastern_university  accept       15  \n",
       "339           northeastern_university  accept       15  \n",
       "253           northeastern_university  accept       15  \n",
       "420           northeastern_university  accept       15  \n",
       "208           northeastern_university  accept       15  \n",
       "68            northeastern_university  accept       15  \n",
       "451           northeastern_university  accept       15  \n",
       "2             northeastern_university  accept       15  \n",
       "340           northeastern_university  accept       15  \n",
       "39            northeastern_university  accept       15  \n",
       "322           northeastern_university  accept       15  \n",
       "559           northeastern_university  accept       15  \n",
       "504           northeastern_university  accept       15  \n",
       "...                               ...     ...      ...  \n",
       "9317  worcester_polytechnic_institute  reject       79  \n",
       "9343  worcester_polytechnic_institute  reject       79  \n",
       "9320  worcester_polytechnic_institute  reject       79  \n",
       "9342  worcester_polytechnic_institute  reject       79  \n",
       "9314  worcester_polytechnic_institute  reject       79  \n",
       "9325  worcester_polytechnic_institute  reject       79  \n",
       "9316  worcester_polytechnic_institute  reject       79  \n",
       "9320  worcester_polytechnic_institute  reject       79  \n",
       "9337  worcester_polytechnic_institute  reject       79  \n",
       "9319  worcester_polytechnic_institute  reject       79  \n",
       "9326  worcester_polytechnic_institute  reject       79  \n",
       "9341  worcester_polytechnic_institute  reject       79  \n",
       "9333  worcester_polytechnic_institute  reject       79  \n",
       "9349  worcester_polytechnic_institute  reject       79  \n",
       "9345  worcester_polytechnic_institute  reject       79  \n",
       "9337  worcester_polytechnic_institute  reject       79  \n",
       "9326  worcester_polytechnic_institute  reject       79  \n",
       "9321  worcester_polytechnic_institute  reject       79  \n",
       "9327  worcester_polytechnic_institute  reject       79  \n",
       "9319  worcester_polytechnic_institute  reject       79  \n",
       "9314  worcester_polytechnic_institute  reject       79  \n",
       "9343  worcester_polytechnic_institute  reject       79  \n",
       "9319  worcester_polytechnic_institute  reject       79  \n",
       "9323  worcester_polytechnic_institute  reject       79  \n",
       "9325  worcester_polytechnic_institute  reject       79  \n",
       "9325  worcester_polytechnic_institute  reject       79  \n",
       "9338  worcester_polytechnic_institute  reject       79  \n",
       "9320  worcester_polytechnic_institute  reject       79  \n",
       "9326  worcester_polytechnic_institute  reject       79  \n",
       "9314  worcester_polytechnic_institute  reject       79  \n",
       "\n",
       "[9844 rows x 10 columns]"
      ]
     },
     "execution_count": 130,
     "metadata": {},
     "output_type": "execute_result"
    }
   ],
   "source": [
    "dataset"
   ]
  },
  {
   "cell_type": "code",
   "execution_count": 131,
   "metadata": {},
   "outputs": [],
   "source": [
    "#train test split for modelling\n",
    "training, testing = train_test_split(dataset, test_size=0.25, random_state=5, stratify=dataset[['university_name', 'status']])"
   ]
  },
  {
   "cell_type": "code",
   "execution_count": 132,
   "metadata": {
    "scrolled": true
   },
   "outputs": [
    {
     "data": {
      "text/plain": [
       "university_name                              status\n",
       "carnegie_mellon_university                   accept    31\n",
       "                                             reject    31\n",
       "clemson_university                           accept    31\n",
       "                                             reject    31\n",
       "george_mason_university                      accept    42\n",
       "                                             reject    24\n",
       "georgia_institiute_of_technology             accept    31\n",
       "                                             reject    31\n",
       "illinois_institute_of_technology             accept    67\n",
       "                                             reject    42\n",
       "indiana_university_bloomington               accept    68\n",
       "                                             reject    18\n",
       "kansas_state_university                      accept    31\n",
       "                                             reject    31\n",
       "michigan_technological_university            accept    31\n",
       "                                             reject    31\n",
       "new_york_university                          reject    45\n",
       "                                             accept    35\n",
       "north_carolina_state_university_raleigh      reject    77\n",
       "                                             accept    70\n",
       "northeastern_university                      accept    75\n",
       "                                             reject    75\n",
       "rochester_institute_of_technology            accept    51\n",
       "                                             reject    35\n",
       "rutgers_university_new_brunswick             reject    49\n",
       "                                             accept    27\n",
       "state_university_of_new_york_at_stony_brook  accept    75\n",
       "                                             reject    75\n",
       "syracuse_university                          reject    70\n",
       "                                             accept    60\n",
       "texas_a_m_university_college_station         reject    55\n",
       "                                             accept    42\n",
       "university_of_california_irvine              reject    72\n",
       "                                             accept    29\n",
       "university_of_cincinnati                     accept    50\n",
       "                                             reject    11\n",
       "university_of_colorado_boulder               reject    49\n",
       "                                             accept    37\n",
       "university_of_connecticut                    accept    31\n",
       "                                             reject    31\n",
       "university_of_florida                        accept    31\n",
       "                                             reject    31\n",
       "university_of_iowa                           accept    31\n",
       "                                             reject    31\n",
       "university_of_maryland_college_park          reject    58\n",
       "                                             accept     8\n",
       "university_of_north_carolina_at_charlotte    reject    49\n",
       "                                             accept    46\n",
       "university_of_southern_california            accept    31\n",
       "                                             reject    31\n",
       "university_of_texas_arlington                accept    45\n",
       "                                             reject    34\n",
       "university_of_texas_austin                   reject    55\n",
       "                                             accept     3\n",
       "university_of_texas_dallas                   reject    61\n",
       "                                             accept    57\n",
       "worcester_polytechnic_institute              accept    31\n",
       "                                             reject    31\n",
       "Name: status, dtype: int64"
      ]
     },
     "execution_count": 132,
     "metadata": {},
     "output_type": "execute_result"
    }
   ],
   "source": [
    "testing.groupby(by=['university_name'])['status'].value_counts()"
   ]
  },
  {
   "cell_type": "code",
   "execution_count": 133,
   "metadata": {
    "scrolled": true
   },
   "outputs": [
    {
     "data": {
      "text/plain": [
       "((7383, 10), (2461, 10))"
      ]
     },
     "execution_count": 133,
     "metadata": {},
     "output_type": "execute_result"
    }
   ],
   "source": [
    "training.shape,testing.shape"
   ]
  },
  {
   "cell_type": "code",
   "execution_count": null,
   "metadata": {},
   "outputs": [],
   "source": []
  },
  {
   "cell_type": "code",
   "execution_count": 134,
   "metadata": {},
   "outputs": [],
   "source": [
    "model_name=[]\n",
    "model_train_acc=[]\n",
    "model_test_accuracy=[]\n",
    "model_train_f1=[]\n",
    "model_test_f1=[]\n"
   ]
  },
  {
   "cell_type": "code",
   "execution_count": 135,
   "metadata": {},
   "outputs": [],
   "source": [
    "from sklearn.model_selection import StratifiedKFold\n",
    "import numpy as np"
   ]
  },
  {
   "cell_type": "code",
   "execution_count": 136,
   "metadata": {},
   "outputs": [],
   "source": [
    "def get_result(model, X_train, X_test, Y_train, Y_test):\n",
    "    sc = StandardScaler() \n",
    "    sc.fit(X_train)\n",
    "    X_train = sc.transform(X_train)\n",
    "    X_test = sc.transform(X_test) \n",
    "    model.fit(X_train, Y_train)\n",
    "    y_pred = model.predict(X_test)\n",
    "    y_train_pred = model.predict(X_train)\n",
    "    prob_test=pd.DataFrame(model.predict_proba(X_test))\n",
    "    prob_train=pd.DataFrame(model.predict_proba(X_train))\n",
    "    test_f1_score = f1_score(Y_test, y_pred,pos_label='accept')\n",
    "    train_f1_score = f1_score(Y_train, y_train_pred,pos_label='accept')\n",
    "    train_accuracy=accuracy_score(Y_train, y_train_pred)\n",
    "    test_accuracy=accuracy_score(Y_test, y_pred)\n",
    "    test_cm = confusion_matrix(Y_test, y_pred,labels=['accept','reject'])\n",
    "    train_cm = confusion_matrix(Y_train, y_train_pred,labels=['accept','reject'])\n",
    "    model_name.append(model)\n",
    "    model_train_acc.append(train_accuracy)\n",
    "    model_test_accuracy.append(test_accuracy)\n",
    "    model_test_f1.append(test_f1_score)\n",
    "    model_train_f1.append(train_f1_score)\n",
    "    return [train_cm,test_cm,train_accuracy,test_accuracy,train_f1_score, test_f1_score, prob_train,prob_test, y_pred,y_train_pred, model,sc]"
   ]
  },
  {
   "cell_type": "code",
   "execution_count": 137,
   "metadata": {},
   "outputs": [],
   "source": [
    "#test and train roc\n",
    "import numpy as np\n",
    "from sklearn import metrics\n",
    "from sklearn.metrics import roc_curve,auc\n",
    "import matplotlib.pyplot as plt\n",
    "import seaborn as sns\n",
    "\n",
    "def generate_cm_roc(model_results):\n",
    "    test_fpr,test_tpr,test_thresholds = metrics.roc_curve(testing['status'], model_results[7][0],pos_label='accept')\n",
    "    test_roc_auc = auc(test_fpr, test_tpr)\n",
    "    train_fpr,train_tpr,train_thresholds = metrics.roc_curve(training['status'], model_results[6][0],pos_label='accept')\n",
    "    train_roc_auc = auc(train_fpr, train_tpr)\n",
    "    plt.plot(train_fpr, train_tpr, lw=2, alpha=0.5,\n",
    "                 label='Train ROC (auc= %0.2f)' % (train_roc_auc))\n",
    "    plt.plot(test_fpr, test_tpr, lw=2, alpha=0.5,\n",
    "                 label='Test ROC (auc= %0.2f)' % (test_roc_auc))\n",
    "    plt.plot([0, 1], [0, 1], linestyle='--', lw=2, color='r',\n",
    "             label='Chance', alpha=.8)\n",
    "    plt.xlim([-0.05, 1.05])\n",
    "    plt.ylim([-0.05, 1.05])\n",
    "    plt.xlabel('False Positive Rate')\n",
    "    plt.ylabel('True Positive Rate')\n",
    "    plt.title('Receiver operating characteristic')\n",
    "    plt.legend(loc=\"lower right\")\n",
    "    plt.show()\n",
    "    f,ax = plt.subplots(figsize=(2, 2))\n",
    "    sns.heatmap(model_results[0], annot=True, linewidths=1, fmt= '.1f',ax=ax)\n",
    "    plt.title('Train Confusion Matrix')\n",
    "    plt.show()\n",
    "    f,ax = plt.subplots(figsize=(2, 2))\n",
    "    sns.heatmap(model_results[1], annot=True, linewidths=1, fmt= '.1f',ax=ax)\n",
    "    plt.title('Test confusion matrix')\n",
    "    plt.show()"
   ]
  },
  {
   "cell_type": "code",
   "execution_count": 138,
   "metadata": {
    "scrolled": true
   },
   "outputs": [
    {
     "data": {
      "text/plain": [
       "array(['gre_score', 'gre_score_quant', 'gre_score_verbal',\n",
       "       'test_score_toefl', 'undergraduation_score', 'work_ex',\n",
       "       'papers_published', 'ranking'], dtype=object)"
      ]
     },
     "execution_count": 138,
     "metadata": {},
     "output_type": "execute_result"
    }
   ],
   "source": [
    "numerical_data = training.select_dtypes(include = ['int64','float','uint8'])\n",
    "categorical_data = training.select_dtypes(include = ['object'])\n",
    "categorical_features = categorical_data.columns.values\n",
    "numerical_features = numerical_data.columns.values\n",
    "numerical_features"
   ]
  },
  {
   "cell_type": "code",
   "execution_count": 139,
   "metadata": {
    "scrolled": true
   },
   "outputs": [
    {
     "name": "stderr",
     "output_type": "stream",
     "text": [
      "C:\\Users\\navee\\Anaconda3\\lib\\site-packages\\sklearn\\preprocessing\\data.py:625: DataConversionWarning: Data with input dtype int64, float64 were all converted to float64 by StandardScaler.\n",
      "  return self.partial_fit(X, y)\n",
      "C:\\Users\\navee\\Anaconda3\\lib\\site-packages\\ipykernel_launcher.py:4: DataConversionWarning: Data with input dtype int64, float64 were all converted to float64 by StandardScaler.\n",
      "  after removing the cwd from sys.path.\n",
      "C:\\Users\\navee\\Anaconda3\\lib\\site-packages\\ipykernel_launcher.py:5: DataConversionWarning: Data with input dtype int64, float64 were all converted to float64 by StandardScaler.\n",
      "  \"\"\"\n"
     ]
    }
   ],
   "source": [
    "from sklearn.svm import SVC\n",
    "svc_model=SVC(gamma='auto',probability=True)\n",
    "\n",
    "svc_model_results=get_result(svc_model,training[numerical_features],testing[numerical_features],training['status'],testing['status'])\n"
   ]
  },
  {
   "cell_type": "code",
   "execution_count": 140,
   "metadata": {},
   "outputs": [
    {
     "name": "stdout",
     "output_type": "stream",
     "text": [
      "test_accuracy: 0.6395774075579033\n",
      "train_accuracy: 0.6655830963023162\n",
      "test_f1_score: 0.59180855959503\n",
      "train_f1_score: 0.6219568213137344\n"
     ]
    }
   ],
   "source": [
    "print('test_accuracy:',svc_model_results[3])\n",
    "print('train_accuracy:',svc_model_results[2])\n",
    "print('test_f1_score:',svc_model_results[5])\n",
    "print('train_f1_score:',svc_model_results[4])"
   ]
  },
  {
   "cell_type": "code",
   "execution_count": 141,
   "metadata": {},
   "outputs": [
    {
     "data": {
      "image/png": "[encoded data removed]",
      "text/plain": [
       "<Figure size 432x288 with 1 Axes>"
      ]
     },
     "metadata": {
      "needs_background": "light"
     },
     "output_type": "display_data"
    },
    {
     "data": {
      "image/png": "[encoded data removed]",
      "text/plain": [
       "<Figure size 144x144 with 2 Axes>"
      ]
     },
     "metadata": {
      "needs_background": "light"
     },
     "output_type": "display_data"
    },
    {
     "data": {
      "image/png": "[encoded data removed]",
      "text/plain": [
       "<Figure size 144x144 with 2 Axes>"
      ]
     },
     "metadata": {
      "needs_background": "light"
     },
     "output_type": "display_data"
    }
   ],
   "source": [
    "generate_cm_roc(svc_model_results)"
   ]
  },
  {
   "cell_type": "code",
   "execution_count": 142,
   "metadata": {},
   "outputs": [
    {
     "name": "stderr",
     "output_type": "stream",
     "text": [
      "C:\\Users\\navee\\Anaconda3\\lib\\site-packages\\sklearn\\preprocessing\\data.py:625: DataConversionWarning: Data with input dtype int64, float64 were all converted to float64 by StandardScaler.\n",
      "  return self.partial_fit(X, y)\n",
      "C:\\Users\\navee\\Anaconda3\\lib\\site-packages\\ipykernel_launcher.py:4: DataConversionWarning: Data with input dtype int64, float64 were all converted to float64 by StandardScaler.\n",
      "  after removing the cwd from sys.path.\n",
      "C:\\Users\\navee\\Anaconda3\\lib\\site-packages\\ipykernel_launcher.py:5: DataConversionWarning: Data with input dtype int64, float64 were all converted to float64 by StandardScaler.\n",
      "  \"\"\"\n"
     ]
    }
   ],
   "source": [
    "from sklearn.tree import DecisionTreeClassifier\n",
    "decision_tree_model=DecisionTreeClassifier()\n",
    "\n",
    "decision_tree_model_results=get_result(decision_tree_model,training[numerical_features],testing[numerical_features],training['status'],testing['status'])"
   ]
  },
  {
   "cell_type": "code",
   "execution_count": 143,
   "metadata": {
    "scrolled": true
   },
   "outputs": [
    {
     "name": "stdout",
     "output_type": "stream",
     "text": [
      "test_accuracy: 0.7513206013815522\n",
      "train_accuracy: 1.0\n",
      "test_f1_score: 0.743288590604027\n",
      "train_f1_score: 1.0\n"
     ]
    }
   ],
   "source": [
    "print('test_accuracy:',decision_tree_model_results[3])\n",
    "print('train_accuracy:',decision_tree_model_results[2])\n",
    "print('test_f1_score:',decision_tree_model_results[5])\n",
    "print('train_f1_score:',decision_tree_model_results[4])"
   ]
  },
  {
   "cell_type": "code",
   "execution_count": 144,
   "metadata": {
    "scrolled": true
   },
   "outputs": [
    {
     "data": {
      "text/plain": [
       "<bound method BaseEstimator.get_params of DecisionTreeClassifier(class_weight=None, criterion='gini', max_depth=None,\n",
       "            max_features=None, max_leaf_nodes=None,\n",
       "            min_impurity_decrease=0.0, min_impurity_split=None,\n",
       "            min_samples_leaf=1, min_samples_split=2,\n",
       "            min_weight_fraction_leaf=0.0, presort=False, random_state=None,\n",
       "            splitter='best')>"
      ]
     },
     "execution_count": 144,
     "metadata": {},
     "output_type": "execute_result"
    }
   ],
   "source": [
    "decision_tree_model_results[10].get_params"
   ]
  },
  {
   "cell_type": "code",
   "execution_count": 145,
   "metadata": {},
   "outputs": [
    {
     "data": {
      "text/plain": [
       "<BarContainer object of 8 artists>"
      ]
     },
     "execution_count": 145,
     "metadata": {},
     "output_type": "execute_result"
    },
    {
     "data": {
      "image/png": "[encoded data removed]",
      "text/plain": [
       "<Figure size 1440x360 with 1 Axes>"
      ]
     },
     "metadata": {
      "needs_background": "light"
     },
     "output_type": "display_data"
    }
   ],
   "source": [
    "plt.figure(figsize=(20,5))\n",
    "plt.bar(numerical_features.tolist(),decision_tree_model_results[10].feature_importances_)"
   ]
  },
  {
   "cell_type": "code",
   "execution_count": 146,
   "metadata": {},
   "outputs": [
    {
     "name": "stdout",
     "output_type": "stream",
     "text": [
      "test_accuracy: 0.7696058512799675\n",
      "train_accuracy: 0.9901124204253013\n",
      "test_f1_score: 0.7688544639217284\n",
      "train_f1_score: 0.9899073690031798\n"
     ]
    },
    {
     "name": "stderr",
     "output_type": "stream",
     "text": [
      "C:\\Users\\navee\\Anaconda3\\lib\\site-packages\\sklearn\\preprocessing\\data.py:625: DataConversionWarning: Data with input dtype int64, float64 were all converted to float64 by StandardScaler.\n",
      "  return self.partial_fit(X, y)\n",
      "C:\\Users\\navee\\Anaconda3\\lib\\site-packages\\ipykernel_launcher.py:4: DataConversionWarning: Data with input dtype int64, float64 were all converted to float64 by StandardScaler.\n",
      "  after removing the cwd from sys.path.\n",
      "C:\\Users\\navee\\Anaconda3\\lib\\site-packages\\ipykernel_launcher.py:5: DataConversionWarning: Data with input dtype int64, float64 were all converted to float64 by StandardScaler.\n",
      "  \"\"\"\n"
     ]
    }
   ],
   "source": [
    "from sklearn.ensemble import RandomForestClassifier\n",
    "random_forest_model=RandomForestClassifier(n_estimators=10)\n",
    "\n",
    "random_forest_model_results=get_result(random_forest_model,training[numerical_features],testing[numerical_features],training['status'],testing['status'])\n",
    "\n",
    "print('test_accuracy:',random_forest_model_results[3])\n",
    "print('train_accuracy:',random_forest_model_results[2])\n",
    "print('test_f1_score:',random_forest_model_results[5])\n",
    "print('train_f1_score:',random_forest_model_results[4])"
   ]
  },
  {
   "cell_type": "code",
   "execution_count": 147,
   "metadata": {},
   "outputs": [
    {
     "data": {
      "text/plain": [
       "<bound method BaseEstimator.get_params of RandomForestClassifier(bootstrap=True, class_weight=None, criterion='gini',\n",
       "            max_depth=None, max_features='auto', max_leaf_nodes=None,\n",
       "            min_impurity_decrease=0.0, min_impurity_split=None,\n",
       "            min_samples_leaf=1, min_samples_split=2,\n",
       "            min_weight_fraction_leaf=0.0, n_estimators=10, n_jobs=None,\n",
       "            oob_score=False, random_state=None, verbose=0,\n",
       "            warm_start=False)>"
      ]
     },
     "execution_count": 147,
     "metadata": {},
     "output_type": "execute_result"
    }
   ],
   "source": [
    "random_forest_model_results[10].get_params"
   ]
  },
  {
   "cell_type": "code",
   "execution_count": 148,
   "metadata": {},
   "outputs": [
    {
     "name": "stderr",
     "output_type": "stream",
     "text": [
      "C:\\Users\\navee\\Anaconda3\\lib\\site-packages\\sklearn\\preprocessing\\data.py:625: DataConversionWarning: Data with input dtype int64, float64 were all converted to float64 by StandardScaler.\n",
      "  return self.partial_fit(X, y)\n",
      "C:\\Users\\navee\\Anaconda3\\lib\\site-packages\\ipykernel_launcher.py:4: DataConversionWarning: Data with input dtype int64, float64 were all converted to float64 by StandardScaler.\n",
      "  after removing the cwd from sys.path.\n",
      "C:\\Users\\navee\\Anaconda3\\lib\\site-packages\\ipykernel_launcher.py:5: DataConversionWarning: Data with input dtype int64, float64 were all converted to float64 by StandardScaler.\n",
      "  \"\"\"\n"
     ]
    },
    {
     "name": "stdout",
     "output_type": "stream",
     "text": [
      "test_accuracy: 0.7862657456318569\n",
      "train_accuracy: 0.9974265203846675\n",
      "test_f1_score: 0.776360544217687\n",
      "train_f1_score: 0.9973548656550187\n"
     ]
    }
   ],
   "source": [
    "from sklearn.ensemble import RandomForestClassifier\n",
    "random_forest_model=random_forest_model_results[10]\n",
    "\n",
    "param_grid = {\"n_estimators\": [10,15,20,25,30],\n",
    "             \"max_depth\": [10,15,20,25],\n",
    "             \"bootstrap\": [True, False]}\n",
    "random_forest_model_clf = GridSearchCV(random_forest_model,param_grid,cv=5,return_train_score=True)\n",
    "\n",
    "\n",
    "random_forest_model_results=get_result(random_forest_model_clf,training[numerical_features],testing[numerical_features],training['status'],testing['status'])\n",
    "\n",
    "print('test_accuracy:',random_forest_model_results[3])\n",
    "print('train_accuracy:',random_forest_model_results[2])\n",
    "print('test_f1_score:',random_forest_model_results[5])\n",
    "print('train_f1_score:',random_forest_model_results[4])"
   ]
  },
  {
   "cell_type": "code",
   "execution_count": 149,
   "metadata": {},
   "outputs": [
    {
     "data": {
      "image/png": "[encoded data removed]",
      "text/plain": [
       "<Figure size 432x288 with 1 Axes>"
      ]
     },
     "metadata": {
      "needs_background": "light"
     },
     "output_type": "display_data"
    },
    {
     "data": {
      "image/png": "[encoded data removed]",
      "text/plain": [
       "<Figure size 144x144 with 2 Axes>"
      ]
     },
     "metadata": {
      "needs_background": "light"
     },
     "output_type": "display_data"
    },
    {
     "data": {
      "image/png": "[encoded data removed]",
      "text/plain": [
       "<Figure size 144x144 with 2 Axes>"
      ]
     },
     "metadata": {
      "needs_background": "light"
     },
     "output_type": "display_data"
    }
   ],
   "source": [
    "generate_cm_roc(random_forest_model_results)"
   ]
  },
  {
   "cell_type": "code",
   "execution_count": 150,
   "metadata": {},
   "outputs": [
    {
     "data": {
      "text/plain": [
       "0.7728565623730191"
      ]
     },
     "execution_count": 150,
     "metadata": {},
     "output_type": "execute_result"
    }
   ],
   "source": [
    "random_forest_model_results[10].best_score_"
   ]
  },
  {
   "cell_type": "code",
   "execution_count": 151,
   "metadata": {},
   "outputs": [
    {
     "data": {
      "text/plain": [
       "{'mean_fit_time': array([0.0366982 , 0.05056262, 0.0665451 , 0.08374925, 0.09877429,\n",
       "        0.0478404 , 0.06578603, 0.08351951, 0.10363717, 0.1266995 ,\n",
       "        0.05249977, 0.07416949, 0.09584975, 0.11653938, 0.14659562,\n",
       "        0.05095263, 0.07104774, 0.10386286, 0.12317634, 0.14601703,\n",
       "        0.04940481, 0.06794877, 0.08744183, 0.11264038, 0.12726445,\n",
       "        0.05954261, 0.0874454 , 0.11750727, 0.15086956, 0.18154035,\n",
       "        0.06851068, 0.09915838, 0.12903252, 0.15790658, 0.19325223,\n",
       "        0.0669507 , 0.10265975, 0.13332834, 0.16220489, 0.19266062]),\n",
       " 'std_fit_time': array([0.00118381, 0.00039346, 0.00096678, 0.00113873, 0.00168512,\n",
       "        0.00395863, 0.00233277, 0.00049019, 0.00038278, 0.0033417 ,\n",
       "        0.0009342 , 0.00194512, 0.00304765, 0.00453373, 0.00142062,\n",
       "        0.00217664, 0.00096894, 0.00313077, 0.00518786, 0.00574756,\n",
       "        0.00078168, 0.00160383, 0.00192482, 0.00672367, 0.00170006,\n",
       "        0.00060016, 0.00180741, 0.0051877 , 0.00469747, 0.01000902,\n",
       "        0.00189333, 0.00144145, 0.00189657, 0.0012988 , 0.00709286,\n",
       "        0.00158848, 0.00335769, 0.00250632, 0.00226714, 0.00418739]),\n",
       " 'mean_score_time': array([0.00412016, 0.00489235, 0.00644531, 0.00703335, 0.00797586,\n",
       "        0.00485406, 0.00566373, 0.00686154, 0.00822253, 0.00975695,\n",
       "        0.00505686, 0.00605421, 0.00781007, 0.00896921, 0.01094394,\n",
       "        0.00546055, 0.00604477, 0.00800104, 0.00916896, 0.01051474,\n",
       "        0.004074  , 0.00508642, 0.00624294, 0.00760155, 0.00819716,\n",
       "        0.00468655, 0.00602703, 0.00721068, 0.00900617, 0.01014538,\n",
       "        0.00506186, 0.00663934, 0.00780029, 0.00937686, 0.01035824,\n",
       "        0.0048872 , 0.00644679, 0.00778947, 0.00917521, 0.01073027]),\n",
       " 'std_score_time': array([4.03323047e-04, 1.71011117e-05, 7.79251693e-04, 3.97340911e-04,\n",
       "        3.88652133e-04, 6.12750510e-04, 7.35174219e-04, 2.13363183e-05,\n",
       "        4.79831056e-04, 6.21864828e-04, 7.43145211e-04, 3.88407221e-04,\n",
       "        4.91720618e-06, 3.77455470e-04, 3.76762959e-04, 1.15020112e-03,\n",
       "        3.92215552e-04, 7.18668543e-04, 4.65089634e-04, 7.26699235e-04,\n",
       "        3.80522942e-04, 3.93091406e-04, 4.86453213e-04, 9.70893914e-04,\n",
       "        4.60124549e-04, 3.89203924e-04, 4.26916928e-04, 4.77754435e-04,\n",
       "        4.00297612e-04, 5.06791124e-04, 3.79857920e-04, 3.67747117e-04,\n",
       "        2.00239815e-05, 4.84429254e-04, 4.73745398e-04, 5.99292226e-04,\n",
       "        4.90111997e-04, 2.52222067e-05, 4.66029634e-04, 2.55194765e-05]),\n",
       " 'param_bootstrap': masked_array(data=[True, True, True, True, True, True, True, True, True,\n",
       "                    True, True, True, True, True, True, True, True, True,\n",
       "                    True, True, False, False, False, False, False, False,\n",
       "                    False, False, False, False, False, False, False, False,\n",
       "                    False, False, False, False, False, False],\n",
       "              mask=[False, False, False, False, False, False, False, False,\n",
       "                    False, False, False, False, False, False, False, False,\n",
       "                    False, False, False, False, False, False, False, False,\n",
       "                    False, False, False, False, False, False, False, False,\n",
       "                    False, False, False, False, False, False, False, False],\n",
       "        fill_value='?',\n",
       "             dtype=object),\n",
       " 'param_max_depth': masked_array(data=[10, 10, 10, 10, 10, 15, 15, 15, 15, 15, 20, 20, 20, 20,\n",
       "                    20, 25, 25, 25, 25, 25, 10, 10, 10, 10, 10, 15, 15, 15,\n",
       "                    15, 15, 20, 20, 20, 20, 20, 25, 25, 25, 25, 25],\n",
       "              mask=[False, False, False, False, False, False, False, False,\n",
       "                    False, False, False, False, False, False, False, False,\n",
       "                    False, False, False, False, False, False, False, False,\n",
       "                    False, False, False, False, False, False, False, False,\n",
       "                    False, False, False, False, False, False, False, False],\n",
       "        fill_value='?',\n",
       "             dtype=object),\n",
       " 'param_n_estimators': masked_array(data=[10, 15, 20, 25, 30, 10, 15, 20, 25, 30, 10, 15, 20, 25,\n",
       "                    30, 10, 15, 20, 25, 30, 10, 15, 20, 25, 30, 10, 15, 20,\n",
       "                    25, 30, 10, 15, 20, 25, 30, 10, 15, 20, 25, 30],\n",
       "              mask=[False, False, False, False, False, False, False, False,\n",
       "                    False, False, False, False, False, False, False, False,\n",
       "                    False, False, False, False, False, False, False, False,\n",
       "                    False, False, False, False, False, False, False, False,\n",
       "                    False, False, False, False, False, False, False, False],\n",
       "        fill_value='?',\n",
       "             dtype=object),\n",
       " 'params': [{'bootstrap': True, 'max_depth': 10, 'n_estimators': 10},\n",
       "  {'bootstrap': True, 'max_depth': 10, 'n_estimators': 15},\n",
       "  {'bootstrap': True, 'max_depth': 10, 'n_estimators': 20},\n",
       "  {'bootstrap': True, 'max_depth': 10, 'n_estimators': 25},\n",
       "  {'bootstrap': True, 'max_depth': 10, 'n_estimators': 30},\n",
       "  {'bootstrap': True, 'max_depth': 15, 'n_estimators': 10},\n",
       "  {'bootstrap': True, 'max_depth': 15, 'n_estimators': 15},\n",
       "  {'bootstrap': True, 'max_depth': 15, 'n_estimators': 20},\n",
       "  {'bootstrap': True, 'max_depth': 15, 'n_estimators': 25},\n",
       "  {'bootstrap': True, 'max_depth': 15, 'n_estimators': 30},\n",
       "  {'bootstrap': True, 'max_depth': 20, 'n_estimators': 10},\n",
       "  {'bootstrap': True, 'max_depth': 20, 'n_estimators': 15},\n",
       "  {'bootstrap': True, 'max_depth': 20, 'n_estimators': 20},\n",
       "  {'bootstrap': True, 'max_depth': 20, 'n_estimators': 25},\n",
       "  {'bootstrap': True, 'max_depth': 20, 'n_estimators': 30},\n",
       "  {'bootstrap': True, 'max_depth': 25, 'n_estimators': 10},\n",
       "  {'bootstrap': True, 'max_depth': 25, 'n_estimators': 15},\n",
       "  {'bootstrap': True, 'max_depth': 25, 'n_estimators': 20},\n",
       "  {'bootstrap': True, 'max_depth': 25, 'n_estimators': 25},\n",
       "  {'bootstrap': True, 'max_depth': 25, 'n_estimators': 30},\n",
       "  {'bootstrap': False, 'max_depth': 10, 'n_estimators': 10},\n",
       "  {'bootstrap': False, 'max_depth': 10, 'n_estimators': 15},\n",
       "  {'bootstrap': False, 'max_depth': 10, 'n_estimators': 20},\n",
       "  {'bootstrap': False, 'max_depth': 10, 'n_estimators': 25},\n",
       "  {'bootstrap': False, 'max_depth': 10, 'n_estimators': 30},\n",
       "  {'bootstrap': False, 'max_depth': 15, 'n_estimators': 10},\n",
       "  {'bootstrap': False, 'max_depth': 15, 'n_estimators': 15},\n",
       "  {'bootstrap': False, 'max_depth': 15, 'n_estimators': 20},\n",
       "  {'bootstrap': False, 'max_depth': 15, 'n_estimators': 25},\n",
       "  {'bootstrap': False, 'max_depth': 15, 'n_estimators': 30},\n",
       "  {'bootstrap': False, 'max_depth': 20, 'n_estimators': 10},\n",
       "  {'bootstrap': False, 'max_depth': 20, 'n_estimators': 15},\n",
       "  {'bootstrap': False, 'max_depth': 20, 'n_estimators': 20},\n",
       "  {'bootstrap': False, 'max_depth': 20, 'n_estimators': 25},\n",
       "  {'bootstrap': False, 'max_depth': 20, 'n_estimators': 30},\n",
       "  {'bootstrap': False, 'max_depth': 25, 'n_estimators': 10},\n",
       "  {'bootstrap': False, 'max_depth': 25, 'n_estimators': 15},\n",
       "  {'bootstrap': False, 'max_depth': 25, 'n_estimators': 20},\n",
       "  {'bootstrap': False, 'max_depth': 25, 'n_estimators': 25},\n",
       "  {'bootstrap': False, 'max_depth': 25, 'n_estimators': 30}],\n",
       " 'split0_test_score': array([0.70635995, 0.71041949, 0.72192152, 0.72192152, 0.72395129,\n",
       "        0.75169147, 0.75101488, 0.77063599, 0.75710419, 0.76522327,\n",
       "        0.73139378, 0.75575101, 0.7564276 , 0.75845737, 0.76657645,\n",
       "        0.74830853, 0.74627876, 0.76184032, 0.77334235, 0.77537212,\n",
       "        0.71244926, 0.72462788, 0.73139378, 0.72868742, 0.73410014,\n",
       "        0.75981055, 0.76928281, 0.76048714, 0.7564276 , 0.76657645,\n",
       "        0.75304465, 0.76184032, 0.75845737, 0.75372124, 0.77131258,\n",
       "        0.75101488, 0.77063599, 0.76657645, 0.7767253 , 0.76048714]),\n",
       " 'split1_test_score': array([0.72308734, 0.72308734, 0.7366283 , 0.72918077, 0.72985782,\n",
       "        0.73256601, 0.75829384, 0.76100203, 0.77386594, 0.76235613,\n",
       "        0.74949221, 0.76235613, 0.76100203, 0.75964794, 0.76980366,\n",
       "        0.74881517, 0.75626269, 0.77657414, 0.75423155, 0.76438727,\n",
       "        0.72579553, 0.718348  , 0.72782668, 0.72918077, 0.72714963,\n",
       "        0.76912661, 0.76303318, 0.77657414, 0.77115775, 0.76912661,\n",
       "        0.76980366, 0.75964794, 0.76100203, 0.76912661, 0.76303318,\n",
       "        0.75626269, 0.76167908, 0.76912661, 0.76100203, 0.75897089]),\n",
       " 'split2_test_score': array([0.71544715, 0.71409214, 0.72086721, 0.71815718, 0.74322493,\n",
       "        0.74457995, 0.76355014, 0.7601626 , 0.76693767, 0.7696477 ,\n",
       "        0.75474255, 0.74390244, 0.75745257, 0.76219512, 0.77168022,\n",
       "        0.74254743, 0.74864499, 0.76626016, 0.76897019, 0.77235772,\n",
       "        0.72493225, 0.73712737, 0.72357724, 0.73373984, 0.73102981,\n",
       "        0.75271003, 0.76626016, 0.76693767, 0.77168022, 0.76355014,\n",
       "        0.75677507, 0.76151762, 0.7696477 , 0.76355014, 0.77100271,\n",
       "        0.76287263, 0.7696477 , 0.76219512, 0.76829268, 0.77235772]),\n",
       " 'split3_test_score': array([0.73170732, 0.74457995, 0.73848238, 0.75067751, 0.75067751,\n",
       "        0.74457995, 0.76151762, 0.77574526, 0.78116531, 0.78252033,\n",
       "        0.75609756, 0.77303523, 0.76219512, 0.7804878 , 0.78184282,\n",
       "        0.75880759, 0.77439024, 0.78590786, 0.78252033, 0.77777778,\n",
       "        0.73509485, 0.73780488, 0.74457995, 0.74051491, 0.74728997,\n",
       "        0.76422764, 0.77642276, 0.78387534, 0.78116531, 0.78252033,\n",
       "        0.75542005, 0.77439024, 0.77303523, 0.78861789, 0.77439024,\n",
       "        0.77303523, 0.76490515, 0.77235772, 0.77303523, 0.78590786]),\n",
       " 'split4_test_score': array([0.72289973, 0.73780488, 0.72628726, 0.72696477, 0.72357724,\n",
       "        0.75338753, 0.76151762, 0.76084011, 0.77235772, 0.77439024,\n",
       "        0.75474255, 0.7601626 , 0.75203252, 0.78184282, 0.76761518,\n",
       "        0.74661247, 0.75948509, 0.77371274, 0.76761518, 0.77371274,\n",
       "        0.72560976, 0.7398374 , 0.72425474, 0.72628726, 0.74051491,\n",
       "        0.75406504, 0.75338753, 0.76422764, 0.76693767, 0.76626016,\n",
       "        0.74186992, 0.75542005, 0.7696477 , 0.77100271, 0.7696477 ,\n",
       "        0.75948509, 0.74864499, 0.76084011, 0.77303523, 0.75609756]),\n",
       " 'mean_test_score': array([0.71989706, 0.72599214, 0.72883652, 0.7293783 , 0.73425437,\n",
       "        0.74536096, 0.75917649, 0.76567791, 0.77028308, 0.77082487,\n",
       "        0.74928891, 0.75904104, 0.75782202, 0.76852228, 0.7715021 ,\n",
       "        0.74901801, 0.75700935, 0.77285656, 0.76933496, 0.77272112,\n",
       "        0.72477313, 0.73154544, 0.73032643, 0.73168089, 0.73601517,\n",
       "        0.75998916, 0.76567791, 0.77041853, 0.7694704 , 0.76960585,\n",
       "        0.75538399, 0.76256264, 0.76635514, 0.76919951, 0.76987674,\n",
       "        0.76053095, 0.76310443, 0.76621969, 0.77041853, 0.76676148]),\n",
       " 'std_test_score': array([0.00850693, 0.01324825, 0.00736988, 0.01132124, 0.01085902,\n",
       "        0.00734149, 0.00441662, 0.0063496 , 0.0080069 , 0.00712694,\n",
       "        0.0092345 , 0.00946495, 0.00360052, 0.01039876, 0.00546244,\n",
       "        0.00536615, 0.00993827, 0.00836411, 0.00917738, 0.0045427 ,\n",
       "        0.00721508, 0.0084989 , 0.00765316, 0.00503084, 0.00713362,\n",
       "        0.00615711, 0.00757285, 0.00857978, 0.00801414, 0.00669294,\n",
       "        0.00892135, 0.00633945, 0.00561027, 0.01141825, 0.00375749,\n",
       "        0.00737201, 0.00792262, 0.00427455, 0.00541689, 0.01105918]),\n",
       " 'rank_test_score': array([40, 38, 37, 36, 32, 30, 23, 17,  7,  4, 28, 24, 25, 13,  3, 29, 26,\n",
       "         1, 11,  2, 39, 34, 35, 33, 31, 22, 17,  5, 10,  9, 27, 20, 15, 12,\n",
       "         8, 21, 19, 16,  5, 14]),\n",
       " 'split0_train_score': array([0.84640135, 0.85165114, 0.85317528, 0.8599492 , 0.86926334,\n",
       "        0.96104996, 0.97341236, 0.97730737, 0.9830652 , 0.9827265 ,\n",
       "        0.98374259, 0.99322608, 0.99644369, 0.99796782, 0.99847587,\n",
       "        0.98882303, 0.99458086, 0.99779848, 0.99898391, 0.99983065,\n",
       "        0.83488569, 0.86672312, 0.86672312, 0.86960203, 0.87502117,\n",
       "        0.98882303, 0.99136325, 0.99508891, 0.99305673, 0.99136325,\n",
       "        1.        , 1.        , 1.        , 0.99983065, 1.        ,\n",
       "        1.        , 1.        , 1.        , 1.        , 1.        ]),\n",
       " 'split1_train_score': array([0.83660684, 0.84422621, 0.85303082, 0.86471385, 0.85303082,\n",
       "        0.96004064, 0.96647477, 0.97477142, 0.97968168, 0.97680325,\n",
       "        0.98408398, 0.99254995, 0.99644429, 0.99813749, 0.99881476,\n",
       "        0.98916356, 0.99542838, 0.99813749, 0.99949204, 0.9991534 ,\n",
       "        0.85506265, 0.86572977, 0.87538097, 0.87978327, 0.86793092,\n",
       "        0.98205215, 0.99085676, 0.99068744, 0.98967152, 0.99119539,\n",
       "        0.99966136, 1.        , 1.        , 1.        , 1.        ,\n",
       "        1.        , 1.        , 1.        , 1.        , 1.        ]),\n",
       " 'split2_train_score': array([0.83748095, 0.85339428, 0.8603352 , 0.86422888, 0.86253597,\n",
       "        0.9619096 , 0.97409853, 0.97731505, 0.98408668, 0.98239377,\n",
       "        0.98628746, 0.99441341, 0.99424412, 0.99746064, 0.9981378 ,\n",
       "        0.98679533, 0.99746064, 0.99746064, 0.99881497, 0.99983071,\n",
       "        0.86253597, 0.86304385, 0.86253597, 0.87286271, 0.86846115,\n",
       "        0.98747249, 0.99221263, 0.98848823, 0.99407483, 0.99305908,\n",
       "        1.        , 1.        , 1.        , 1.        , 1.        ,\n",
       "        1.        , 1.        , 1.        , 1.        , 1.        ]),\n",
       " 'split3_train_score': array([0.84239038, 0.83528018, 0.84899272, 0.84222109, 0.84323684,\n",
       "        0.95666159, 0.97071271, 0.97511427, 0.97748434, 0.98036228,\n",
       "        0.98561029, 0.99255121, 0.99695277, 0.99695277, 0.99915355,\n",
       "        0.98984256, 0.99695277, 0.99779922, 0.99779922, 0.99949213,\n",
       "        0.85491789, 0.86067378, 0.85170137, 0.8547486 , 0.86067378,\n",
       "        0.9873032 , 0.99068901, 0.99119689, 0.99187405, 0.99187405,\n",
       "        0.99915355, 1.        , 0.99983071, 1.        , 1.        ,\n",
       "        1.        , 1.        , 1.        , 1.        , 1.        ]),\n",
       " 'split4_train_score': array([0.84272897, 0.84729981, 0.85813442, 0.85051634, 0.84543762,\n",
       "        0.96275605, 0.96969697, 0.9727442 , 0.97900796, 0.97985441,\n",
       "        0.98798036, 0.99204334, 0.99729135, 0.99746064, 0.99796851,\n",
       "        0.98781107, 0.99424412, 0.99830709, 0.99983071, 0.99915355,\n",
       "        0.85779584, 0.86473675, 0.84543762, 0.85187066, 0.86609108,\n",
       "        0.98628746, 0.98747249, 0.98747249, 0.98798036, 0.98747249,\n",
       "        1.        , 0.99932284, 0.99983071, 1.        , 1.        ,\n",
       "        1.        , 1.        , 1.        , 1.        , 1.        ]),\n",
       " 'mean_train_score': array([0.8411217 , 0.84637032, 0.85473368, 0.85632587, 0.85470092,\n",
       "        0.96048357, 0.97087907, 0.97545046, 0.98066517, 0.98042804,\n",
       "        0.98554094, 0.9929568 , 0.99627524, 0.99759587, 0.9985101 ,\n",
       "        0.98848711, 0.99573335, 0.99790058, 0.99898417, 0.99949209,\n",
       "        0.85303961, 0.86418145, 0.86035581, 0.86577345, 0.86763562,\n",
       "        0.98638767, 0.99051883, 0.99058679, 0.9913315 , 0.99099285,\n",
       "        0.99976298, 0.99986457, 0.99993228, 0.99996613, 1.        ,\n",
       "        1.        , 1.        , 1.        , 1.        , 1.        ]),\n",
       " 'std_train_score': array([3.62509584e-03, 6.41366564e-03, 4.03060725e-03, 8.70217996e-03,\n",
       "        9.93453838e-03, 2.11292522e-03, 2.74245716e-03, 1.72178693e-03,\n",
       "        2.50192458e-03, 2.12694608e-03, 1.54075701e-03, 8.19592629e-04,\n",
       "        1.06526404e-03, 4.19965152e-04, 4.33575585e-04, 1.07021779e-03,\n",
       "        1.27354291e-03, 2.95169185e-04, 6.93872697e-04, 3.02855592e-04,\n",
       "        9.48670709e-03, 2.13371151e-03, 1.06630474e-02, 1.07333632e-02,\n",
       "        4.60799071e-03, 2.31312722e-03, 1.61278299e-03, 2.63644489e-03,\n",
       "        2.22630987e-03, 1.87707113e-03, 3.31744123e-04, 2.70865075e-04,\n",
       "        8.29351530e-05, 6.77392041e-05, 0.00000000e+00, 0.00000000e+00,\n",
       "        0.00000000e+00, 0.00000000e+00, 0.00000000e+00, 0.00000000e+00])}"
      ]
     },
     "execution_count": 151,
     "metadata": {},
     "output_type": "execute_result"
    }
   ],
   "source": [
    "random_forest_model_results[10].cv_results_"
   ]
  },
  {
   "cell_type": "code",
   "execution_count": 152,
   "metadata": {},
   "outputs": [],
   "source": [
    "import pickle\n",
    "# Dump the trained decision tree classifier with Pickle\n",
    "rf_classifier_pkl_filename = 'student_university_random_forest_predict.pickel'\n",
    "standard_scaler_filename = 'standard_scaler_rf_model.pickel'\n",
    "\n",
    "random_forest_classifier_model_pkl = open(rf_classifier_pkl_filename, 'wb')\n",
    "pickle.dump(random_forest_model_results[10], random_forest_classifier_model_pkl)\n",
    "\n",
    "random_forest_classifier_model_pkl.close()\n",
    "\n",
    "sc_rf_classifier_scaler_pkl = open(standard_scaler_filename, 'wb')\n",
    "pickle.dump(random_forest_model_results[11], sc_rf_classifier_scaler_pkl)\n",
    "\n",
    "sc_rf_classifier_scaler_pkl.close()\n",
    "\n",
    "random_forest_classifier_model_pkl = open(rf_classifier_pkl_filename, 'rb')\n",
    "random_forest_classifier_model= pickle.load(random_forest_classifier_model_pkl)\n",
    "random_forest_classifier_model_pkl.close()\n",
    "\n",
    "sc_rf_classifier_scaler_pkl = open(standard_scaler_filename, 'rb')\n",
    "standard_scaler_rf_classifier= pickle.load(sc_rf_classifier_scaler_pkl)\n",
    "sc_rf_classifier_scaler_pkl.close()"
   ]
  },
  {
   "cell_type": "code",
   "execution_count": 153,
   "metadata": {},
   "outputs": [
    {
     "data": {
      "text/plain": [
       "StandardScaler(copy=True, with_mean=True, with_std=True)"
      ]
     },
     "execution_count": 153,
     "metadata": {},
     "output_type": "execute_result"
    }
   ],
   "source": [
    "standard_scaler_rf_classifier"
   ]
  },
  {
   "cell_type": "code",
   "execution_count": 154,
   "metadata": {},
   "outputs": [
    {
     "name": "stderr",
     "output_type": "stream",
     "text": [
      "C:\\Users\\navee\\Anaconda3\\lib\\site-packages\\ipykernel_launcher.py:1: DataConversionWarning: Data with input dtype int64, float64 were all converted to float64 by StandardScaler.\n",
      "  \"\"\"Entry point for launching an IPython kernel.\n"
     ]
    }
   ],
   "source": [
    "predictions=random_forest_classifier_model.predict(standard_scaler_rf_classifier.transform(testing[numerical_features]))"
   ]
  },
  {
   "cell_type": "code",
   "execution_count": 155,
   "metadata": {},
   "outputs": [
    {
     "data": {
      "text/plain": [
       "0.7862657456318569"
      ]
     },
     "execution_count": 155,
     "metadata": {},
     "output_type": "execute_result"
    }
   ],
   "source": [
    "accuracy_score(testing['status'],predictions)"
   ]
  },
  {
   "cell_type": "code",
   "execution_count": 156,
   "metadata": {},
   "outputs": [
    {
     "name": "stdout",
     "output_type": "stream",
     "text": [
      "test_accuracy: 0.5615603413246648\n",
      "train_accuracy: 0.5801164838141677\n",
      "test_f1_score: 0.5993316004455997\n",
      "train_f1_score: 0.6118206862008515\n"
     ]
    },
    {
     "name": "stderr",
     "output_type": "stream",
     "text": [
      "C:\\Users\\navee\\Anaconda3\\lib\\site-packages\\sklearn\\preprocessing\\data.py:625: DataConversionWarning: Data with input dtype int64, float64 were all converted to float64 by StandardScaler.\n",
      "  return self.partial_fit(X, y)\n",
      "C:\\Users\\navee\\Anaconda3\\lib\\site-packages\\ipykernel_launcher.py:4: DataConversionWarning: Data with input dtype int64, float64 were all converted to float64 by StandardScaler.\n",
      "  after removing the cwd from sys.path.\n",
      "C:\\Users\\navee\\Anaconda3\\lib\\site-packages\\ipykernel_launcher.py:5: DataConversionWarning: Data with input dtype int64, float64 were all converted to float64 by StandardScaler.\n",
      "  \"\"\"\n"
     ]
    }
   ],
   "source": [
    "from sklearn.naive_bayes import GaussianNB\n",
    "gnb_model=GaussianNB()\n",
    "\n",
    "gnb_model_results=get_result(gnb_model,training[numerical_features],testing[numerical_features],training['status'],testing['status'])\n",
    "\n",
    "print('test_accuracy:',gnb_model_results[3])\n",
    "print('train_accuracy:',gnb_model_results[2])\n",
    "print('test_f1_score:',gnb_model_results[5])\n",
    "print('train_f1_score:',gnb_model_results[4])"
   ]
  },
  {
   "cell_type": "code",
   "execution_count": 157,
   "metadata": {},
   "outputs": [
    {
     "name": "stderr",
     "output_type": "stream",
     "text": [
      "C:\\Users\\navee\\Anaconda3\\lib\\site-packages\\sklearn\\preprocessing\\data.py:625: DataConversionWarning: Data with input dtype int64, float64 were all converted to float64 by StandardScaler.\n",
      "  return self.partial_fit(X, y)\n",
      "C:\\Users\\navee\\Anaconda3\\lib\\site-packages\\ipykernel_launcher.py:4: DataConversionWarning: Data with input dtype int64, float64 were all converted to float64 by StandardScaler.\n",
      "  after removing the cwd from sys.path.\n",
      "C:\\Users\\navee\\Anaconda3\\lib\\site-packages\\ipykernel_launcher.py:5: DataConversionWarning: Data with input dtype int64, float64 were all converted to float64 by StandardScaler.\n",
      "  \"\"\"\n"
     ]
    },
    {
     "name": "stdout",
     "output_type": "stream",
     "text": [
      "test_accuracy: 0.6529865908167412\n",
      "train_accuracy: 0.7025599349857782\n",
      "test_f1_score: 0.6156615661566157\n",
      "train_f1_score: 0.6736998514115898\n"
     ]
    }
   ],
   "source": [
    "from sklearn.neural_network import MLPClassifier\n",
    "mlp_model=MLPClassifier(max_iter=500,solver='adam')\n",
    "\n",
    "mlp_model_results=get_result(mlp_model,training[numerical_features],testing[numerical_features],training['status'],testing['status'])\n",
    "\n",
    "print('test_accuracy:',mlp_model_results[3])\n",
    "print('train_accuracy:',mlp_model_results[2])\n",
    "print('test_f1_score:',mlp_model_results[5])\n",
    "print('train_f1_score:',mlp_model_results[4])"
   ]
  },
  {
   "cell_type": "code",
   "execution_count": 158,
   "metadata": {},
   "outputs": [
    {
     "name": "stderr",
     "output_type": "stream",
     "text": [
      "C:\\Users\\navee\\Anaconda3\\lib\\site-packages\\sklearn\\preprocessing\\data.py:625: DataConversionWarning: Data with input dtype int64, float64 were all converted to float64 by StandardScaler.\n",
      "  return self.partial_fit(X, y)\n",
      "C:\\Users\\navee\\Anaconda3\\lib\\site-packages\\ipykernel_launcher.py:4: DataConversionWarning: Data with input dtype int64, float64 were all converted to float64 by StandardScaler.\n",
      "  after removing the cwd from sys.path.\n",
      "C:\\Users\\navee\\Anaconda3\\lib\\site-packages\\ipykernel_launcher.py:5: DataConversionWarning: Data with input dtype int64, float64 were all converted to float64 by StandardScaler.\n",
      "  \"\"\"\n"
     ]
    },
    {
     "name": "stdout",
     "output_type": "stream",
     "text": [
      "test_accuracy: 0.7025599349857782\n",
      "train_accuracy: 0.7236895570906136\n",
      "test_f1_score: 0.6822916666666666\n",
      "train_f1_score: 0.7070649052268811\n"
     ]
    }
   ],
   "source": [
    "from xgboost import XGBClassifier\n",
    "xgb_model=XGBClassifier()\n",
    "\n",
    "xgb_model_results=get_result(xgb_model,training[numerical_features],testing[numerical_features],training['status'],testing['status'])\n",
    "\n",
    "print('test_accuracy:',xgb_model_results[3])\n",
    "print('train_accuracy:',xgb_model_results[2])\n",
    "print('test_f1_score:',xgb_model_results[5])\n",
    "print('train_f1_score:',xgb_model_results[4])"
   ]
  },
  {
   "cell_type": "code",
   "execution_count": 159,
   "metadata": {},
   "outputs": [
    {
     "name": "stderr",
     "output_type": "stream",
     "text": [
      "C:\\Users\\navee\\Anaconda3\\lib\\site-packages\\sklearn\\preprocessing\\data.py:625: DataConversionWarning: Data with input dtype int64, float64 were all converted to float64 by StandardScaler.\n",
      "  return self.partial_fit(X, y)\n",
      "C:\\Users\\navee\\Anaconda3\\lib\\site-packages\\ipykernel_launcher.py:4: DataConversionWarning: Data with input dtype int64, float64 were all converted to float64 by StandardScaler.\n",
      "  after removing the cwd from sys.path.\n",
      "C:\\Users\\navee\\Anaconda3\\lib\\site-packages\\ipykernel_launcher.py:5: DataConversionWarning: Data with input dtype int64, float64 were all converted to float64 by StandardScaler.\n",
      "  \"\"\"\n"
     ]
    },
    {
     "name": "stdout",
     "output_type": "stream",
     "text": [
      "test_accuracy: 0.7984559122308005\n",
      "train_accuracy: 1.0\n",
      "test_f1_score: 0.7887563884156729\n",
      "train_f1_score: 1.0\n"
     ]
    }
   ],
   "source": [
    "from sklearn.ensemble import BaggingClassifier\n",
    "from sklearn import tree\n",
    "\n",
    "\n",
    "bagging_model=BaggingClassifier(tree.DecisionTreeClassifier(random_state=1),n_estimators = 100, max_features = 0.8)\n",
    "\n",
    "bagging_model_results=get_result(bagging_model,training[numerical_features],testing[numerical_features],training['status'],testing['status'])\n",
    "\n",
    "print('test_accuracy:',bagging_model_results[3])\n",
    "print('train_accuracy:',bagging_model_results[2])\n",
    "print('test_f1_score:',bagging_model_results[5])\n",
    "print('train_f1_score:',bagging_model_results[4])"
   ]
  },
  {
   "cell_type": "code",
   "execution_count": 160,
   "metadata": {},
   "outputs": [
    {
     "data": {
      "text/plain": [
       "<bound method ClassifierMixin.score of BaggingClassifier(base_estimator=DecisionTreeClassifier(class_weight=None, criterion='gini', max_depth=None,\n",
       "            max_features=None, max_leaf_nodes=None,\n",
       "            min_impurity_decrease=0.0, min_impurity_split=None,\n",
       "            min_samples_leaf=1, min_samples_split=2,\n",
       "            min_weight_fraction_leaf=0.0, presort=False, random_state=1,\n",
       "            splitter='best'),\n",
       "         bootstrap=True, bootstrap_features=False, max_features=0.8,\n",
       "         max_samples=1.0, n_estimators=100, n_jobs=None, oob_score=False,\n",
       "         random_state=None, verbose=0, warm_start=False)>"
      ]
     },
     "execution_count": 160,
     "metadata": {},
     "output_type": "execute_result"
    }
   ],
   "source": [
    "bagging_model_results[10].score"
   ]
  },
  {
   "cell_type": "code",
   "execution_count": 161,
   "metadata": {},
   "outputs": [
    {
     "data": {
      "image/png": "[encoded data removed]",
      "text/plain": [
       "<Figure size 432x288 with 1 Axes>"
      ]
     },
     "metadata": {
      "needs_background": "light"
     },
     "output_type": "display_data"
    },
    {
     "data": {
      "image/png": "[encoded data removed]",
      "text/plain": [
       "<Figure size 144x144 with 2 Axes>"
      ]
     },
     "metadata": {
      "needs_background": "light"
     },
     "output_type": "display_data"
    },
    {
     "data": {
      "image/png": "[encoded data removed]",
      "text/plain": [
       "<Figure size 144x144 with 2 Axes>"
      ]
     },
     "metadata": {
      "needs_background": "light"
     },
     "output_type": "display_data"
    }
   ],
   "source": [
    "generate_cm_roc(bagging_model_results)"
   ]
  },
  {
   "cell_type": "code",
   "execution_count": 162,
   "metadata": {},
   "outputs": [
    {
     "name": "stderr",
     "output_type": "stream",
     "text": [
      "C:\\Users\\navee\\Anaconda3\\lib\\site-packages\\sklearn\\preprocessing\\data.py:625: DataConversionWarning: Data with input dtype int64, float64 were all converted to float64 by StandardScaler.\n",
      "  return self.partial_fit(X, y)\n",
      "C:\\Users\\navee\\Anaconda3\\lib\\site-packages\\ipykernel_launcher.py:4: DataConversionWarning: Data with input dtype int64, float64 were all converted to float64 by StandardScaler.\n",
      "  after removing the cwd from sys.path.\n",
      "C:\\Users\\navee\\Anaconda3\\lib\\site-packages\\ipykernel_launcher.py:5: DataConversionWarning: Data with input dtype int64, float64 were all converted to float64 by StandardScaler.\n",
      "  \"\"\"\n"
     ]
    },
    {
     "name": "stdout",
     "output_type": "stream",
     "text": [
      "test_accuracy: 0.7988622511174319\n",
      "train_accuracy: 0.9978328592712989\n",
      "test_f1_score: 0.7889125799573561\n",
      "train_f1_score: 0.9977697240033454\n"
     ]
    },
    {
     "data": {
      "image/png": "[encoded data removed]",
      "text/plain": [
       "<Figure size 432x288 with 1 Axes>"
      ]
     },
     "metadata": {
      "needs_background": "light"
     },
     "output_type": "display_data"
    },
    {
     "data": {
      "image/png": "[encoded data removed]",
      "text/plain": [
       "<Figure size 144x144 with 2 Axes>"
      ]
     },
     "metadata": {
      "needs_background": "light"
     },
     "output_type": "display_data"
    },
    {
     "data": {
      "image/png": "[encoded data removed]",
      "text/plain": [
       "<Figure size 144x144 with 2 Axes>"
      ]
     },
     "metadata": {
      "needs_background": "light"
     },
     "output_type": "display_data"
    }
   ],
   "source": [
    "\n",
    "param_grid = {\"base_estimator__max_depth\" : [30,40,50],\n",
    "              \"max_samples\" : [0.05, 0.1, 0.2,0.5,0.75,0.8,1]\n",
    "             }\n",
    "clf = GridSearchCV(bagging_model_results[10],param_grid,cv=5,return_train_score=True)\n",
    "\n",
    "#tree.DecisionTreeClassifier(),n_estimators = 100, max_features = 0.8\n",
    "bagging_model_results=get_result(clf,training[numerical_features],testing[numerical_features],training['status'],testing['status'])\n",
    "\n",
    "print('test_accuracy:',bagging_model_results[3])\n",
    "print('train_accuracy:',bagging_model_results[2])\n",
    "print('test_f1_score:',bagging_model_results[5])\n",
    "print('train_f1_score:',bagging_model_results[4])\n",
    "generate_cm_roc(bagging_model_results)"
   ]
  },
  {
   "cell_type": "code",
   "execution_count": 163,
   "metadata": {},
   "outputs": [
    {
     "data": {
      "text/plain": [
       "{'mean_fit_time': array([0.15987315, 0.21044478, 0.33866568, 0.64281821, 0.8112555 ,\n",
       "        0.83976521, 0.09232402, 0.14699478, 0.2112134 , 0.33241043,\n",
       "        0.64591589, 0.82375431, 0.84658084, 0.08864665, 0.14953527,\n",
       "        0.21237569, 0.32735524, 0.61373448, 0.81496077, 0.85614815,\n",
       "        0.08861375]),\n",
       " 'std_fit_time': array([0.00654322, 0.00502258, 0.01606801, 0.02669181, 0.01416529,\n",
       "        0.01229359, 0.00132227, 0.00146347, 0.00680132, 0.01140434,\n",
       "        0.02532259, 0.0107407 , 0.00948596, 0.00158019, 0.00225968,\n",
       "        0.00339983, 0.00625727, 0.01108417, 0.01045753, 0.02362336,\n",
       "        0.00156536]),\n",
       " 'mean_score_time': array([0.02536006, 0.02498159, 0.02830696, 0.03162446, 0.03182158,\n",
       "        0.03219399, 0.01504421, 0.02360778, 0.02538314, 0.02831354,\n",
       "        0.03161721, 0.03259029, 0.03161759, 0.01503205, 0.02380528,\n",
       "        0.02499456, 0.02771535, 0.03082566, 0.03240333, 0.03416891,\n",
       "        0.01425648]),\n",
       " 'std_score_time': array([1.06930493e-03, 1.32577467e-03, 6.21563903e-04, 7.84564024e-04,\n",
       "        1.00805294e-03, 1.72524138e-05, 4.66753240e-04, 3.85347428e-04,\n",
       "        5.95693991e-04, 8.73625701e-04, 1.45759483e-03, 1.46350681e-03,\n",
       "        4.82502810e-04, 4.76491541e-04, 7.62152946e-04, 4.80416866e-04,\n",
       "        4.79956926e-04, 1.17955051e-03, 7.30397418e-04, 4.45157378e-03,\n",
       "        4.63231335e-04]),\n",
       " 'param_base_estimator__max_depth': masked_array(data=[30, 30, 30, 30, 30, 30, 30, 40, 40, 40, 40, 40, 40, 40,\n",
       "                    50, 50, 50, 50, 50, 50, 50],\n",
       "              mask=[False, False, False, False, False, False, False, False,\n",
       "                    False, False, False, False, False, False, False, False,\n",
       "                    False, False, False, False, False],\n",
       "        fill_value='?',\n",
       "             dtype=object),\n",
       " 'param_max_samples': masked_array(data=[0.05, 0.1, 0.2, 0.5, 0.75, 0.8, 1, 0.05, 0.1, 0.2, 0.5,\n",
       "                    0.75, 0.8, 1, 0.05, 0.1, 0.2, 0.5, 0.75, 0.8, 1],\n",
       "              mask=[False, False, False, False, False, False, False, False,\n",
       "                    False, False, False, False, False, False, False, False,\n",
       "                    False, False, False, False, False],\n",
       "        fill_value='?',\n",
       "             dtype=object),\n",
       " 'params': [{'base_estimator__max_depth': 30, 'max_samples': 0.05},\n",
       "  {'base_estimator__max_depth': 30, 'max_samples': 0.1},\n",
       "  {'base_estimator__max_depth': 30, 'max_samples': 0.2},\n",
       "  {'base_estimator__max_depth': 30, 'max_samples': 0.5},\n",
       "  {'base_estimator__max_depth': 30, 'max_samples': 0.75},\n",
       "  {'base_estimator__max_depth': 30, 'max_samples': 0.8},\n",
       "  {'base_estimator__max_depth': 30, 'max_samples': 1},\n",
       "  {'base_estimator__max_depth': 40, 'max_samples': 0.05},\n",
       "  {'base_estimator__max_depth': 40, 'max_samples': 0.1},\n",
       "  {'base_estimator__max_depth': 40, 'max_samples': 0.2},\n",
       "  {'base_estimator__max_depth': 40, 'max_samples': 0.5},\n",
       "  {'base_estimator__max_depth': 40, 'max_samples': 0.75},\n",
       "  {'base_estimator__max_depth': 40, 'max_samples': 0.8},\n",
       "  {'base_estimator__max_depth': 40, 'max_samples': 1},\n",
       "  {'base_estimator__max_depth': 50, 'max_samples': 0.05},\n",
       "  {'base_estimator__max_depth': 50, 'max_samples': 0.1},\n",
       "  {'base_estimator__max_depth': 50, 'max_samples': 0.2},\n",
       "  {'base_estimator__max_depth': 50, 'max_samples': 0.5},\n",
       "  {'base_estimator__max_depth': 50, 'max_samples': 0.75},\n",
       "  {'base_estimator__max_depth': 50, 'max_samples': 0.8},\n",
       "  {'base_estimator__max_depth': 50, 'max_samples': 1}],\n",
       " 'split0_test_score': array([0.67185386, 0.71447903, 0.75372124, 0.75575101, 0.76792963,\n",
       "        0.78416779, 0.5135318 , 0.68673884, 0.71583221, 0.73545332,\n",
       "        0.77943166, 0.77943166, 0.77063599, 0.5135318 , 0.66847091,\n",
       "        0.71312585, 0.75304465, 0.77469553, 0.77131258, 0.77131258,\n",
       "        0.5135318 ]),\n",
       " 'split1_test_score': array([0.69803656, 0.72173324, 0.77115775, 0.78537576, 0.79823968,\n",
       "        0.79079215, 0.48679756, 0.68043331, 0.72241029, 0.77386594,\n",
       "        0.78131347, 0.78334462, 0.78469871, 0.51320244, 0.67704807,\n",
       "        0.72850372, 0.76167908, 0.77589709, 0.79214624, 0.7901151 ,\n",
       "        0.51320244]),\n",
       " 'split2_test_score': array([0.68360434, 0.73441734, 0.7703252 , 0.78319783, 0.79132791,\n",
       "        0.78455285, 0.48644986, 0.69647696, 0.7398374 , 0.77303523,\n",
       "        0.78523035, 0.80149051, 0.80149051, 0.51355014, 0.70189702,\n",
       "        0.73848238, 0.77642276, 0.79810298, 0.79403794, 0.79336043,\n",
       "        0.48644986]),\n",
       " 'split3_test_score': array([0.71138211, 0.75      , 0.76219512, 0.77777778, 0.7804878 ,\n",
       "        0.77371274, 0.48644986, 0.70799458, 0.73577236, 0.76897019,\n",
       "        0.78455285, 0.78726287, 0.78794038, 0.48644986, 0.7201897 ,\n",
       "        0.75135501, 0.76829268, 0.7798103 , 0.78252033, 0.77845528,\n",
       "        0.51355014]),\n",
       " 'split4_test_score': array([0.67208672, 0.73102981, 0.76355014, 0.77506775, 0.77913279,\n",
       "        0.77777778, 0.48644986, 0.69783198, 0.71205962, 0.76761518,\n",
       "        0.7798103 , 0.76693767, 0.77235772, 0.51355014, 0.68089431,\n",
       "        0.73238482, 0.76897019, 0.78387534, 0.77303523, 0.78116531,\n",
       "        0.48644986]),\n",
       " 'mean_test_score': array([0.68738995, 0.73032643, 0.764188  , 0.77543004, 0.78342137,\n",
       "        0.78220236, 0.49194095, 0.69389137, 0.72517947, 0.76378166,\n",
       "        0.78206691, 0.78369227, 0.78342137, 0.50805905, 0.68969254,\n",
       "        0.73276446, 0.76567791, 0.78247325, 0.7826087 , 0.78287959,\n",
       "        0.5026412 ]),\n",
       " 'std_test_score': array([0.01535441, 0.01207772, 0.00632889, 0.01051219, 0.01048177,\n",
       "        0.00591282, 0.01080266, 0.00952261, 0.01090061, 0.01436781,\n",
       "        0.00239958, 0.01120969, 0.01126394, 0.01080266, 0.01879721,\n",
       "        0.01250994, 0.007859  , 0.00845045, 0.00939052, 0.00798244,\n",
       "        0.01321628]),\n",
       " 'rank_test_score': array([18, 14, 11,  9,  2,  7, 21, 16, 15, 12,  8,  1,  2, 19, 17, 13, 10,\n",
       "         6,  5,  4, 20]),\n",
       " 'split0_train_score': array([0.75884843, 0.83539373, 0.90685859, 0.98882303, 0.99830652,\n",
       "        0.9996613 , 0.51346317, 0.76240474, 0.83640982, 0.91092295,\n",
       "        0.99000847, 0.99864522, 0.99949196, 0.51346317, 0.76003387,\n",
       "        0.82760373, 0.91312447, 0.98983912, 0.99898391, 0.9996613 ,\n",
       "        0.51346317]),\n",
       " 'split1_train_score': array([0.76159837, 0.83609888, 0.90907552, 0.98679309, 0.99881476,\n",
       "        0.99966136, 0.48645445, 0.76600068, 0.83034203, 0.91212326,\n",
       "        0.98899424, 0.99966136, 0.99949204, 0.51354555, 0.75787335,\n",
       "        0.82847951, 0.90839824, 0.98679309, 0.99864545, 0.99898408,\n",
       "        0.51354555]),\n",
       " 'split2_train_score': array([0.75012697, 0.82969358, 0.90790587, 0.98967327, 0.99966142,\n",
       "        0.99932284, 0.48654139, 0.7623159 , 0.83274082, 0.91095311,\n",
       "        0.98933469, 0.99932284, 0.99966142, 0.51345861, 0.75689859,\n",
       "        0.83206365, 0.90621297, 0.99170476, 0.99966142, 0.99932284,\n",
       "        0.48654139]),\n",
       " 'split3_train_score': array([0.76214661, 0.83511089, 0.91179956, 0.98848823, 0.99864567,\n",
       "        0.99915355, 0.48654139, 0.76367022, 0.83392585, 0.91179956,\n",
       "        0.9908583 , 0.99932284, 1.        , 0.48654139, 0.7640088 ,\n",
       "        0.83748095, 0.91670899, 0.9908583 , 0.99983071, 0.99966142,\n",
       "        0.51345861]),\n",
       " 'split4_train_score': array([0.7496191 , 0.82749281, 0.91349247, 0.98967327, 0.99898426,\n",
       "        0.99966142, 0.48654139, 0.76282377, 0.83274082, 0.91433892,\n",
       "        0.98984256, 0.99966142, 0.99898426, 0.51345861, 0.7585915 ,\n",
       "        0.8330794 , 0.91078382, 0.98933469, 0.99932284, 0.99966142,\n",
       "        0.48654139]),\n",
       " 'mean_train_score': array([0.7564679 , 0.83275798, 0.9098264 , 0.98869018, 0.99888253,\n",
       "        0.99949209, 0.49190836, 0.76344306, 0.83323187, 0.91202756,\n",
       "        0.98980765, 0.99932273, 0.99952593, 0.50809346, 0.75948122,\n",
       "        0.83174145, 0.9110457 , 0.98970599, 0.99928886, 0.99945821,\n",
       "        0.50271002]),\n",
       " 'std_train_score': array([0.00550182, 0.0034859 , 0.0024655 , 0.00105738, 0.00044933,\n",
       "        0.00021411, 0.01077746, 0.00136566, 0.00197051, 0.00124725,\n",
       "        0.0006373 , 0.00037105, 0.00032827, 0.01077609, 0.002484  ,\n",
       "        0.00353827, 0.00365587, 0.00167114, 0.00043371, 0.00027091,\n",
       "        0.01320167])}"
      ]
     },
     "execution_count": 163,
     "metadata": {},
     "output_type": "execute_result"
    }
   ],
   "source": [
    "bagging_model_results[10].cv_results_"
   ]
  },
  {
   "cell_type": "code",
   "execution_count": 164,
   "metadata": {},
   "outputs": [
    {
     "data": {
      "text/plain": [
       "0.7836922660165244"
      ]
     },
     "execution_count": 164,
     "metadata": {},
     "output_type": "execute_result"
    }
   ],
   "source": [
    "bagging_model_results[10].best_score_"
   ]
  },
  {
   "cell_type": "code",
   "execution_count": 165,
   "metadata": {
    "scrolled": true
   },
   "outputs": [
    {
     "name": "stderr",
     "output_type": "stream",
     "text": [
      "C:\\Users\\navee\\Anaconda3\\lib\\site-packages\\ipykernel_launcher.py:1: DataConversionWarning: Data with input dtype int64, float64 were all converted to float64 by StandardScaler.\n",
      "  \"\"\"Entry point for launching an IPython kernel.\n"
     ]
    },
    {
     "data": {
      "text/plain": [
       "0.7988622511174319"
      ]
     },
     "execution_count": 165,
     "metadata": {},
     "output_type": "execute_result"
    }
   ],
   "source": [
    "predictions=bagging_model_results[10].best_estimator_.predict(bagging_model_results[11].transform(testing[numerical_features]))\n",
    "accuracy_score(testing['status'],predictions)"
   ]
  },
  {
   "cell_type": "code",
   "execution_count": 166,
   "metadata": {},
   "outputs": [
    {
     "data": {
      "text/plain": [
       "{'base_estimator__max_depth': 40, 'max_samples': 0.75}"
      ]
     },
     "execution_count": 166,
     "metadata": {},
     "output_type": "execute_result"
    }
   ],
   "source": [
    "bagging_model_results[10].best_params_"
   ]
  },
  {
   "cell_type": "code",
   "execution_count": 167,
   "metadata": {},
   "outputs": [],
   "source": [
    "import pickle\n",
    "# Dump the trained decision tree classifier with Pickle\n",
    "bagging_classifier_pkl_filename = 'student_university_bagging_classifier_predict.pickel'\n",
    "standard_scaler_filename = 'standard_scaler_bagging_model.pickel'\n",
    "\n",
    "bagging_classifier_model_pkl = open(bagging_classifier_pkl_filename, 'wb')\n",
    "pickle.dump(bagging_model_results[10], bagging_classifier_model_pkl)\n",
    "\n",
    "bagging_classifier_model_pkl.close()\n",
    "\n",
    "sc_bagging_classifier_scaler_pkl = open(standard_scaler_filename, 'wb')\n",
    "pickle.dump(bagging_model_results[11], sc_bagging_classifier_scaler_pkl)\n",
    "\n",
    "sc_bagging_classifier_scaler_pkl.close()\n",
    "\n",
    "bagging_classifier_model_pkl = open(bagging_classifier_pkl_filename, 'rb')\n",
    "bagging_classifier_model= pickle.load(bagging_classifier_model_pkl)\n",
    "bagging_classifier_model_pkl.close()\n",
    "\n",
    "sc_bagging_classifier_scaler_pkl = open(standard_scaler_filename, 'rb')\n",
    "standard_scaler_bagging_classifier= pickle.load(sc_bagging_classifier_scaler_pkl)\n",
    "sc_bagging_classifier_scaler_pkl.close()"
   ]
  },
  {
   "cell_type": "code",
   "execution_count": 168,
   "metadata": {},
   "outputs": [
    {
     "data": {
      "text/plain": [
       "StandardScaler(copy=True, with_mean=True, with_std=True)"
      ]
     },
     "execution_count": 168,
     "metadata": {},
     "output_type": "execute_result"
    }
   ],
   "source": [
    "standard_scaler_bagging_classifier"
   ]
  },
  {
   "cell_type": "code",
   "execution_count": 169,
   "metadata": {},
   "outputs": [
    {
     "name": "stderr",
     "output_type": "stream",
     "text": [
      "C:\\Users\\navee\\Anaconda3\\lib\\site-packages\\ipykernel_launcher.py:1: DataConversionWarning: Data with input dtype int64, float64 were all converted to float64 by StandardScaler.\n",
      "  \"\"\"Entry point for launching an IPython kernel.\n"
     ]
    }
   ],
   "source": [
    "predictions=bagging_classifier_model.predict(standard_scaler_bagging_classifier.transform(testing[numerical_features]))"
   ]
  },
  {
   "cell_type": "code",
   "execution_count": 170,
   "metadata": {},
   "outputs": [
    {
     "data": {
      "text/plain": [
       "0.7988622511174319"
      ]
     },
     "execution_count": 170,
     "metadata": {},
     "output_type": "execute_result"
    }
   ],
   "source": [
    "accuracy_score(testing['status'],predictions)"
   ]
  },
  {
   "cell_type": "code",
   "execution_count": 171,
   "metadata": {},
   "outputs": [
    {
     "data": {
      "text/plain": [
       "array(['accept', 'reject'], dtype=object)"
      ]
     },
     "execution_count": 171,
     "metadata": {},
     "output_type": "execute_result"
    }
   ],
   "source": [
    "bagging_classifier_model.classes_"
   ]
  },
  {
   "cell_type": "code",
   "execution_count": 172,
   "metadata": {},
   "outputs": [
    {
     "name": "stderr",
     "output_type": "stream",
     "text": [
      "C:\\Users\\navee\\Anaconda3\\lib\\site-packages\\sklearn\\preprocessing\\data.py:625: DataConversionWarning: Data with input dtype int64, float64 were all converted to float64 by StandardScaler.\n",
      "  return self.partial_fit(X, y)\n",
      "C:\\Users\\navee\\Anaconda3\\lib\\site-packages\\ipykernel_launcher.py:4: DataConversionWarning: Data with input dtype int64, float64 were all converted to float64 by StandardScaler.\n",
      "  after removing the cwd from sys.path.\n",
      "C:\\Users\\navee\\Anaconda3\\lib\\site-packages\\ipykernel_launcher.py:5: DataConversionWarning: Data with input dtype int64, float64 were all converted to float64 by StandardScaler.\n",
      "  \"\"\"\n"
     ]
    }
   ],
   "source": [
    "from sklearn.neighbors import KNeighborsClassifier\n",
    "knn_clf =BaggingClassifier(KNeighborsClassifier(),n_estimators = 100, max_features = 0.8)\n",
    "\n",
    "bagging_model_results1=get_result(knn_clf,training[numerical_features],testing[numerical_features],training['status'],testing['status'])\n"
   ]
  },
  {
   "cell_type": "code",
   "execution_count": 173,
   "metadata": {
    "scrolled": true
   },
   "outputs": [
    {
     "name": "stdout",
     "output_type": "stream",
     "text": [
      "test_accuracy: 0.7232832182039821\n",
      "train_accuracy: 0.8756603006907762\n",
      "test_f1_score: 0.711073398387781\n",
      "train_f1_score: 0.8702290076335877\n"
     ]
    },
    {
     "data": {
      "image/png": "[encoded data removed]",
      "text/plain": [
       "<Figure size 432x288 with 1 Axes>"
      ]
     },
     "metadata": {
      "needs_background": "light"
     },
     "output_type": "display_data"
    },
    {
     "data": {
      "image/png": "[encoded data removed]",
      "text/plain": [
       "<Figure size 144x144 with 2 Axes>"
      ]
     },
     "metadata": {
      "needs_background": "light"
     },
     "output_type": "display_data"
    },
    {
     "data": {
      "image/png": "[encoded data removed]",
      "text/plain": [
       "<Figure size 144x144 with 2 Axes>"
      ]
     },
     "metadata": {
      "needs_background": "light"
     },
     "output_type": "display_data"
    }
   ],
   "source": [
    "print('test_accuracy:',bagging_model_results1[3])\n",
    "print('train_accuracy:',bagging_model_results1[2])\n",
    "print('test_f1_score:',bagging_model_results1[5])\n",
    "print('train_f1_score:',bagging_model_results1[4])\n",
    "generate_cm_roc(bagging_model_results1)"
   ]
  },
  {
   "cell_type": "code",
   "execution_count": 174,
   "metadata": {
    "scrolled": true
   },
   "outputs": [
    {
     "name": "stderr",
     "output_type": "stream",
     "text": [
      "C:\\Users\\navee\\Anaconda3\\lib\\site-packages\\sklearn\\preprocessing\\data.py:625: DataConversionWarning: Data with input dtype int64, float64 were all converted to float64 by StandardScaler.\n",
      "  return self.partial_fit(X, y)\n",
      "C:\\Users\\navee\\Anaconda3\\lib\\site-packages\\ipykernel_launcher.py:4: DataConversionWarning: Data with input dtype int64, float64 were all converted to float64 by StandardScaler.\n",
      "  after removing the cwd from sys.path.\n",
      "C:\\Users\\navee\\Anaconda3\\lib\\site-packages\\ipykernel_launcher.py:5: DataConversionWarning: Data with input dtype int64, float64 were all converted to float64 by StandardScaler.\n",
      "  \"\"\"\n"
     ]
    },
    {
     "name": "stdout",
     "output_type": "stream",
     "text": [
      "test_accuracy: 0.7419748069890288\n",
      "train_accuracy: 0.9387782744141948\n",
      "test_f1_score: 0.7310461668784413\n",
      "train_f1_score: 0.9366769403194172\n"
     ]
    },
    {
     "data": {
      "image/png": "[encoded data removed]",
      "text/plain": [
       "<Figure size 432x288 with 1 Axes>"
      ]
     },
     "metadata": {
      "needs_background": "light"
     },
     "output_type": "display_data"
    },
    {
     "data": {
      "image/png": "[encoded data removed]",
      "text/plain": [
       "<Figure size 144x144 with 2 Axes>"
      ]
     },
     "metadata": {
      "needs_background": "light"
     },
     "output_type": "display_data"
    },
    {
     "data": {
      "image/png": "[encoded data removed]",
      "text/plain": [
       "<Figure size 144x144 with 2 Axes>"
      ]
     },
     "metadata": {
      "needs_background": "light"
     },
     "output_type": "display_data"
    }
   ],
   "source": [
    "from sklearn.model_selection import GridSearchCV\n",
    "param_grid = {'base_estimator__n_neighbors' : [3,5,7]}\n",
    "knn_clf = GridSearchCV(BaggingClassifier(KNeighborsClassifier(),n_estimators = 100, max_features = 0.8),param_grid,cv=5)\n",
    "\n",
    "bagging_model_results1=get_result(knn_clf,training[numerical_features],testing[numerical_features],training['status'],testing['status'])\n",
    "\n",
    "print('test_accuracy:',bagging_model_results1[3])\n",
    "print('train_accuracy:',bagging_model_results1[2])\n",
    "print('test_f1_score:',bagging_model_results1[5])\n",
    "print('train_f1_score:',bagging_model_results1[4])\n",
    "generate_cm_roc(bagging_model_results1)"
   ]
  },
  {
   "cell_type": "code",
   "execution_count": 175,
   "metadata": {},
   "outputs": [
    {
     "data": {
      "text/plain": [
       "0.7177299200866857"
      ]
     },
     "execution_count": 175,
     "metadata": {},
     "output_type": "execute_result"
    }
   ],
   "source": [
    "bagging_model_results1[10].best_score_"
   ]
  },
  {
   "cell_type": "code",
   "execution_count": 176,
   "metadata": {},
   "outputs": [
    {
     "data": {
      "text/plain": [
       "{'base_estimator__n_neighbors': 3}"
      ]
     },
     "execution_count": 176,
     "metadata": {},
     "output_type": "execute_result"
    }
   ],
   "source": [
    "bagging_model_results1[10].best_params_"
   ]
  },
  {
   "cell_type": "code",
   "execution_count": null,
   "metadata": {},
   "outputs": [],
   "source": []
  },
  {
   "cell_type": "code",
   "execution_count": 177,
   "metadata": {},
   "outputs": [],
   "source": [
    "import pickle\n",
    "# Dump the trained decision tree classifier with Pickle\n",
    "bagging_classifier_kNN_pkl_filename = 'student_university_kNN_bagging_classifier_predict.pickel'\n",
    "standard_scaler_kNN_filename = 'standard_scaler_kNN_bagging_model.pickel'\n",
    "\n",
    "bagging_classifier_model_pkl = open(bagging_classifier_kNN_pkl_filename, 'wb')\n",
    "pickle.dump(bagging_model_results1[10], bagging_classifier_model_pkl)\n",
    "\n",
    "bagging_classifier_model_pkl.close()\n",
    "\n",
    "sc_bagging_classifier_scaler_pkl = open(standard_scaler_kNN_filename, 'wb')\n",
    "pickle.dump(bagging_model_results1[11], sc_bagging_classifier_scaler_pkl)\n",
    "\n",
    "sc_bagging_classifier_scaler_pkl.close()\n",
    "\n",
    "bagging_classifier_model_pkl = open(bagging_classifier_kNN_pkl_filename, 'rb')\n",
    "bagging_classifier_model= pickle.load(bagging_classifier_model_pkl)\n",
    "bagging_classifier_model_pkl.close()\n",
    "\n",
    "sc_bagging_classifier_scaler_pkl = open(standard_scaler_kNN_filename, 'rb')\n",
    "standard_scaler_bagging_classifier= pickle.load(sc_bagging_classifier_scaler_pkl)\n",
    "sc_bagging_classifier_scaler_pkl.close()"
   ]
  },
  {
   "cell_type": "code",
   "execution_count": 178,
   "metadata": {},
   "outputs": [
    {
     "data": {
      "text/plain": [
       "StandardScaler(copy=True, with_mean=True, with_std=True)"
      ]
     },
     "execution_count": 178,
     "metadata": {},
     "output_type": "execute_result"
    }
   ],
   "source": [
    "standard_scaler_bagging_classifier"
   ]
  },
  {
   "cell_type": "code",
   "execution_count": 179,
   "metadata": {},
   "outputs": [
    {
     "name": "stderr",
     "output_type": "stream",
     "text": [
      "C:\\Users\\navee\\Anaconda3\\lib\\site-packages\\ipykernel_launcher.py:1: DataConversionWarning: Data with input dtype int64, float64 were all converted to float64 by StandardScaler.\n",
      "  \"\"\"Entry point for launching an IPython kernel.\n"
     ]
    },
    {
     "data": {
      "text/plain": [
       "0.7419748069890288"
      ]
     },
     "execution_count": 179,
     "metadata": {},
     "output_type": "execute_result"
    }
   ],
   "source": [
    "predictions=bagging_classifier_model.predict(standard_scaler_bagging_classifier.transform(testing[numerical_features]))\n",
    "accuracy_score(testing['status'],predictions)"
   ]
  },
  {
   "cell_type": "code",
   "execution_count": 180,
   "metadata": {},
   "outputs": [],
   "source": [
    "All_Model_results=pd.DataFrame()\n",
    "All_Model_results[\"Model\"]=model_name\n",
    "All_Model_results['Train Accuracy']=model_train_acc\n",
    "All_Model_results['Test Accuracy']=model_test_accuracy\n",
    "All_Model_results['Train F1 score']=model_train_f1\n",
    "All_Model_results['Test F1 score']=model_test_f1"
   ]
  },
  {
   "cell_type": "code",
   "execution_count": 185,
   "metadata": {},
   "outputs": [
    {
     "data": {
      "text/html": [
       "<div>\n",
       "<style scoped>\n",
       "    .dataframe tbody tr th:only-of-type {\n",
       "        vertical-align: middle;\n",
       "    }\n",
       "\n",
       "    .dataframe tbody tr th {\n",
       "        vertical-align: top;\n",
       "    }\n",
       "\n",
       "    .dataframe thead th {\n",
       "        text-align: right;\n",
       "    }\n",
       "</style>\n",
       "<table border=\"1\" class=\"dataframe\">\n",
       "  <thead>\n",
       "    <tr style=\"text-align: right;\">\n",
       "      <th></th>\n",
       "      <th>Model</th>\n",
       "      <th>Train Accuracy</th>\n",
       "      <th>Test Accuracy</th>\n",
       "      <th>Train F1 score</th>\n",
       "      <th>Test F1 score</th>\n",
       "    </tr>\n",
       "  </thead>\n",
       "  <tbody>\n",
       "    <tr>\n",
       "      <th>0</th>\n",
       "      <td>SVC(C=1.0, cache_size=200, class_weight=None, ...</td>\n",
       "      <td>0.665583</td>\n",
       "      <td>0.639577</td>\n",
       "      <td>0.621957</td>\n",
       "      <td>0.591809</td>\n",
       "    </tr>\n",
       "    <tr>\n",
       "      <th>1</th>\n",
       "      <td>DecisionTreeClassifier(class_weight=None, crit...</td>\n",
       "      <td>1.000000</td>\n",
       "      <td>0.751321</td>\n",
       "      <td>1.000000</td>\n",
       "      <td>0.743289</td>\n",
       "    </tr>\n",
       "    <tr>\n",
       "      <th>2</th>\n",
       "      <td>(DecisionTreeClassifier(class_weight=None, cri...</td>\n",
       "      <td>0.990112</td>\n",
       "      <td>0.769606</td>\n",
       "      <td>0.989907</td>\n",
       "      <td>0.768854</td>\n",
       "    </tr>\n",
       "    <tr>\n",
       "      <th>3</th>\n",
       "      <td>GridSearchCV(cv=5, error_score='raise-deprecat...</td>\n",
       "      <td>0.997427</td>\n",
       "      <td>0.786266</td>\n",
       "      <td>0.997355</td>\n",
       "      <td>0.776361</td>\n",
       "    </tr>\n",
       "    <tr>\n",
       "      <th>4</th>\n",
       "      <td>GaussianNB(priors=None, var_smoothing=1e-09)</td>\n",
       "      <td>0.580116</td>\n",
       "      <td>0.561560</td>\n",
       "      <td>0.611821</td>\n",
       "      <td>0.599332</td>\n",
       "    </tr>\n",
       "    <tr>\n",
       "      <th>5</th>\n",
       "      <td>MLPClassifier(activation='relu', alpha=0.0001,...</td>\n",
       "      <td>0.702560</td>\n",
       "      <td>0.652987</td>\n",
       "      <td>0.673700</td>\n",
       "      <td>0.615662</td>\n",
       "    </tr>\n",
       "    <tr>\n",
       "      <th>6</th>\n",
       "      <td>XGBClassifier(base_score=0.5, booster='gbtree'...</td>\n",
       "      <td>0.723690</td>\n",
       "      <td>0.702560</td>\n",
       "      <td>0.707065</td>\n",
       "      <td>0.682292</td>\n",
       "    </tr>\n",
       "    <tr>\n",
       "      <th>7</th>\n",
       "      <td>(DecisionTreeClassifier(class_weight=None, cri...</td>\n",
       "      <td>1.000000</td>\n",
       "      <td>0.798456</td>\n",
       "      <td>1.000000</td>\n",
       "      <td>0.788756</td>\n",
       "    </tr>\n",
       "    <tr>\n",
       "      <th>8</th>\n",
       "      <td>GridSearchCV(cv=5, error_score='raise-deprecat...</td>\n",
       "      <td>0.997833</td>\n",
       "      <td>0.798862</td>\n",
       "      <td>0.997770</td>\n",
       "      <td>0.788913</td>\n",
       "    </tr>\n",
       "    <tr>\n",
       "      <th>9</th>\n",
       "      <td>(KNeighborsClassifier(algorithm='auto', leaf_s...</td>\n",
       "      <td>0.875660</td>\n",
       "      <td>0.723283</td>\n",
       "      <td>0.870229</td>\n",
       "      <td>0.711073</td>\n",
       "    </tr>\n",
       "    <tr>\n",
       "      <th>10</th>\n",
       "      <td>GridSearchCV(cv=5, error_score='raise-deprecat...</td>\n",
       "      <td>0.938778</td>\n",
       "      <td>0.741975</td>\n",
       "      <td>0.936677</td>\n",
       "      <td>0.731046</td>\n",
       "    </tr>\n",
       "  </tbody>\n",
       "</table>\n",
       "</div>"
      ],
      "text/plain": [
       "                                                Model  Train Accuracy  \\\n",
       "0   SVC(C=1.0, cache_size=200, class_weight=None, ...        0.665583   \n",
       "1   DecisionTreeClassifier(class_weight=None, crit...        1.000000   \n",
       "2   (DecisionTreeClassifier(class_weight=None, cri...        0.990112   \n",
       "3   GridSearchCV(cv=5, error_score='raise-deprecat...        0.997427   \n",
       "4        GaussianNB(priors=None, var_smoothing=1e-09)        0.580116   \n",
       "5   MLPClassifier(activation='relu', alpha=0.0001,...        0.702560   \n",
       "6   XGBClassifier(base_score=0.5, booster='gbtree'...        0.723690   \n",
       "7   (DecisionTreeClassifier(class_weight=None, cri...        1.000000   \n",
       "8   GridSearchCV(cv=5, error_score='raise-deprecat...        0.997833   \n",
       "9   (KNeighborsClassifier(algorithm='auto', leaf_s...        0.875660   \n",
       "10  GridSearchCV(cv=5, error_score='raise-deprecat...        0.938778   \n",
       "\n",
       "    Test Accuracy  Train F1 score  Test F1 score  \n",
       "0        0.639577        0.621957       0.591809  \n",
       "1        0.751321        1.000000       0.743289  \n",
       "2        0.769606        0.989907       0.768854  \n",
       "3        0.786266        0.997355       0.776361  \n",
       "4        0.561560        0.611821       0.599332  \n",
       "5        0.652987        0.673700       0.615662  \n",
       "6        0.702560        0.707065       0.682292  \n",
       "7        0.798456        1.000000       0.788756  \n",
       "8        0.798862        0.997770       0.788913  \n",
       "9        0.723283        0.870229       0.711073  \n",
       "10       0.741975        0.936677       0.731046  "
      ]
     },
     "execution_count": 185,
     "metadata": {},
     "output_type": "execute_result"
    }
   ],
   "source": [
    "All_Model_results"
   ]
  },
  {
   "cell_type": "markdown",
   "metadata": {},
   "source": [
    "## model performances"
   ]
  },
  {
   "cell_type": "code",
   "execution_count": 184,
   "metadata": {},
   "outputs": [],
   "source": [
    "All_Model_results.to_csv('All_Model_results.csv',index=False)"
   ]
  },
  {
   "cell_type": "markdown",
   "metadata": {},
   "source": [
    "# summarizing best model results"
   ]
  },
  {
   "cell_type": "markdown",
   "metadata": {},
   "source": [
    "<table style=\"width:100%\">\n",
    " <tr>\n",
    "   <th>Model</th>\n",
    "   <th>Test Accuracy</th>\n",
    "   <th>Train Accuracy</th>\n",
    "   <th>Grid Search - Test Accuracy</th>\n",
    "   <th>Grid Search - Train Accuracy</th>\n",
    "   <th>Test F1 Score</th>\n",
    "   <th>Train F1 Score</th>\n",
    "   <th>Test AUC ROC Curve</th>\n",
    "   <th>Train AUC ROC Curve</th>\n",
    " </tr>\n",
    " <tr>\n",
    "   <th>Bagging - Decision Tree</th>\n",
    "   <th>0.79</th>\n",
    "   <th>0.99</th>\n",
    "   <th>0.80</th>\n",
    "   <th>0.98</th>\n",
    "   <th>0.78</th>\n",
    "   <th>0.99</th>\n",
    "   <th>0.89</th>\n",
    "   <th>0.99</th>\n",
    " </tr>\n",
    "  <tr>\n",
    "   <th>Random Forest Classifer</th>\n",
    "   <th>0.77</th>\n",
    "   <th>0.98</th>\n",
    "   <th>0.78</th>\n",
    "   <th>0.97</th>\n",
    "   <th>0.77</th>\n",
    "   <th>0.97</th>\n",
    "   <th>0.87</th>\n",
    "   <th>1.0</th>\n",
    " </tr>\n",
    " <tr>\n",
    "   <th>Bagging - kNN(k=3(Best))</th>\n",
    "   <th>0.72</th>\n",
    "   <th>0.87</th>\n",
    "   <th>0.74</th>\n",
    "   <th>0.94</th>\n",
    "   <th>0.73</th>\n",
    "   <th>0.94</th>\n",
    "   <th>0.82</th>\n",
    "   <th>0.99</th>\n",
    " </tr>\n",
    "\n",
    "</table>\n",
    "\n",
    "- Bagging model with Decision Tree is giving us best after GridSearchCV(CV=5) results with ~80% test accuracy and 0.78 f1 score\n",
    "- Random Forest Classifier is giving us 2nd best results best after GridSearchCV(CV=5) with ~77% test accuracy and 0.77 f1 score\n",
    "- Bagging model with kNN(k=3) is giving us 3rd best results best after GridSearchCV(CV=5) with ~72% test accuracy and 0.73 f1 score"
   ]
  },
  {
   "cell_type": "code",
   "execution_count": null,
   "metadata": {},
   "outputs": [],
   "source": []
  }
 ],
 "metadata": {
  "kernelspec": {
   "display_name": "Python 3",
   "language": "python",
   "name": "python3"
  },
  "language_info": {
   "codemirror_mode": {
    "name": "ipython",
    "version": 3
   },
   "file_extension": ".py",
   "mimetype": "text/x-python",
   "name": "python",
   "nbconvert_exporter": "python",
   "pygments_lexer": "ipython3",
   "version": "3.7.1"
  }
 },
 "nbformat": 4,
 "nbformat_minor": 2
}
